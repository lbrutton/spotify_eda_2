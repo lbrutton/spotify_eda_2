{
 "cells": [
  {
   "cell_type": "markdown",
   "metadata": {},
   "source": [
    "## Introduction\n",
    "\n",
    "This EDA is a follow up to a previous analysis of this dataset [dataset of 160K tracks taken from Spotify](https://www.kaggle.com/yamaerenay/spotify-dataset-19212020-160k-tracks), which can be found [here](https://github.com/lbrutton/spotify_eda_2). This analysis is also narrated in this [post on Medium] (https://louisbrutton.medium.com/what-makes-a-track-popular-on-spotify-6384b3f3c014).\n",
    "\n",
    "The idea is to refine and extend the analysis by answering the following new questions:\n",
    "- How are the different audio features distributed, is the distribution normal?\n",
    "- How can we engineer/update some of the features to arrive at a distribution that's closer to normal?\n",
    "- Can we update our linear model to make more accurate predictions, taking into account the distribution of the different features?\n",
    "\n",
    "For this EDA, we will be following the standard CRISP-DM framework, starting with..."
   ]
  },
  {
   "cell_type": "markdown",
   "metadata": {},
   "source": [
    "## Business Understanding"
   ]
  },
  {
   "cell_type": "markdown",
   "metadata": {},
   "source": [
    "This dataset of 160K tracks was pulled from the Spotify API by Yamac Eren Ay. \n",
    "\n",
    "Each track has the standard metadata you'd expect (title, artist(s), etc), but also a number of calculated metrics called \"Audio Features\". These allow a more in-depth understanding of each track, by giving information about how the track feels, its mood, its composition, tempo, and much more.\n",
    "\n",
    "There's a good summary of these audio features in [this article](https://towardsdatascience.com/what-makes-a-song-likeable-dbfdb7abe404#:~:text=The%20Spotify%20Web%20API%20developer,beat%20strength%2C%20and%20overall%20regularity.&text=Tempo%3A%20The%20overall%20estimated%20tempo,beats%20per%20minute%20(BPM)):\n",
    "\n",
    "- Danceability: Describes how suitable a track is for dancing based on a combination of musical elements including tempo, rhythm stability, beat strength, and overall regularity.\n",
    "- Valence: Describes the musical positiveness conveyed by a track. Tracks with high valence sound more positive (e.g. happy, cheerful, euphoric), while tracks with low valence sound more negative (e.g. sad, depressed, angry).\n",
    "- Energy: Represents a perceptual measure of intensity and activity. Typically, energetic tracks feel fast, loud, and noisy. For example, death metal has high energy, while a Bach prelude scores low on the scale.\n",
    "- Tempo: The overall estimated tempo of a track in beats per minute (BPM). In musical terminology, tempo is the speed or pace of a given piece, and derives directly from the average beat duration.\n",
    "- Loudness: The overall loudness of a track in decibels (dB). Loudness values are averaged across the entire track and are useful for comparing relative loudness of tracks.\n",
    "- Speechiness: This detects the presence of spoken words in a track. The more exclusively speech-like the recording (e.g. talk show, audio book, poetry), the closer to 1.0 the attribute value.\n",
    "- Instrumentalness: Predicts whether a track contains no vocals. “Ooh” and “aah” sounds are treated as instrumental in this context. Rap or spoken word tracks are clearly “vocal”.\n",
    "- Liveness: Detects the presence of an audience in the recording. Higher liveness values represent an increased probability that the track was performed live.\n",
    "- Acousticness: A confidence measure from 0.0 to 1.0 of whether the track is acoustic.\n",
    "- Key: The estimated overall key of the track. Integers map to pitches using standard Pitch Class notation . E.g. 0 = C, 1 = C♯/D♭, 2 = D, and so on.\n",
    "- Mode: Indicates the modality (major or minor) of a track, the type of scale from which its melodic content is derived. Major is represented by 1 and minor is 0.\n",
    "- Duration: The duration of the track in milliseconds.\n",
    "- Time Signature: An estimated overall time signature of a track. The time signature (meter) is a notational convention to specify how many beats are in each bar (or measure).\n",
    "\n",
    "Each entry in the dataset also has the track's all important \"popularity\". This is a metric derived from the number of times the track has been listened to, with more weight for more recent listens. "
   ]
  },
  {
   "cell_type": "markdown",
   "metadata": {},
   "source": [
    "## Data Understanding\n",
    "\n",
    "We'll start by loading the libraries we need, and then start to explore the data. \n",
    "\n",
    "We'll look at whether the dataset carries any null values, and whether there is information in the other available datasets (genres and artists) that we want to join into this dataset to enrich it."
   ]
  },
  {
   "cell_type": "code",
   "execution_count": 1,
   "metadata": {},
   "outputs": [],
   "source": [
    "%config Completer.use_jedi = False"
   ]
  },
  {
   "cell_type": "markdown",
   "metadata": {},
   "source": [
    "We need to import the following libraries for this EDA:"
   ]
  },
  {
   "cell_type": "code",
   "execution_count": 67,
   "metadata": {},
   "outputs": [],
   "source": [
    "import pandas as pd\n",
    "import matplotlib.pyplot as plt\n",
    "import sklearn as sc\n",
    "from sklearn.model_selection import train_test_split\n",
    "import numpy as np\n",
    "import ast\n",
    "from scipy import stats\n",
    "import seaborn as sns\n",
    "from sklearn.linear_model import LinearRegression\n",
    "from collections import Counter\n",
    "import pdb\n",
    "import scipy.stats as st\n",
    "import math\n",
    "import statsmodels.api as sm\n",
    "from statsmodels.sandbox.regression.predstd import wls_prediction_std "
   ]
  },
  {
   "cell_type": "code",
   "execution_count": 3,
   "metadata": {},
   "outputs": [
    {
     "data": {
      "text/plain": [
       "20"
      ]
     },
     "execution_count": 3,
     "metadata": {},
     "output_type": "execute_result"
    }
   ],
   "source": [
    "pd.set_option('display.max_columns', 20)\n",
    "pd.set_option('display.max_rows', 20)\n",
    "pd.options.display.max_rows"
   ]
  },
  {
   "cell_type": "markdown",
   "metadata": {},
   "source": [
    "We'll start by reading the main file for this dataset:"
   ]
  },
  {
   "cell_type": "code",
   "execution_count": 123,
   "metadata": {},
   "outputs": [
    {
     "data": {
      "text/html": [
       "<div>\n",
       "<style scoped>\n",
       "    .dataframe tbody tr th:only-of-type {\n",
       "        vertical-align: middle;\n",
       "    }\n",
       "\n",
       "    .dataframe tbody tr th {\n",
       "        vertical-align: top;\n",
       "    }\n",
       "\n",
       "    .dataframe thead th {\n",
       "        text-align: right;\n",
       "    }\n",
       "</style>\n",
       "<table border=\"1\" class=\"dataframe\">\n",
       "  <thead>\n",
       "    <tr style=\"text-align: right;\">\n",
       "      <th></th>\n",
       "      <th>valence</th>\n",
       "      <th>year</th>\n",
       "      <th>acousticness</th>\n",
       "      <th>artists</th>\n",
       "      <th>danceability</th>\n",
       "      <th>duration_ms</th>\n",
       "      <th>energy</th>\n",
       "      <th>explicit</th>\n",
       "      <th>id</th>\n",
       "      <th>instrumentalness</th>\n",
       "      <th>key</th>\n",
       "      <th>liveness</th>\n",
       "      <th>loudness</th>\n",
       "      <th>mode</th>\n",
       "      <th>name</th>\n",
       "      <th>popularity</th>\n",
       "      <th>release_date</th>\n",
       "      <th>speechiness</th>\n",
       "      <th>tempo</th>\n",
       "    </tr>\n",
       "  </thead>\n",
       "  <tbody>\n",
       "    <tr>\n",
       "      <th>0</th>\n",
       "      <td>0.0594</td>\n",
       "      <td>1921</td>\n",
       "      <td>0.982</td>\n",
       "      <td>['Sergei Rachmaninoff', 'James Levine', 'Berli...</td>\n",
       "      <td>0.279</td>\n",
       "      <td>831667</td>\n",
       "      <td>0.211</td>\n",
       "      <td>0</td>\n",
       "      <td>4BJqT0PrAfrxzMOxytFOIz</td>\n",
       "      <td>0.878000</td>\n",
       "      <td>10</td>\n",
       "      <td>0.665</td>\n",
       "      <td>-20.096</td>\n",
       "      <td>1</td>\n",
       "      <td>Piano Concerto No. 3 in D Minor, Op. 30: III. ...</td>\n",
       "      <td>4</td>\n",
       "      <td>1921</td>\n",
       "      <td>0.0366</td>\n",
       "      <td>80.954</td>\n",
       "    </tr>\n",
       "    <tr>\n",
       "      <th>1</th>\n",
       "      <td>0.9630</td>\n",
       "      <td>1921</td>\n",
       "      <td>0.732</td>\n",
       "      <td>['Dennis Day']</td>\n",
       "      <td>0.819</td>\n",
       "      <td>180533</td>\n",
       "      <td>0.341</td>\n",
       "      <td>0</td>\n",
       "      <td>7xPhfUan2yNtyFG0cUWkt8</td>\n",
       "      <td>0.000000</td>\n",
       "      <td>7</td>\n",
       "      <td>0.160</td>\n",
       "      <td>-12.441</td>\n",
       "      <td>1</td>\n",
       "      <td>Clancy Lowered the Boom</td>\n",
       "      <td>5</td>\n",
       "      <td>1921</td>\n",
       "      <td>0.4150</td>\n",
       "      <td>60.936</td>\n",
       "    </tr>\n",
       "    <tr>\n",
       "      <th>2</th>\n",
       "      <td>0.0394</td>\n",
       "      <td>1921</td>\n",
       "      <td>0.961</td>\n",
       "      <td>['KHP Kridhamardawa Karaton Ngayogyakarta Hadi...</td>\n",
       "      <td>0.328</td>\n",
       "      <td>500062</td>\n",
       "      <td>0.166</td>\n",
       "      <td>0</td>\n",
       "      <td>1o6I8BglA6ylDMrIELygv1</td>\n",
       "      <td>0.913000</td>\n",
       "      <td>3</td>\n",
       "      <td>0.101</td>\n",
       "      <td>-14.850</td>\n",
       "      <td>1</td>\n",
       "      <td>Gati Bali</td>\n",
       "      <td>5</td>\n",
       "      <td>1921</td>\n",
       "      <td>0.0339</td>\n",
       "      <td>110.339</td>\n",
       "    </tr>\n",
       "    <tr>\n",
       "      <th>3</th>\n",
       "      <td>0.1650</td>\n",
       "      <td>1921</td>\n",
       "      <td>0.967</td>\n",
       "      <td>['Frank Parker']</td>\n",
       "      <td>0.275</td>\n",
       "      <td>210000</td>\n",
       "      <td>0.309</td>\n",
       "      <td>0</td>\n",
       "      <td>3ftBPsC5vPBKxYSee08FDH</td>\n",
       "      <td>0.000028</td>\n",
       "      <td>5</td>\n",
       "      <td>0.381</td>\n",
       "      <td>-9.316</td>\n",
       "      <td>1</td>\n",
       "      <td>Danny Boy</td>\n",
       "      <td>3</td>\n",
       "      <td>1921</td>\n",
       "      <td>0.0354</td>\n",
       "      <td>100.109</td>\n",
       "    </tr>\n",
       "    <tr>\n",
       "      <th>4</th>\n",
       "      <td>0.2530</td>\n",
       "      <td>1921</td>\n",
       "      <td>0.957</td>\n",
       "      <td>['Phil Regan']</td>\n",
       "      <td>0.418</td>\n",
       "      <td>166693</td>\n",
       "      <td>0.193</td>\n",
       "      <td>0</td>\n",
       "      <td>4d6HGyGT8e121BsdKmw9v6</td>\n",
       "      <td>0.000002</td>\n",
       "      <td>3</td>\n",
       "      <td>0.229</td>\n",
       "      <td>-10.096</td>\n",
       "      <td>1</td>\n",
       "      <td>When Irish Eyes Are Smiling</td>\n",
       "      <td>2</td>\n",
       "      <td>1921</td>\n",
       "      <td>0.0380</td>\n",
       "      <td>101.665</td>\n",
       "    </tr>\n",
       "  </tbody>\n",
       "</table>\n",
       "</div>"
      ],
      "text/plain": [
       "   valence  year  acousticness  \\\n",
       "0   0.0594  1921         0.982   \n",
       "1   0.9630  1921         0.732   \n",
       "2   0.0394  1921         0.961   \n",
       "3   0.1650  1921         0.967   \n",
       "4   0.2530  1921         0.957   \n",
       "\n",
       "                                             artists  danceability  \\\n",
       "0  ['Sergei Rachmaninoff', 'James Levine', 'Berli...         0.279   \n",
       "1                                     ['Dennis Day']         0.819   \n",
       "2  ['KHP Kridhamardawa Karaton Ngayogyakarta Hadi...         0.328   \n",
       "3                                   ['Frank Parker']         0.275   \n",
       "4                                     ['Phil Regan']         0.418   \n",
       "\n",
       "   duration_ms  energy  explicit                      id  instrumentalness  \\\n",
       "0       831667   0.211         0  4BJqT0PrAfrxzMOxytFOIz          0.878000   \n",
       "1       180533   0.341         0  7xPhfUan2yNtyFG0cUWkt8          0.000000   \n",
       "2       500062   0.166         0  1o6I8BglA6ylDMrIELygv1          0.913000   \n",
       "3       210000   0.309         0  3ftBPsC5vPBKxYSee08FDH          0.000028   \n",
       "4       166693   0.193         0  4d6HGyGT8e121BsdKmw9v6          0.000002   \n",
       "\n",
       "   key  liveness  loudness  mode  \\\n",
       "0   10     0.665   -20.096     1   \n",
       "1    7     0.160   -12.441     1   \n",
       "2    3     0.101   -14.850     1   \n",
       "3    5     0.381    -9.316     1   \n",
       "4    3     0.229   -10.096     1   \n",
       "\n",
       "                                                name  popularity release_date  \\\n",
       "0  Piano Concerto No. 3 in D Minor, Op. 30: III. ...           4         1921   \n",
       "1                            Clancy Lowered the Boom           5         1921   \n",
       "2                                          Gati Bali           5         1921   \n",
       "3                                          Danny Boy           3         1921   \n",
       "4                        When Irish Eyes Are Smiling           2         1921   \n",
       "\n",
       "   speechiness    tempo  \n",
       "0       0.0366   80.954  \n",
       "1       0.4150   60.936  \n",
       "2       0.0339  110.339  \n",
       "3       0.0354  100.109  \n",
       "4       0.0380  101.665  "
      ]
     },
     "execution_count": 123,
     "metadata": {},
     "output_type": "execute_result"
    }
   ],
   "source": [
    "df = pd.read_csv('data.csv')\n",
    "df.head()"
   ]
  },
  {
   "cell_type": "code",
   "execution_count": 124,
   "metadata": {},
   "outputs": [
    {
     "data": {
      "text/html": [
       "<div>\n",
       "<style scoped>\n",
       "    .dataframe tbody tr th:only-of-type {\n",
       "        vertical-align: middle;\n",
       "    }\n",
       "\n",
       "    .dataframe tbody tr th {\n",
       "        vertical-align: top;\n",
       "    }\n",
       "\n",
       "    .dataframe thead th {\n",
       "        text-align: right;\n",
       "    }\n",
       "</style>\n",
       "<table border=\"1\" class=\"dataframe\">\n",
       "  <thead>\n",
       "    <tr style=\"text-align: right;\">\n",
       "      <th></th>\n",
       "      <th>name</th>\n",
       "      <th>year</th>\n",
       "      <th>artists</th>\n",
       "      <th>valence</th>\n",
       "      <th>acousticness</th>\n",
       "      <th>danceability</th>\n",
       "      <th>duration_ms</th>\n",
       "      <th>energy</th>\n",
       "      <th>explicit</th>\n",
       "      <th>popularity</th>\n",
       "    </tr>\n",
       "  </thead>\n",
       "  <tbody>\n",
       "    <tr>\n",
       "      <th>84206</th>\n",
       "      <td>Sunset People</td>\n",
       "      <td>1979</td>\n",
       "      <td>['Donna Summer']</td>\n",
       "      <td>0.948</td>\n",
       "      <td>0.0173</td>\n",
       "      <td>0.722</td>\n",
       "      <td>272907</td>\n",
       "      <td>0.559</td>\n",
       "      <td>0</td>\n",
       "      <td>34</td>\n",
       "    </tr>\n",
       "    <tr>\n",
       "      <th>110916</th>\n",
       "      <td>Mia xoriani me lavose</td>\n",
       "      <td>1950</td>\n",
       "      <td>['Katina Meidani', 'Giorgos Anestopoulos', 'Kl...</td>\n",
       "      <td>0.653</td>\n",
       "      <td>0.9870</td>\n",
       "      <td>0.367</td>\n",
       "      <td>202760</td>\n",
       "      <td>0.527</td>\n",
       "      <td>0</td>\n",
       "      <td>0</td>\n",
       "    </tr>\n",
       "    <tr>\n",
       "      <th>42363</th>\n",
       "      <td>Часть 90.4 &amp; Часть 91.1 - Триумфальная арка</td>\n",
       "      <td>1945</td>\n",
       "      <td>['Эрих Мария Ремарк']</td>\n",
       "      <td>0.482</td>\n",
       "      <td>0.1260</td>\n",
       "      <td>0.689</td>\n",
       "      <td>143372</td>\n",
       "      <td>0.140</td>\n",
       "      <td>1</td>\n",
       "      <td>0</td>\n",
       "    </tr>\n",
       "    <tr>\n",
       "      <th>117044</th>\n",
       "      <td>Samson and Delilah - Live; 2008 Remaster</td>\n",
       "      <td>1981</td>\n",
       "      <td>['Grateful Dead']</td>\n",
       "      <td>0.828</td>\n",
       "      <td>0.1380</td>\n",
       "      <td>0.679</td>\n",
       "      <td>306680</td>\n",
       "      <td>0.734</td>\n",
       "      <td>0</td>\n",
       "      <td>25</td>\n",
       "    </tr>\n",
       "    <tr>\n",
       "      <th>87458</th>\n",
       "      <td>Let You Down</td>\n",
       "      <td>1996</td>\n",
       "      <td>['Dave Matthews Band']</td>\n",
       "      <td>0.628</td>\n",
       "      <td>0.7880</td>\n",
       "      <td>0.723</td>\n",
       "      <td>247400</td>\n",
       "      <td>0.303</td>\n",
       "      <td>0</td>\n",
       "      <td>39</td>\n",
       "    </tr>\n",
       "  </tbody>\n",
       "</table>\n",
       "</div>"
      ],
      "text/plain": [
       "                                               name  year  \\\n",
       "84206                                 Sunset People  1979   \n",
       "110916                        Mia xoriani me lavose  1950   \n",
       "42363   Часть 90.4 & Часть 91.1 - Триумфальная арка  1945   \n",
       "117044     Samson and Delilah - Live; 2008 Remaster  1981   \n",
       "87458                                  Let You Down  1996   \n",
       "\n",
       "                                                  artists  valence  \\\n",
       "84206                                    ['Donna Summer']    0.948   \n",
       "110916  ['Katina Meidani', 'Giorgos Anestopoulos', 'Kl...    0.653   \n",
       "42363                               ['Эрих Мария Ремарк']    0.482   \n",
       "117044                                  ['Grateful Dead']    0.828   \n",
       "87458                              ['Dave Matthews Band']    0.628   \n",
       "\n",
       "        acousticness  danceability  duration_ms  energy  explicit  popularity  \n",
       "84206         0.0173         0.722       272907   0.559         0          34  \n",
       "110916        0.9870         0.367       202760   0.527         0           0  \n",
       "42363         0.1260         0.689       143372   0.140         1           0  \n",
       "117044        0.1380         0.679       306680   0.734         0          25  \n",
       "87458         0.7880         0.723       247400   0.303         0          39  "
      ]
     },
     "execution_count": 124,
     "metadata": {},
     "output_type": "execute_result"
    }
   ],
   "source": [
    "df[['name','year','artists','valence','acousticness','danceability','duration_ms','energy','explicit','popularity']].sample(n=5)"
   ]
  },
  {
   "cell_type": "markdown",
   "metadata": {},
   "source": [
    "Let's check the dataset for null values:"
   ]
  },
  {
   "cell_type": "code",
   "execution_count": 125,
   "metadata": {},
   "outputs": [
    {
     "data": {
      "text/plain": [
       "valence             0\n",
       "year                0\n",
       "acousticness        0\n",
       "artists             0\n",
       "danceability        0\n",
       "duration_ms         0\n",
       "energy              0\n",
       "explicit            0\n",
       "id                  0\n",
       "instrumentalness    0\n",
       "key                 0\n",
       "liveness            0\n",
       "loudness            0\n",
       "mode                0\n",
       "name                0\n",
       "popularity          0\n",
       "release_date        0\n",
       "speechiness         0\n",
       "tempo               0\n",
       "dtype: int64"
      ]
     },
     "execution_count": 125,
     "metadata": {},
     "output_type": "execute_result"
    }
   ],
   "source": [
    "total_null_counts = np.sum(df.isnull())\n",
    "total_null_counts"
   ]
  },
  {
   "cell_type": "markdown",
   "metadata": {},
   "source": [
    "We see that there are no null values in this dataset - good stuff."
   ]
  },
  {
   "cell_type": "markdown",
   "metadata": {},
   "source": [
    "We are mostly going to be interested in the popularity score here, so let's see how it's distributed:"
   ]
  },
  {
   "cell_type": "code",
   "execution_count": 126,
   "metadata": {},
   "outputs": [
    {
     "data": {
      "text/plain": [
       "<BarContainer object of 100 artists>"
      ]
     },
     "execution_count": 126,
     "metadata": {},
     "output_type": "execute_result"
    },
    {
     "data": {
      "image/png": "[encoded data removed]",
      "text/plain": [
       "<Figure size 432x288 with 1 Axes>"
      ]
     },
     "metadata": {
      "needs_background": "light"
     },
     "output_type": "display_data"
    }
   ],
   "source": [
    "plt.bar(df['popularity'].value_counts().index, df['popularity'].value_counts().values)"
   ]
  },
  {
   "cell_type": "markdown",
   "metadata": {},
   "source": [
    "We see that the dataset is not normally distributed, but rather bimodial, with a large number of tracks being assigned a value between 0 and 5. These are most likely the tracks that have just been launched and get no listens at all. \n",
    "With this in mind, it could make sense to think of breaking up the model into two parts:\n",
    "\n",
    "1) First, build a model to predict how likely it is for a song to get more than 0 in popularity. Ie we would build a mode to predict an output of 0 or 1, based on the audio features, with 0 being songs with a popularity score of between 0 and 5, and 1 being anything else. We would use a logistic regression here.\n",
    "\n",
    "2) Build a model predicting the popularity of the songs that have at least one as their popularity score. With the zeroes removed, we can more accurately make the assumption that the output popularity score is normally distributed."
   ]
  },
  {
   "cell_type": "markdown",
   "metadata": {},
   "source": [
    "## Preparing the data\n",
    "\n",
    "Now that we have an idea of how this dataset is constructed, let's make some changes to be able to start building our models. There are no null values in the base dataset, which means we don't need to worry about deleting nulls or imputing missing values.\n",
    "\n",
    "However, we will want to split tracks into two groups, to build our model:\n",
    "\n",
    "1) songs that have 0 as their popularity score\n",
    "\n",
    "2) songs that have more than 0 as their popularity score"
   ]
  },
  {
   "cell_type": "markdown",
   "metadata": {},
   "source": [
    "So let's start by adding a column to our dataframe with a 0 or 1 based on whether the song has been listened to or not:"
   ]
  },
  {
   "cell_type": "code",
   "execution_count": 127,
   "metadata": {},
   "outputs": [],
   "source": [
    "def check_popularity(score):\n",
    "    if score > 5:\n",
    "        return 1\n",
    "    else:\n",
    "        #pdb.set_trace()\n",
    "        return 0"
   ]
  },
  {
   "cell_type": "code",
   "execution_count": 128,
   "metadata": {},
   "outputs": [
    {
     "data": {
      "text/plain": [
       "1    134553\n",
       "0     36100\n",
       "Name: popularity, dtype: int64"
      ]
     },
     "execution_count": 128,
     "metadata": {},
     "output_type": "execute_result"
    }
   ],
   "source": [
    "df['popularity'].apply(check_popularity).value_counts()"
   ]
  },
  {
   "cell_type": "code",
   "execution_count": 129,
   "metadata": {},
   "outputs": [],
   "source": [
    "df['popular_or_not'] = df['popularity'].apply(check_popularity)"
   ]
  },
  {
   "cell_type": "markdown",
   "metadata": {},
   "source": [
    "And now, with the tracks that have a popularity score of 0 to 5 removed, we get the following distribution for the popularity score:"
   ]
  },
  {
   "cell_type": "code",
   "execution_count": 130,
   "metadata": {},
   "outputs": [
    {
     "data": {
      "text/plain": [
       "<BarContainer object of 94 artists>"
      ]
     },
     "execution_count": 130,
     "metadata": {},
     "output_type": "execute_result"
    },
    {
     "data": {
      "image/png": "[encoded data removed]",
      "text/plain": [
       "<Figure size 432x288 with 1 Axes>"
      ]
     },
     "metadata": {
      "needs_background": "light"
     },
     "output_type": "display_data"
    }
   ],
   "source": [
    "plt.bar(df['popularity'][df['popular_or_not'] == 1].value_counts().index, df['popularity'][df['popular_or_not'] == 1].value_counts())"
   ]
  },
  {
   "cell_type": "markdown",
   "metadata": {},
   "source": [
    "We still don't have a proper normal distribution, but it's looking a \"lot better\"."
   ]
  },
  {
   "cell_type": "markdown",
   "metadata": {},
   "source": [
    "Let's also look at how all the other audio features are distributed:"
   ]
  },
  {
   "cell_type": "markdown",
   "metadata": {},
   "source": [
    "Credit for the solution below to: https://stackoverflow.com/questions/37487830/how-to-find-probability-distribution-and-parameters-for-real-data-python-3"
   ]
  },
  {
   "cell_type": "code",
   "execution_count": 131,
   "metadata": {},
   "outputs": [],
   "source": [
    "def get_best_distribution(data):\n",
    "    dist_names = [\"norm\", \"exponweib\", \"weibull_max\", \"weibull_min\", \"pareto\", \"genextreme\"]\n",
    "    dist_results = []\n",
    "    params = {}\n",
    "    for dist_name in dist_names:\n",
    "        dist = getattr(st, dist_name)\n",
    "        param = dist.fit(data)\n",
    "\n",
    "        params[dist_name] = param\n",
    "        # Applying the Kolmogorov-Smirnov test\n",
    "        D, p = st.kstest(data, dist_name, args=param)\n",
    "        print(\"p value for \"+dist_name+\" = \"+str(p))\n",
    "        dist_results.append((dist_name, p))\n",
    "\n",
    "    # select the best fitted distribution\n",
    "    best_dist, best_p = (max(dist_results, key=lambda item: item[1]))\n",
    "    # store the name of the best fit and its p value\n",
    "\n",
    "    print(\"Best fitting distribution: \"+str(best_dist))\n",
    "    print(\"Best p value: \"+ str(best_p))\n",
    "    print(\"Parameters for the best fit: \"+ str(params[best_dist]))\n",
    "\n",
    "    return best_dist, best_p, params[best_dist]"
   ]
  },
  {
   "cell_type": "code",
   "execution_count": 132,
   "metadata": {},
   "outputs": [
    {
     "data": {
      "text/plain": [
       "(array([5.9555e+04, 9.8227e+04, 9.6030e+03, 2.0200e+03, 5.8900e+02,\n",
       "        2.6100e+02, 1.4600e+02, 8.2000e+01, 3.0000e+01, 3.2000e+01,\n",
       "        2.2000e+01, 1.1000e+01, 1.9000e+01, 1.9000e+01, 9.0000e+00,\n",
       "        6.0000e+00, 1.0000e+00, 3.0000e+00, 1.0000e+00, 1.0000e+01,\n",
       "        1.0000e+00, 1.0000e+00, 2.0000e+00, 2.0000e+00, 0.0000e+00,\n",
       "        0.0000e+00, 0.0000e+00, 0.0000e+00, 0.0000e+00, 1.0000e+00]),\n",
       " array([5.1080000e+03, 1.8505440e+05, 3.6500080e+05, 5.4494720e+05,\n",
       "        7.2489360e+05, 9.0484000e+05, 1.0847864e+06, 1.2647328e+06,\n",
       "        1.4446792e+06, 1.6246256e+06, 1.8045720e+06, 1.9845184e+06,\n",
       "        2.1644648e+06, 2.3444112e+06, 2.5243576e+06, 2.7043040e+06,\n",
       "        2.8842504e+06, 3.0641968e+06, 3.2441432e+06, 3.4240896e+06,\n",
       "        3.6040360e+06, 3.7839824e+06, 3.9639288e+06, 4.1438752e+06,\n",
       "        4.3238216e+06, 4.5037680e+06, 4.6837144e+06, 4.8636608e+06,\n",
       "        5.0436072e+06, 5.2235536e+06, 5.4035000e+06]),\n",
       " <BarContainer object of 30 artists>)"
      ]
     },
     "execution_count": 132,
     "metadata": {},
     "output_type": "execute_result"
    },
    {
     "data": {
      "image/png": "[encoded data removed]",
      "text/plain": [
       "<Figure size 432x288 with 1 Axes>"
      ]
     },
     "metadata": {
      "needs_background": "light"
     },
     "output_type": "display_data"
    }
   ],
   "source": [
    "plt.hist(df['duration_ms'], bins=30)"
   ]
  },
  {
   "cell_type": "code",
   "execution_count": 133,
   "metadata": {},
   "outputs": [],
   "source": [
    "df['duration_log'] = np.log(df['duration_ms'])"
   ]
  },
  {
   "cell_type": "code",
   "execution_count": 134,
   "metadata": {},
   "outputs": [
    {
     "data": {
      "text/plain": [
       "(array([3.0000e+00, 1.0000e+00, 3.0000e+00, 2.0000e+00, 1.2000e+01,\n",
       "        3.9000e+01, 5.7000e+01, 1.5800e+02, 3.3800e+02, 5.4100e+02,\n",
       "        8.3700e+02, 1.4010e+03, 3.7180e+03, 8.2670e+03, 2.3627e+04,\n",
       "        4.8436e+04, 4.1588e+04, 2.3942e+04, 9.7940e+03, 4.2950e+03,\n",
       "        1.9790e+03, 8.2700e+02, 3.7600e+02, 1.9800e+02, 8.0000e+01,\n",
       "        5.7000e+01, 4.8000e+01, 1.2000e+01, 1.6000e+01, 1.0000e+00]),\n",
       " array([ 8.53856322,  8.77069636,  9.0028295 ,  9.23496264,  9.46709578,\n",
       "         9.69922892,  9.93136206, 10.1634952 , 10.39562835, 10.62776149,\n",
       "        10.85989463, 11.09202777, 11.32416091, 11.55629405, 11.78842719,\n",
       "        12.02056033, 12.25269347, 12.48482662, 12.71695976, 12.9490929 ,\n",
       "        13.18122604, 13.41335918, 13.64549232, 13.87762546, 14.1097586 ,\n",
       "        14.34189174, 14.57402489, 14.80615803, 15.03829117, 15.27042431,\n",
       "        15.50255745]),\n",
       " <BarContainer object of 30 artists>)"
      ]
     },
     "execution_count": 134,
     "metadata": {},
     "output_type": "execute_result"
    },
    {
     "data": {
      "image/png": "[encoded data removed]",
      "text/plain": [
       "<Figure size 432x288 with 1 Axes>"
      ]
     },
     "metadata": {
      "needs_background": "light"
     },
     "output_type": "display_data"
    }
   ],
   "source": [
    "plt.hist(df['duration_log'], bins=30)"
   ]
  },
  {
   "cell_type": "markdown",
   "metadata": {},
   "source": [
    "We see above that taking the log of the track duration gives us a distribution that is closer to normal. Applying the get_best_distribution function to both the duration_ms column and the log of the duration_ms column, we get the following:"
   ]
  },
  {
   "cell_type": "code",
   "execution_count": 135,
   "metadata": {},
   "outputs": [
    {
     "name": "stdout",
     "output_type": "stream",
     "text": [
      "p value for norm = 0.0\n"
     ]
    },
    {
     "name": "stderr",
     "output_type": "stream",
     "text": [
      "C:\\Users\\lbrutton\\Miniconda\\envs\\spotify_eda\\lib\\site-packages\\scipy\\stats\\_continuous_distns.py:1676: RuntimeWarning: invalid value encountered in add\n",
      "  logp = (np.log(a) + np.log(c) + sc.xlogy(a - 1.0, exm1c) +\n"
     ]
    },
    {
     "name": "stdout",
     "output_type": "stream",
     "text": [
      "p value for exponweib = 0.0\n",
      "p value for weibull_max = 0.0\n",
      "p value for weibull_min = 0.0\n"
     ]
    },
    {
     "name": "stderr",
     "output_type": "stream",
     "text": [
      "C:\\Users\\lbrutton\\Miniconda\\envs\\spotify_eda\\lib\\site-packages\\scipy\\stats\\_distn_infrastructure.py:2494: RuntimeWarning: invalid value encountered in double_scalars\n",
      "  Lhat = muhat - Shat*mu\n"
     ]
    },
    {
     "name": "stdout",
     "output_type": "stream",
     "text": [
      "p value for pareto = 0.0\n",
      "p value for genextreme = 0.0\n",
      "Best fitting distribution: norm\n",
      "Best p value: 0.0\n",
      "Parameters for the best fit: (230948.3106655025, 126118.04515039867)\n"
     ]
    },
    {
     "data": {
      "text/plain": [
       "('norm', 0.0, (230948.3106655025, 126118.04515039867))"
      ]
     },
     "execution_count": 135,
     "metadata": {},
     "output_type": "execute_result"
    }
   ],
   "source": [
    "get_best_distribution(df['duration_ms'])"
   ]
  },
  {
   "cell_type": "code",
   "execution_count": 136,
   "metadata": {
    "collapsed": true
   },
   "outputs": [
    {
     "name": "stdout",
     "output_type": "stream",
     "text": [
      "p value for norm = 0.0\n"
     ]
    },
    {
     "ename": "KeyboardInterrupt",
     "evalue": "",
     "output_type": "error",
     "traceback": [
      "\u001b[1;31m---------------------------------------------------------------------------\u001b[0m",
      "\u001b[1;31mKeyboardInterrupt\u001b[0m                         Traceback (most recent call last)",
      "\u001b[1;32m<ipython-input-136-9db3d647126b>\u001b[0m in \u001b[0;36m<module>\u001b[1;34m\u001b[0m\n\u001b[1;32m----> 1\u001b[1;33m \u001b[0mget_best_distribution\u001b[0m\u001b[1;33m(\u001b[0m\u001b[0mdf\u001b[0m\u001b[1;33m[\u001b[0m\u001b[1;34m'duration_log'\u001b[0m\u001b[1;33m]\u001b[0m\u001b[1;33m)\u001b[0m\u001b[1;33m\u001b[0m\u001b[1;33m\u001b[0m\u001b[0m\n\u001b[0m",
      "\u001b[1;32m<ipython-input-131-748844233a44>\u001b[0m in \u001b[0;36mget_best_distribution\u001b[1;34m(data)\u001b[0m\n\u001b[0;32m      5\u001b[0m     \u001b[1;32mfor\u001b[0m \u001b[0mdist_name\u001b[0m \u001b[1;32min\u001b[0m \u001b[0mdist_names\u001b[0m\u001b[1;33m:\u001b[0m\u001b[1;33m\u001b[0m\u001b[1;33m\u001b[0m\u001b[0m\n\u001b[0;32m      6\u001b[0m         \u001b[0mdist\u001b[0m \u001b[1;33m=\u001b[0m \u001b[0mgetattr\u001b[0m\u001b[1;33m(\u001b[0m\u001b[0mst\u001b[0m\u001b[1;33m,\u001b[0m \u001b[0mdist_name\u001b[0m\u001b[1;33m)\u001b[0m\u001b[1;33m\u001b[0m\u001b[1;33m\u001b[0m\u001b[0m\n\u001b[1;32m----> 7\u001b[1;33m         \u001b[0mparam\u001b[0m \u001b[1;33m=\u001b[0m \u001b[0mdist\u001b[0m\u001b[1;33m.\u001b[0m\u001b[0mfit\u001b[0m\u001b[1;33m(\u001b[0m\u001b[0mdata\u001b[0m\u001b[1;33m)\u001b[0m\u001b[1;33m\u001b[0m\u001b[1;33m\u001b[0m\u001b[0m\n\u001b[0m\u001b[0;32m      8\u001b[0m \u001b[1;33m\u001b[0m\u001b[0m\n\u001b[0;32m      9\u001b[0m         \u001b[0mparams\u001b[0m\u001b[1;33m[\u001b[0m\u001b[0mdist_name\u001b[0m\u001b[1;33m]\u001b[0m \u001b[1;33m=\u001b[0m \u001b[0mparam\u001b[0m\u001b[1;33m\u001b[0m\u001b[1;33m\u001b[0m\u001b[0m\n",
      "\u001b[1;32m~\\Miniconda\\envs\\spotify_eda\\lib\\site-packages\\scipy\\stats\\_distn_infrastructure.py\u001b[0m in \u001b[0;36mfit\u001b[1;34m(self, data, *args, **kwds)\u001b[0m\n\u001b[0;32m   2395\u001b[0m             \u001b[1;32mraise\u001b[0m \u001b[0mTypeError\u001b[0m\u001b[1;33m(\u001b[0m\u001b[1;34m\"Unknown arguments: %s.\"\u001b[0m \u001b[1;33m%\u001b[0m \u001b[0mkwds\u001b[0m\u001b[1;33m)\u001b[0m\u001b[1;33m\u001b[0m\u001b[1;33m\u001b[0m\u001b[0m\n\u001b[0;32m   2396\u001b[0m \u001b[1;33m\u001b[0m\u001b[0m\n\u001b[1;32m-> 2397\u001b[1;33m         \u001b[0mvals\u001b[0m \u001b[1;33m=\u001b[0m \u001b[0moptimizer\u001b[0m\u001b[1;33m(\u001b[0m\u001b[0mfunc\u001b[0m\u001b[1;33m,\u001b[0m \u001b[0mx0\u001b[0m\u001b[1;33m,\u001b[0m \u001b[0margs\u001b[0m\u001b[1;33m=\u001b[0m\u001b[1;33m(\u001b[0m\u001b[0mravel\u001b[0m\u001b[1;33m(\u001b[0m\u001b[0mdata\u001b[0m\u001b[1;33m)\u001b[0m\u001b[1;33m,\u001b[0m\u001b[1;33m)\u001b[0m\u001b[1;33m,\u001b[0m \u001b[0mdisp\u001b[0m\u001b[1;33m=\u001b[0m\u001b[1;36m0\u001b[0m\u001b[1;33m)\u001b[0m\u001b[1;33m\u001b[0m\u001b[1;33m\u001b[0m\u001b[0m\n\u001b[0m\u001b[0;32m   2398\u001b[0m         \u001b[1;32mif\u001b[0m \u001b[0mrestore\u001b[0m \u001b[1;32mis\u001b[0m \u001b[1;32mnot\u001b[0m \u001b[1;32mNone\u001b[0m\u001b[1;33m:\u001b[0m\u001b[1;33m\u001b[0m\u001b[1;33m\u001b[0m\u001b[0m\n\u001b[0;32m   2399\u001b[0m             \u001b[0mvals\u001b[0m \u001b[1;33m=\u001b[0m \u001b[0mrestore\u001b[0m\u001b[1;33m(\u001b[0m\u001b[0margs\u001b[0m\u001b[1;33m,\u001b[0m \u001b[0mvals\u001b[0m\u001b[1;33m)\u001b[0m\u001b[1;33m\u001b[0m\u001b[1;33m\u001b[0m\u001b[0m\n",
      "\u001b[1;32m~\\Miniconda\\envs\\spotify_eda\\lib\\site-packages\\scipy\\optimize\\optimize.py\u001b[0m in \u001b[0;36mfmin\u001b[1;34m(func, x0, args, xtol, ftol, maxiter, maxfun, full_output, disp, retall, callback, initial_simplex)\u001b[0m\n\u001b[0;32m    575\u001b[0m             'initial_simplex': initial_simplex}\n\u001b[0;32m    576\u001b[0m \u001b[1;33m\u001b[0m\u001b[0m\n\u001b[1;32m--> 577\u001b[1;33m     \u001b[0mres\u001b[0m \u001b[1;33m=\u001b[0m \u001b[0m_minimize_neldermead\u001b[0m\u001b[1;33m(\u001b[0m\u001b[0mfunc\u001b[0m\u001b[1;33m,\u001b[0m \u001b[0mx0\u001b[0m\u001b[1;33m,\u001b[0m \u001b[0margs\u001b[0m\u001b[1;33m,\u001b[0m \u001b[0mcallback\u001b[0m\u001b[1;33m=\u001b[0m\u001b[0mcallback\u001b[0m\u001b[1;33m,\u001b[0m \u001b[1;33m**\u001b[0m\u001b[0mopts\u001b[0m\u001b[1;33m)\u001b[0m\u001b[1;33m\u001b[0m\u001b[1;33m\u001b[0m\u001b[0m\n\u001b[0m\u001b[0;32m    578\u001b[0m     \u001b[1;32mif\u001b[0m \u001b[0mfull_output\u001b[0m\u001b[1;33m:\u001b[0m\u001b[1;33m\u001b[0m\u001b[1;33m\u001b[0m\u001b[0m\n\u001b[0;32m    579\u001b[0m         \u001b[0mretlist\u001b[0m \u001b[1;33m=\u001b[0m \u001b[0mres\u001b[0m\u001b[1;33m[\u001b[0m\u001b[1;34m'x'\u001b[0m\u001b[1;33m]\u001b[0m\u001b[1;33m,\u001b[0m \u001b[0mres\u001b[0m\u001b[1;33m[\u001b[0m\u001b[1;34m'fun'\u001b[0m\u001b[1;33m]\u001b[0m\u001b[1;33m,\u001b[0m \u001b[0mres\u001b[0m\u001b[1;33m[\u001b[0m\u001b[1;34m'nit'\u001b[0m\u001b[1;33m]\u001b[0m\u001b[1;33m,\u001b[0m \u001b[0mres\u001b[0m\u001b[1;33m[\u001b[0m\u001b[1;34m'nfev'\u001b[0m\u001b[1;33m]\u001b[0m\u001b[1;33m,\u001b[0m \u001b[0mres\u001b[0m\u001b[1;33m[\u001b[0m\u001b[1;34m'status'\u001b[0m\u001b[1;33m]\u001b[0m\u001b[1;33m\u001b[0m\u001b[1;33m\u001b[0m\u001b[0m\n",
      "\u001b[1;32m~\\Miniconda\\envs\\spotify_eda\\lib\\site-packages\\scipy\\optimize\\optimize.py\u001b[0m in \u001b[0;36m_minimize_neldermead\u001b[1;34m(func, x0, args, callback, maxiter, maxfev, disp, return_all, initial_simplex, xatol, fatol, adaptive, **unknown_options)\u001b[0m\n\u001b[0;32m    742\u001b[0m         \u001b[1;32mif\u001b[0m \u001b[0mfxr\u001b[0m \u001b[1;33m<\u001b[0m \u001b[0mfsim\u001b[0m\u001b[1;33m[\u001b[0m\u001b[1;36m0\u001b[0m\u001b[1;33m]\u001b[0m\u001b[1;33m:\u001b[0m\u001b[1;33m\u001b[0m\u001b[1;33m\u001b[0m\u001b[0m\n\u001b[0;32m    743\u001b[0m             \u001b[0mxe\u001b[0m \u001b[1;33m=\u001b[0m \u001b[1;33m(\u001b[0m\u001b[1;36m1\u001b[0m \u001b[1;33m+\u001b[0m \u001b[0mrho\u001b[0m \u001b[1;33m*\u001b[0m \u001b[0mchi\u001b[0m\u001b[1;33m)\u001b[0m \u001b[1;33m*\u001b[0m \u001b[0mxbar\u001b[0m \u001b[1;33m-\u001b[0m \u001b[0mrho\u001b[0m \u001b[1;33m*\u001b[0m \u001b[0mchi\u001b[0m \u001b[1;33m*\u001b[0m \u001b[0msim\u001b[0m\u001b[1;33m[\u001b[0m\u001b[1;33m-\u001b[0m\u001b[1;36m1\u001b[0m\u001b[1;33m]\u001b[0m\u001b[1;33m\u001b[0m\u001b[1;33m\u001b[0m\u001b[0m\n\u001b[1;32m--> 744\u001b[1;33m             \u001b[0mfxe\u001b[0m \u001b[1;33m=\u001b[0m \u001b[0mfunc\u001b[0m\u001b[1;33m(\u001b[0m\u001b[0mxe\u001b[0m\u001b[1;33m)\u001b[0m\u001b[1;33m\u001b[0m\u001b[1;33m\u001b[0m\u001b[0m\n\u001b[0m\u001b[0;32m    745\u001b[0m \u001b[1;33m\u001b[0m\u001b[0m\n\u001b[0;32m    746\u001b[0m             \u001b[1;32mif\u001b[0m \u001b[0mfxe\u001b[0m \u001b[1;33m<\u001b[0m \u001b[0mfxr\u001b[0m\u001b[1;33m:\u001b[0m\u001b[1;33m\u001b[0m\u001b[1;33m\u001b[0m\u001b[0m\n",
      "\u001b[1;32m~\\Miniconda\\envs\\spotify_eda\\lib\\site-packages\\scipy\\optimize\\optimize.py\u001b[0m in \u001b[0;36mfunction_wrapper\u001b[1;34m(*wrapper_args)\u001b[0m\n\u001b[0;32m    459\u001b[0m     \u001b[1;32mdef\u001b[0m \u001b[0mfunction_wrapper\u001b[0m\u001b[1;33m(\u001b[0m\u001b[1;33m*\u001b[0m\u001b[0mwrapper_args\u001b[0m\u001b[1;33m)\u001b[0m\u001b[1;33m:\u001b[0m\u001b[1;33m\u001b[0m\u001b[1;33m\u001b[0m\u001b[0m\n\u001b[0;32m    460\u001b[0m         \u001b[0mncalls\u001b[0m\u001b[1;33m[\u001b[0m\u001b[1;36m0\u001b[0m\u001b[1;33m]\u001b[0m \u001b[1;33m+=\u001b[0m \u001b[1;36m1\u001b[0m\u001b[1;33m\u001b[0m\u001b[1;33m\u001b[0m\u001b[0m\n\u001b[1;32m--> 461\u001b[1;33m         \u001b[1;32mreturn\u001b[0m \u001b[0mfunction\u001b[0m\u001b[1;33m(\u001b[0m\u001b[1;33m*\u001b[0m\u001b[1;33m(\u001b[0m\u001b[0mwrapper_args\u001b[0m \u001b[1;33m+\u001b[0m \u001b[0margs\u001b[0m\u001b[1;33m)\u001b[0m\u001b[1;33m)\u001b[0m\u001b[1;33m\u001b[0m\u001b[1;33m\u001b[0m\u001b[0m\n\u001b[0m\u001b[0;32m    462\u001b[0m \u001b[1;33m\u001b[0m\u001b[0m\n\u001b[0;32m    463\u001b[0m     \u001b[1;32mreturn\u001b[0m \u001b[0mncalls\u001b[0m\u001b[1;33m,\u001b[0m \u001b[0mfunction_wrapper\u001b[0m\u001b[1;33m\u001b[0m\u001b[1;33m\u001b[0m\u001b[0m\n",
      "\u001b[1;32m~\\Miniconda\\envs\\spotify_eda\\lib\\site-packages\\scipy\\stats\\_distn_infrastructure.py\u001b[0m in \u001b[0;36m_penalized_nnlf\u001b[1;34m(self, theta, x)\u001b[0m\n\u001b[0;32m   2207\u001b[0m         \u001b[0mx\u001b[0m \u001b[1;33m=\u001b[0m \u001b[0masarray\u001b[0m\u001b[1;33m(\u001b[0m\u001b[1;33m(\u001b[0m\u001b[0mx\u001b[0m\u001b[1;33m-\u001b[0m\u001b[0mloc\u001b[0m\u001b[1;33m)\u001b[0m \u001b[1;33m/\u001b[0m \u001b[0mscale\u001b[0m\u001b[1;33m)\u001b[0m\u001b[1;33m\u001b[0m\u001b[1;33m\u001b[0m\u001b[0m\n\u001b[0;32m   2208\u001b[0m         \u001b[0mn_log_scale\u001b[0m \u001b[1;33m=\u001b[0m \u001b[0mlen\u001b[0m\u001b[1;33m(\u001b[0m\u001b[0mx\u001b[0m\u001b[1;33m)\u001b[0m \u001b[1;33m*\u001b[0m \u001b[0mlog\u001b[0m\u001b[1;33m(\u001b[0m\u001b[0mscale\u001b[0m\u001b[1;33m)\u001b[0m\u001b[1;33m\u001b[0m\u001b[1;33m\u001b[0m\u001b[0m\n\u001b[1;32m-> 2209\u001b[1;33m         \u001b[1;32mreturn\u001b[0m \u001b[0mself\u001b[0m\u001b[1;33m.\u001b[0m\u001b[0m_nnlf_and_penalty\u001b[0m\u001b[1;33m(\u001b[0m\u001b[0mx\u001b[0m\u001b[1;33m,\u001b[0m \u001b[0margs\u001b[0m\u001b[1;33m)\u001b[0m \u001b[1;33m+\u001b[0m \u001b[0mn_log_scale\u001b[0m\u001b[1;33m\u001b[0m\u001b[1;33m\u001b[0m\u001b[0m\n\u001b[0m\u001b[0;32m   2210\u001b[0m \u001b[1;33m\u001b[0m\u001b[0m\n\u001b[0;32m   2211\u001b[0m     \u001b[1;31m# return starting point for fit (shape arguments + loc + scale)\u001b[0m\u001b[1;33m\u001b[0m\u001b[1;33m\u001b[0m\u001b[1;33m\u001b[0m\u001b[0m\n",
      "\u001b[1;32m~\\Miniconda\\envs\\spotify_eda\\lib\\site-packages\\scipy\\stats\\_distn_infrastructure.py\u001b[0m in \u001b[0;36m_nnlf_and_penalty\u001b[1;34m(self, x, args)\u001b[0m\n\u001b[0;32m   2189\u001b[0m         \u001b[1;32mif\u001b[0m \u001b[0mn_bad\u001b[0m \u001b[1;33m>\u001b[0m \u001b[1;36m0\u001b[0m\u001b[1;33m:\u001b[0m\u001b[1;33m\u001b[0m\u001b[1;33m\u001b[0m\u001b[0m\n\u001b[0;32m   2190\u001b[0m             \u001b[0mx\u001b[0m \u001b[1;33m=\u001b[0m \u001b[0margsreduce\u001b[0m\u001b[1;33m(\u001b[0m\u001b[1;33m~\u001b[0m\u001b[0mcond0\u001b[0m\u001b[1;33m,\u001b[0m \u001b[0mx\u001b[0m\u001b[1;33m)\u001b[0m\u001b[1;33m[\u001b[0m\u001b[1;36m0\u001b[0m\u001b[1;33m]\u001b[0m\u001b[1;33m\u001b[0m\u001b[1;33m\u001b[0m\u001b[0m\n\u001b[1;32m-> 2191\u001b[1;33m         \u001b[0mlogpdf\u001b[0m \u001b[1;33m=\u001b[0m \u001b[0mself\u001b[0m\u001b[1;33m.\u001b[0m\u001b[0m_logpdf\u001b[0m\u001b[1;33m(\u001b[0m\u001b[0mx\u001b[0m\u001b[1;33m,\u001b[0m \u001b[1;33m*\u001b[0m\u001b[0margs\u001b[0m\u001b[1;33m)\u001b[0m\u001b[1;33m\u001b[0m\u001b[1;33m\u001b[0m\u001b[0m\n\u001b[0m\u001b[0;32m   2192\u001b[0m         \u001b[0mfinite_logpdf\u001b[0m \u001b[1;33m=\u001b[0m \u001b[0mnp\u001b[0m\u001b[1;33m.\u001b[0m\u001b[0misfinite\u001b[0m\u001b[1;33m(\u001b[0m\u001b[0mlogpdf\u001b[0m\u001b[1;33m)\u001b[0m\u001b[1;33m\u001b[0m\u001b[1;33m\u001b[0m\u001b[0m\n\u001b[0;32m   2193\u001b[0m         \u001b[0mn_bad\u001b[0m \u001b[1;33m+=\u001b[0m \u001b[0mnp\u001b[0m\u001b[1;33m.\u001b[0m\u001b[0msum\u001b[0m\u001b[1;33m(\u001b[0m\u001b[1;33m~\u001b[0m\u001b[0mfinite_logpdf\u001b[0m\u001b[1;33m,\u001b[0m \u001b[0maxis\u001b[0m\u001b[1;33m=\u001b[0m\u001b[1;36m0\u001b[0m\u001b[1;33m)\u001b[0m\u001b[1;33m\u001b[0m\u001b[1;33m\u001b[0m\u001b[0m\n",
      "\u001b[1;32m~\\Miniconda\\envs\\spotify_eda\\lib\\site-packages\\scipy\\stats\\_continuous_distns.py\u001b[0m in \u001b[0;36m_logpdf\u001b[1;34m(self, x, a, c)\u001b[0m\n\u001b[0;32m   1673\u001b[0m     \u001b[1;32mdef\u001b[0m \u001b[0m_logpdf\u001b[0m\u001b[1;33m(\u001b[0m\u001b[0mself\u001b[0m\u001b[1;33m,\u001b[0m \u001b[0mx\u001b[0m\u001b[1;33m,\u001b[0m \u001b[0ma\u001b[0m\u001b[1;33m,\u001b[0m \u001b[0mc\u001b[0m\u001b[1;33m)\u001b[0m\u001b[1;33m:\u001b[0m\u001b[1;33m\u001b[0m\u001b[1;33m\u001b[0m\u001b[0m\n\u001b[0;32m   1674\u001b[0m         \u001b[0mnegxc\u001b[0m \u001b[1;33m=\u001b[0m \u001b[1;33m-\u001b[0m\u001b[0mx\u001b[0m\u001b[1;33m**\u001b[0m\u001b[0mc\u001b[0m\u001b[1;33m\u001b[0m\u001b[1;33m\u001b[0m\u001b[0m\n\u001b[1;32m-> 1675\u001b[1;33m         \u001b[0mexm1c\u001b[0m \u001b[1;33m=\u001b[0m \u001b[1;33m-\u001b[0m\u001b[0msc\u001b[0m\u001b[1;33m.\u001b[0m\u001b[0mexpm1\u001b[0m\u001b[1;33m(\u001b[0m\u001b[0mnegxc\u001b[0m\u001b[1;33m)\u001b[0m\u001b[1;33m\u001b[0m\u001b[1;33m\u001b[0m\u001b[0m\n\u001b[0m\u001b[0;32m   1676\u001b[0m         logp = (np.log(a) + np.log(c) + sc.xlogy(a - 1.0, exm1c) +\n\u001b[0;32m   1677\u001b[0m                 negxc + sc.xlogy(c - 1.0, x))\n",
      "\u001b[1;31mKeyboardInterrupt\u001b[0m: "
     ]
    }
   ],
   "source": [
    "get_best_distribution(df['duration_log'])"
   ]
  },
  {
   "cell_type": "markdown",
   "metadata": {},
   "source": [
    "Bit lost here, will ask Kevin... but we will definitely use the log of the duration as opposed to the normal duration, as that looked closer to a normal distribution."
   ]
  },
  {
   "cell_type": "markdown",
   "metadata": {},
   "source": [
    "Let's look at a few other possible changes to our input features:"
   ]
  },
  {
   "cell_type": "code",
   "execution_count": 137,
   "metadata": {},
   "outputs": [
    {
     "data": {
      "text/plain": [
       "(array([27540.,  8564.,  6232.,  5135.,  4529.,  4096.,  3774.,  3419.,\n",
       "         3175.,  3078.,  2950.,  2861.,  2884.,  2757.,  2801.,  2822.,\n",
       "         2759.,  2861.,  2952.,  3099.,  3436.,  3590.,  3918.,  4259.,\n",
       "         4600.,  5057.,  5456.,  6431.,  8788., 26830.]),\n",
       " array([0.    , 0.0332, 0.0664, 0.0996, 0.1328, 0.166 , 0.1992, 0.2324,\n",
       "        0.2656, 0.2988, 0.332 , 0.3652, 0.3984, 0.4316, 0.4648, 0.498 ,\n",
       "        0.5312, 0.5644, 0.5976, 0.6308, 0.664 , 0.6972, 0.7304, 0.7636,\n",
       "        0.7968, 0.83  , 0.8632, 0.8964, 0.9296, 0.9628, 0.996 ]),\n",
       " <BarContainer object of 30 artists>)"
      ]
     },
     "execution_count": 137,
     "metadata": {},
     "output_type": "execute_result"
    },
    {
     "data": {
      "image/png": "[encoded data removed]",
      "text/plain": [
       "<Figure size 432x288 with 1 Axes>"
      ]
     },
     "metadata": {
      "needs_background": "light"
     },
     "output_type": "display_data"
    }
   ],
   "source": [
    "plt.hist(df['acousticness'], bins=30)"
   ]
  },
  {
   "cell_type": "markdown",
   "metadata": {},
   "source": [
    "Not sure what to do with this, it apparently has high \"tailedness\" or kurtosis. I don't think I can categorize it though..."
   ]
  },
  {
   "cell_type": "code",
   "execution_count": 138,
   "metadata": {},
   "outputs": [
    {
     "data": {
      "text/plain": [
       "(array([120588.,   4554.,   2732.,   1949.,   1558.,   1309.,   1186.,\n",
       "          1034.,    958.,    907.,    921.,    834.,    817.,    806.,\n",
       "           832.,    828.,    819.,    888.,    937.,    945.,   1045.,\n",
       "          1231.,   1449.,   1705.,   2321.,   3116.,   4852.,   5792.,\n",
       "          3092.,    648.]),\n",
       " array([0.        , 0.03333333, 0.06666667, 0.1       , 0.13333333,\n",
       "        0.16666667, 0.2       , 0.23333333, 0.26666667, 0.3       ,\n",
       "        0.33333333, 0.36666667, 0.4       , 0.43333333, 0.46666667,\n",
       "        0.5       , 0.53333333, 0.56666667, 0.6       , 0.63333333,\n",
       "        0.66666667, 0.7       , 0.73333333, 0.76666667, 0.8       ,\n",
       "        0.83333333, 0.86666667, 0.9       , 0.93333333, 0.96666667,\n",
       "        1.        ]),\n",
       " <BarContainer object of 30 artists>)"
      ]
     },
     "execution_count": 138,
     "metadata": {},
     "output_type": "execute_result"
    },
    {
     "data": {
      "image/png": "[encoded data removed]",
      "text/plain": [
       "<Figure size 432x288 with 1 Axes>"
      ]
     },
     "metadata": {
      "needs_background": "light"
     },
     "output_type": "display_data"
    }
   ],
   "source": [
    "plt.hist(df['instrumentalness'], bins=30)"
   ]
  },
  {
   "cell_type": "markdown",
   "metadata": {},
   "source": [
    "We can leave instrumentalness out completely."
   ]
  },
  {
   "cell_type": "code",
   "execution_count": 139,
   "metadata": {},
   "outputs": [
    {
     "data": {
      "text/plain": [
       "(array([156220.,      0.,      0.,      0.,      0.,      0.,      0.,\n",
       "             0.,      0.,      0.,      0.,      0.,      0.,      0.,\n",
       "             0.,      0.,      0.,      0.,      0.,      0.,      0.,\n",
       "             0.,      0.,      0.,      0.,      0.,      0.,      0.,\n",
       "             0.,  14433.]),\n",
       " array([0.        , 0.03333333, 0.06666667, 0.1       , 0.13333333,\n",
       "        0.16666667, 0.2       , 0.23333333, 0.26666667, 0.3       ,\n",
       "        0.33333333, 0.36666667, 0.4       , 0.43333333, 0.46666667,\n",
       "        0.5       , 0.53333333, 0.56666667, 0.6       , 0.63333333,\n",
       "        0.66666667, 0.7       , 0.73333333, 0.76666667, 0.8       ,\n",
       "        0.83333333, 0.86666667, 0.9       , 0.93333333, 0.96666667,\n",
       "        1.        ]),\n",
       " <BarContainer object of 30 artists>)"
      ]
     },
     "execution_count": 139,
     "metadata": {},
     "output_type": "execute_result"
    },
    {
     "data": {
      "image/png": "[encoded data removed]",
      "text/plain": [
       "<Figure size 432x288 with 1 Axes>"
      ]
     },
     "metadata": {
      "needs_background": "light"
     },
     "output_type": "display_data"
    }
   ],
   "source": [
    "plt.hist(df['explicit'], bins=30)"
   ]
  },
  {
   "cell_type": "markdown",
   "metadata": {},
   "source": [
    "This can be looked at as a categorical variable."
   ]
  },
  {
   "cell_type": "code",
   "execution_count": 140,
   "metadata": {},
   "outputs": [
    {
     "data": {
      "text/plain": [
       "(array([21600.,     0., 12886.,     0.,     0., 18823.,     0.,     0.,\n",
       "         7297.,     0., 12933.,     0.,     0., 16430.,     0.,     0.,\n",
       "         8741.,     0.,     0., 20803.,     0., 10751.,     0.,     0.,\n",
       "        17571.,     0.,     0., 12148.,     0., 10670.]),\n",
       " array([ 0.        ,  0.36666667,  0.73333333,  1.1       ,  1.46666667,\n",
       "         1.83333333,  2.2       ,  2.56666667,  2.93333333,  3.3       ,\n",
       "         3.66666667,  4.03333333,  4.4       ,  4.76666667,  5.13333333,\n",
       "         5.5       ,  5.86666667,  6.23333333,  6.6       ,  6.96666667,\n",
       "         7.33333333,  7.7       ,  8.06666667,  8.43333333,  8.8       ,\n",
       "         9.16666667,  9.53333333,  9.9       , 10.26666667, 10.63333333,\n",
       "        11.        ]),\n",
       " <BarContainer object of 30 artists>)"
      ]
     },
     "execution_count": 140,
     "metadata": {},
     "output_type": "execute_result"
    },
    {
     "data": {
      "image/png": "[encoded data removed]",
      "text/plain": [
       "<Figure size 432x288 with 1 Axes>"
      ]
     },
     "metadata": {
      "needs_background": "light"
     },
     "output_type": "display_data"
    }
   ],
   "source": [
    "plt.hist(df['key'], bins=30)"
   ]
  },
  {
   "cell_type": "markdown",
   "metadata": {},
   "source": [
    "This should be turned into a categorical variable:"
   ]
  },
  {
   "cell_type": "code",
   "execution_count": 141,
   "metadata": {},
   "outputs": [
    {
     "data": {
      "text/plain": [
       "Index(['valence', 'year', 'acousticness', 'artists', 'danceability',\n",
       "       'duration_ms', 'energy', 'explicit', 'id', 'instrumentalness', 'key',\n",
       "       'liveness', 'loudness', 'mode', 'name', 'popularity', 'release_date',\n",
       "       'speechiness', 'tempo', 'popular_or_not', 'duration_log', 'key_0',\n",
       "       'key_1', 'key_2', 'key_3', 'key_4', 'key_5', 'key_6', 'key_7', 'key_8',\n",
       "       'key_9', 'key_10', 'key_11'],\n",
       "      dtype='object')"
      ]
     },
     "execution_count": 141,
     "metadata": {},
     "output_type": "execute_result"
    }
   ],
   "source": [
    "pd.get_dummies(df['key'])\n",
    "df = pd.concat([df, pd.get_dummies(df['key'], prefix='key')], axis=1)\n",
    "df.columns"
   ]
  },
  {
   "cell_type": "code",
   "execution_count": 142,
   "metadata": {},
   "outputs": [
    {
     "data": {
      "text/plain": [
       "(array([9.0000e+00, 0.0000e+00, 3.0000e+00, 1.0000e+00, 3.0000e+00,\n",
       "        5.0000e+00, 3.0000e+00, 1.6000e+01, 3.2000e+01, 6.1000e+01,\n",
       "        1.3600e+02, 1.8300e+02, 3.1400e+02, 4.7300e+02, 7.8800e+02,\n",
       "        1.3030e+03, 2.1790e+03, 3.7980e+03, 5.9760e+03, 9.0650e+03,\n",
       "        1.3066e+04, 1.8378e+04, 2.3941e+04, 2.6342e+04, 2.6932e+04,\n",
       "        2.4688e+04, 1.1805e+04, 1.1040e+03, 4.4000e+01, 5.0000e+00]),\n",
       " array([-60.    , -57.8715, -55.743 , -53.6145, -51.486 , -49.3575,\n",
       "        -47.229 , -45.1005, -42.972 , -40.8435, -38.715 , -36.5865,\n",
       "        -34.458 , -32.3295, -30.201 , -28.0725, -25.944 , -23.8155,\n",
       "        -21.687 , -19.5585, -17.43  , -15.3015, -13.173 , -11.0445,\n",
       "         -8.916 ,  -6.7875,  -4.659 ,  -2.5305,  -0.402 ,   1.7265,\n",
       "          3.855 ]),\n",
       " <BarContainer object of 30 artists>)"
      ]
     },
     "execution_count": 142,
     "metadata": {},
     "output_type": "execute_result"
    },
    {
     "data": {
      "image/png": "[encoded data removed]",
      "text/plain": [
       "<Figure size 432x288 with 1 Axes>"
      ]
     },
     "metadata": {
      "needs_background": "light"
     },
     "output_type": "display_data"
    }
   ],
   "source": [
    "plt.hist(df['loudness'], bins=30)"
   ]
  },
  {
   "cell_type": "code",
   "execution_count": 143,
   "metadata": {},
   "outputs": [],
   "source": [
    "df['quietness'] = df['loudness'] * (-1)"
   ]
  },
  {
   "cell_type": "code",
   "execution_count": 144,
   "metadata": {},
   "outputs": [
    {
     "data": {
      "text/plain": [
       "(array([5.0000e+00, 4.4000e+01, 1.1040e+03, 1.1794e+04, 2.4699e+04,\n",
       "        2.6917e+04, 2.6357e+04, 2.3926e+04, 1.8393e+04, 1.3061e+04,\n",
       "        9.0700e+03, 5.9750e+03, 3.7990e+03, 2.1790e+03, 1.3030e+03,\n",
       "        7.8800e+02, 4.7300e+02, 3.1400e+02, 1.8300e+02, 1.3600e+02,\n",
       "        6.1000e+01, 3.2000e+01, 1.6000e+01, 3.0000e+00, 5.0000e+00,\n",
       "        3.0000e+00, 1.0000e+00, 3.0000e+00, 0.0000e+00, 9.0000e+00]),\n",
       " array([-3.855 , -1.7265,  0.402 ,  2.5305,  4.659 ,  6.7875,  8.916 ,\n",
       "        11.0445, 13.173 , 15.3015, 17.43  , 19.5585, 21.687 , 23.8155,\n",
       "        25.944 , 28.0725, 30.201 , 32.3295, 34.458 , 36.5865, 38.715 ,\n",
       "        40.8435, 42.972 , 45.1005, 47.229 , 49.3575, 51.486 , 53.6145,\n",
       "        55.743 , 57.8715, 60.    ]),\n",
       " <BarContainer object of 30 artists>)"
      ]
     },
     "execution_count": 144,
     "metadata": {},
     "output_type": "execute_result"
    },
    {
     "data": {
      "image/png": "[encoded data removed]",
      "text/plain": [
       "<Figure size 432x288 with 1 Axes>"
      ]
     },
     "metadata": {
      "needs_background": "light"
     },
     "output_type": "display_data"
    }
   ],
   "source": [
    "plt.hist(df['quietness'], bins=30)"
   ]
  },
  {
   "cell_type": "code",
   "execution_count": 145,
   "metadata": {},
   "outputs": [
    {
     "data": {
      "text/plain": [
       "10365    NaN\n",
       "29282    NaN\n",
       "38418    NaN\n",
       "40165    NaN\n",
       "40413    NaN\n",
       "          ..\n",
       "155209   NaN\n",
       "155710   NaN\n",
       "161894   NaN\n",
       "161934   NaN\n",
       "167375   NaN\n",
       "Name: quietness_log, Length: 31, dtype: float64"
      ]
     },
     "execution_count": 145,
     "metadata": {},
     "output_type": "execute_result"
    }
   ],
   "source": [
    "df['quietness_log'] = np.log(df['quietness'][df['quietness'] > 0])\n",
    "df['quietness_log'][df['quietness_log'].isna()]"
   ]
  },
  {
   "cell_type": "code",
   "execution_count": 146,
   "metadata": {},
   "outputs": [
    {
     "data": {
      "text/plain": [
       "(array([1.0000e+00, 0.0000e+00, 0.0000e+00, 0.0000e+00, 1.0000e+00,\n",
       "        0.0000e+00, 0.0000e+00, 0.0000e+00, 2.0000e+00, 1.0000e+00,\n",
       "        1.0000e+00, 2.0000e+00, 9.0000e+00, 6.0000e+00, 6.0000e+00,\n",
       "        2.2000e+01, 5.2000e+01, 1.3600e+02, 3.6000e+02, 1.4850e+03,\n",
       "        5.2420e+03, 1.3121e+04, 2.3120e+04, 3.2272e+04, 3.9903e+04,\n",
       "        3.3024e+04, 1.6891e+04, 4.2840e+03, 6.5400e+02, 2.7000e+01]),\n",
       " array([-4.96184513, -4.65997214, -4.35809915, -4.05622616, -3.75435317,\n",
       "        -3.45248018, -3.15060719, -2.8487342 , -2.54686121, -2.24498822,\n",
       "        -1.94311523, -1.64124224, -1.33936925, -1.03749626, -0.73562327,\n",
       "        -0.43375028, -0.13187729,  0.1699957 ,  0.47186869,  0.77374168,\n",
       "         1.07561466,  1.37748765,  1.67936064,  1.98123363,  2.28310662,\n",
       "         2.58497961,  2.8868526 ,  3.18872559,  3.49059858,  3.79247157,\n",
       "         4.09434456]),\n",
       " <BarContainer object of 30 artists>)"
      ]
     },
     "execution_count": 146,
     "metadata": {},
     "output_type": "execute_result"
    },
    {
     "data": {
      "image/png": "[encoded data removed]",
      "text/plain": [
       "<Figure size 432x288 with 1 Axes>"
      ]
     },
     "metadata": {
      "needs_background": "light"
     },
     "output_type": "display_data"
    }
   ],
   "source": [
    "plt.hist(df['quietness_log'], bins=30)"
   ]
  },
  {
   "cell_type": "code",
   "execution_count": 178,
   "metadata": {},
   "outputs": [
    {
     "data": {
      "text/plain": [
       "(array([  855., 11450., 31866., 39660., 18302., 11363.,  8668.,  6920.,\n",
       "         6619.,  7222.,  6423.,  3916.,  2372.,  1716.,  1287.,  1185.,\n",
       "         1001.,  1004.,  1047.,  1034.,  1239.,   953.,   645.,   486.,\n",
       "          480.,   435.,   466.,   559.,   740.,   740.]),\n",
       " array([0.        , 0.03333333, 0.06666667, 0.1       , 0.13333333,\n",
       "        0.16666667, 0.2       , 0.23333333, 0.26666667, 0.3       ,\n",
       "        0.33333333, 0.36666667, 0.4       , 0.43333333, 0.46666667,\n",
       "        0.5       , 0.53333333, 0.56666667, 0.6       , 0.63333333,\n",
       "        0.66666667, 0.7       , 0.73333333, 0.76666667, 0.8       ,\n",
       "        0.83333333, 0.86666667, 0.9       , 0.93333333, 0.96666667,\n",
       "        1.        ]),\n",
       " <BarContainer object of 30 artists>)"
      ]
     },
     "execution_count": 178,
     "metadata": {},
     "output_type": "execute_result"
    },
    {
     "data": {
      "image/png": "[encoded data removed]",
      "text/plain": [
       "<Figure size 432x288 with 1 Axes>"
      ]
     },
     "metadata": {
      "needs_background": "light"
     },
     "output_type": "display_data"
    }
   ],
   "source": [
    "plt.hist(df['liveness'], bins=30)"
   ]
  },
  {
   "cell_type": "code",
   "execution_count": 175,
   "metadata": {},
   "outputs": [],
   "source": [
    "df['log_liveness'] = np.log(df['liveness'])\n",
    "df_liveness_test = df['log_liveness'][np.isfinite(df['log_liveness'])]"
   ]
  },
  {
   "cell_type": "code",
   "execution_count": 176,
   "metadata": {},
   "outputs": [
    {
     "data": {
      "text/plain": [
       "0        -0.407968\n",
       "1        -1.832581\n",
       "2        -2.292635\n",
       "3        -0.964956\n",
       "4        -1.474033\n",
       "            ...   \n",
       "170648   -2.498600\n",
       "170649   -2.292635\n",
       "170650   -1.354796\n",
       "170651   -0.441611\n",
       "170652   -1.703749\n",
       "Name: log_liveness, Length: 170641, dtype: float64"
      ]
     },
     "execution_count": 176,
     "metadata": {},
     "output_type": "execute_result"
    }
   ],
   "source": [
    "df_liveness_test"
   ]
  },
  {
   "cell_type": "code",
   "execution_count": 177,
   "metadata": {},
   "outputs": [
    {
     "data": {
      "text/plain": [
       "(array([3.0000e+00, 3.0000e+00, 1.0000e+01, 1.8000e+01, 4.4000e+01,\n",
       "        1.1700e+02, 2.3000e+02, 4.1800e+02, 7.9300e+02, 1.4060e+03,\n",
       "        2.3580e+03, 4.1340e+03, 6.5610e+03, 1.0449e+04, 1.5644e+04,\n",
       "        2.3693e+04, 1.7938e+04, 1.3749e+04, 1.0582e+04, 9.1270e+03,\n",
       "        8.1100e+03, 8.4550e+03, 1.0129e+04, 8.9410e+03, 4.1870e+03,\n",
       "        2.8620e+03, 2.7320e+03, 3.3970e+03, 1.9190e+03, 2.6320e+03]),\n",
       " array([-4.63872697, -4.48410274, -4.3294785 , -4.17485427, -4.02023004,\n",
       "        -3.86560581, -3.71098158, -3.55635734, -3.40173311, -3.24710888,\n",
       "        -3.09248465, -2.93786041, -2.78323618, -2.62861195, -2.47398772,\n",
       "        -2.31936348, -2.16473925, -2.01011502, -1.85549079, -1.70086656,\n",
       "        -1.54624232, -1.39161809, -1.23699386, -1.08236963, -0.92774539,\n",
       "        -0.77312116, -0.61849693, -0.4638727 , -0.30924846, -0.15462423,\n",
       "         0.        ]),\n",
       " <BarContainer object of 30 artists>)"
      ]
     },
     "execution_count": 177,
     "metadata": {},
     "output_type": "execute_result"
    },
    {
     "data": {
      "image/png": "[encoded data removed]",
      "text/plain": [
       "<Figure size 432x288 with 1 Axes>"
      ]
     },
     "metadata": {
      "needs_background": "light"
     },
     "output_type": "display_data"
    }
   ],
   "source": [
    "plt.hist(df_liveness_test, bins=30)"
   ]
  },
  {
   "cell_type": "code",
   "execution_count": 179,
   "metadata": {},
   "outputs": [
    {
     "data": {
      "text/plain": [
       "Index(['valence', 'year', 'acousticness', 'artists', 'danceability',\n",
       "       'duration_ms', 'energy', 'explicit', 'id', 'instrumentalness', 'key',\n",
       "       'liveness', 'loudness', 'mode', 'name', 'popularity', 'release_date',\n",
       "       'speechiness', 'tempo', 'popular_or_not', 'duration_log', 'key_0',\n",
       "       'key_1', 'key_2', 'key_3', 'key_4', 'key_5', 'key_6', 'key_7', 'key_8',\n",
       "       'key_9', 'key_10', 'key_11', 'quietness', 'quietness_log',\n",
       "       'log_liveness'],\n",
       "      dtype='object')"
      ]
     },
     "execution_count": 179,
     "metadata": {},
     "output_type": "execute_result"
    }
   ],
   "source": [
    "df.columns"
   ]
  },
  {
   "cell_type": "code",
   "execution_count": 180,
   "metadata": {},
   "outputs": [
    {
     "data": {
      "text/plain": [
       "(array([ 50018.,      0.,      0.,      0.,      0.,      0.,      0.,\n",
       "             0.,      0.,      0.,      0.,      0.,      0.,      0.,\n",
       "             0.,      0.,      0.,      0.,      0.,      0.,      0.,\n",
       "             0.,      0.,      0.,      0.,      0.,      0.,      0.,\n",
       "             0., 120635.]),\n",
       " array([0.        , 0.03333333, 0.06666667, 0.1       , 0.13333333,\n",
       "        0.16666667, 0.2       , 0.23333333, 0.26666667, 0.3       ,\n",
       "        0.33333333, 0.36666667, 0.4       , 0.43333333, 0.46666667,\n",
       "        0.5       , 0.53333333, 0.56666667, 0.6       , 0.63333333,\n",
       "        0.66666667, 0.7       , 0.73333333, 0.76666667, 0.8       ,\n",
       "        0.83333333, 0.86666667, 0.9       , 0.93333333, 0.96666667,\n",
       "        1.        ]),\n",
       " <BarContainer object of 30 artists>)"
      ]
     },
     "execution_count": 180,
     "metadata": {},
     "output_type": "execute_result"
    },
    {
     "data": {
      "image/png": "[encoded data removed]",
      "text/plain": [
       "<Figure size 432x288 with 1 Axes>"
      ]
     },
     "metadata": {
      "needs_background": "light"
     },
     "output_type": "display_data"
    }
   ],
   "source": [
    "plt.hist(df['mode'], bins=30)"
   ]
  },
  {
   "cell_type": "markdown",
   "metadata": {},
   "source": [
    "Already basically a categorical variable, doesn't need to be approached differently"
   ]
  },
  {
   "cell_type": "code",
   "execution_count": 181,
   "metadata": {},
   "outputs": [
    {
     "data": {
      "text/plain": [
       "(array([2.8726e+04, 9.0719e+04, 1.8290e+04, 7.8160e+03, 4.4470e+03,\n",
       "        3.0970e+03, 2.5080e+03, 2.0040e+03, 1.8060e+03, 1.5580e+03,\n",
       "        1.2070e+03, 9.9600e+02, 7.2400e+02, 5.3400e+02, 4.2700e+02,\n",
       "        2.8600e+02, 1.7800e+02, 1.3900e+02, 1.0000e+02, 9.5000e+01,\n",
       "        7.9000e+01, 7.3000e+01, 5.3000e+01, 7.2000e+01, 8.4000e+01,\n",
       "        1.1400e+02, 1.8000e+02, 4.0800e+02, 1.2350e+03, 2.6980e+03]),\n",
       " array([0.        , 0.03233333, 0.06466667, 0.097     , 0.12933333,\n",
       "        0.16166667, 0.194     , 0.22633333, 0.25866667, 0.291     ,\n",
       "        0.32333333, 0.35566667, 0.388     , 0.42033333, 0.45266667,\n",
       "        0.485     , 0.51733333, 0.54966667, 0.582     , 0.61433333,\n",
       "        0.64666667, 0.679     , 0.71133333, 0.74366667, 0.776     ,\n",
       "        0.80833333, 0.84066667, 0.873     , 0.90533333, 0.93766667,\n",
       "        0.97      ]),\n",
       " <BarContainer object of 30 artists>)"
      ]
     },
     "execution_count": 181,
     "metadata": {},
     "output_type": "execute_result"
    },
    {
     "data": {
      "image/png": "[encoded data removed]",
      "text/plain": [
       "<Figure size 432x288 with 1 Axes>"
      ]
     },
     "metadata": {
      "needs_background": "light"
     },
     "output_type": "display_data"
    }
   ],
   "source": [
    "plt.hist(df['speechiness'], bins=30)"
   ]
  },
  {
   "cell_type": "code",
   "execution_count": 185,
   "metadata": {},
   "outputs": [
    {
     "data": {
      "text/plain": [
       "(array([ 1169.,  8887., 18527., 23447., 21574., 17922., 13340., 10216.,\n",
       "         8033.,  6237.,  5086.,  4313.,  3730.,  2927.,  2616.,  2377.,\n",
       "         2113.,  2066.,  1892.,  2022.,  1847.,  1655.,  1375.,   967.,\n",
       "          657.,   337.,   225.,   186.,   303.,  4464.]),\n",
       " array([-3.80766299, -3.6817562 , -3.5558494 , -3.42994261, -3.30403582,\n",
       "        -3.17812903, -3.05222223, -2.92631544, -2.80040865, -2.67450186,\n",
       "        -2.54859506, -2.42268827, -2.29678148, -2.17087468, -2.04496789,\n",
       "        -1.9190611 , -1.79315431, -1.66724751, -1.54134072, -1.41543393,\n",
       "        -1.28952714, -1.16362034, -1.03771355, -0.91180676, -0.78589996,\n",
       "        -0.65999317, -0.53408638, -0.40817959, -0.28227279, -0.156366  ,\n",
       "        -0.03045921]),\n",
       " <BarContainer object of 30 artists>)"
      ]
     },
     "execution_count": 185,
     "metadata": {},
     "output_type": "execute_result"
    },
    {
     "data": {
      "image/png": "[encoded data removed]",
      "text/plain": [
       "<Figure size 432x288 with 1 Axes>"
      ]
     },
     "metadata": {
      "needs_background": "light"
     },
     "output_type": "display_data"
    }
   ],
   "source": [
    "df['log_speechiness'] = np.log(df['speechiness'])\n",
    "df_log_speechiness_test = df['log_speechiness'][np.isfinite(df['log_speechiness'])]\n",
    "plt.hist(df_log_speechiness_test, bins=30)"
   ]
  },
  {
   "cell_type": "markdown",
   "metadata": {},
   "source": [
    "Not sure how to approach this one. "
   ]
  },
  {
   "cell_type": "code",
   "execution_count": 186,
   "metadata": {},
   "outputs": [
    {
     "data": {
      "text/plain": [
       "(array([1.4300e+02, 0.0000e+00, 0.0000e+00, 3.0000e+00, 5.5000e+01,\n",
       "        1.1400e+02, 3.6900e+02, 1.6680e+03, 5.1380e+03, 1.3132e+04,\n",
       "        1.3901e+04, 1.6928e+04, 1.5909e+04, 1.5765e+04, 1.7391e+04,\n",
       "        1.6985e+04, 1.4317e+04, 1.0985e+04, 6.5200e+03, 4.6140e+03,\n",
       "        5.2530e+03, 5.5110e+03, 3.0840e+03, 1.0260e+03, 9.9500e+02,\n",
       "        7.4800e+02, 8.4000e+01, 1.1000e+01, 0.0000e+00, 4.0000e+00]),\n",
       " array([  0.    ,   8.1169,  16.2338,  24.3507,  32.4676,  40.5845,\n",
       "         48.7014,  56.8183,  64.9352,  73.0521,  81.169 ,  89.2859,\n",
       "         97.4028, 105.5197, 113.6366, 121.7535, 129.8704, 137.9873,\n",
       "        146.1042, 154.2211, 162.338 , 170.4549, 178.5718, 186.6887,\n",
       "        194.8056, 202.9225, 211.0394, 219.1563, 227.2732, 235.3901,\n",
       "        243.507 ]),\n",
       " <BarContainer object of 30 artists>)"
      ]
     },
     "execution_count": 186,
     "metadata": {},
     "output_type": "execute_result"
    },
    {
     "data": {
      "image/png": "[encoded data removed]",
      "text/plain": [
       "<Figure size 432x288 with 1 Axes>"
      ]
     },
     "metadata": {
      "needs_background": "light"
     },
     "output_type": "display_data"
    }
   ],
   "source": [
    "plt.hist(df['tempo'], bins=30)"
   ]
  },
  {
   "cell_type": "markdown",
   "metadata": {},
   "source": [
    "So to recap when we update our original linear regression from the first analysis, we will:\n",
    "- Look at popular songs and unpopular songs separately, using a logistic regression to predict popularity\n",
    "- Use the log of the track duration in all models\n",
    "- Use the log of quietness in all models\n",
    "- Use newly added columns for the key as categorical variables\n",
    "- Leave instrumentalness out of the model completely as it's mostly equal to 0\n",
    "- Use the log liveness column, leave out infinite values"
   ]
  },
  {
   "cell_type": "markdown",
   "metadata": {},
   "source": [
    "We'll come back to all the above when we look at linear models for this. We'll look at how our models improve when we take all these changes into account."
   ]
  },
  {
   "cell_type": "markdown",
   "metadata": {},
   "source": [
    "Let's also look at the coefficients between the different numerical columns, with a particular focus on the track popularity as that's what we will be looking to predict:"
   ]
  },
  {
   "cell_type": "code",
   "execution_count": 28,
   "metadata": {},
   "outputs": [
    {
     "data": {
      "text/plain": [
       "popularity          1.000000\n",
       "year                0.862442\n",
       "popular_or_not      0.732580\n",
       "energy              0.485005\n",
       "loudness            0.457051\n",
       "danceability        0.199606\n",
       "explicit            0.191543\n",
       "tempo               0.133310\n",
       "duration_ms         0.059597\n",
       "valence             0.014200\n",
       "key                 0.007826\n",
       "mode               -0.028897\n",
       "liveness           -0.076464\n",
       "speechiness        -0.171979\n",
       "instrumentalness   -0.296750\n",
       "acousticness       -0.573162\n",
       "Name: popularity, dtype: float64"
      ]
     },
     "execution_count": 28,
     "metadata": {},
     "output_type": "execute_result"
    }
   ],
   "source": [
    "df.corr()['popularity'].sort_values(ascending=False)"
   ]
  },
  {
   "cell_type": "code",
   "execution_count": 29,
   "metadata": {},
   "outputs": [
    {
     "data": {
      "text/plain": [
       "<AxesSubplot:>"
      ]
     },
     "execution_count": 29,
     "metadata": {},
     "output_type": "execute_result"
    },
    {
     "data": {
      "image/png": "[encoded data removed]",
      "text/plain": [
       "<Figure size 432x288 with 2 Axes>"
      ]
     },
     "metadata": {
      "needs_background": "light"
     },
     "output_type": "display_data"
    }
   ],
   "source": [
    "sns.heatmap(df.corr())"
   ]
  },
  {
   "cell_type": "markdown",
   "metadata": {},
   "source": [
    "## Data modelling\n",
    "\n",
    "Now that we have our dataset with a column to explain whether a track is popular or not, and a good understanding of how the different features are distributed, as well as some insights into how the different data points - in particular the audio features and the popularity - are correlated, let's move on to building a simple model."
   ]
  },
  {
   "cell_type": "markdown",
   "metadata": {},
   "source": [
    "We'll quickly break our dataframe into two parts, as that will make it easier to refer to later:"
   ]
  },
  {
   "cell_type": "code",
   "execution_count": 194,
   "metadata": {},
   "outputs": [],
   "source": [
    "df_popular = df[df['popular_or_not'] == 1]"
   ]
  },
  {
   "cell_type": "code",
   "execution_count": 195,
   "metadata": {},
   "outputs": [
    {
     "data": {
      "text/plain": [
       "Index(['valence', 'year', 'acousticness', 'artists', 'danceability',\n",
       "       'duration_ms', 'energy', 'explicit', 'id', 'instrumentalness', 'key',\n",
       "       'liveness', 'loudness', 'mode', 'name', 'popularity', 'release_date',\n",
       "       'speechiness', 'tempo', 'popular_or_not', 'duration_log', 'key_0',\n",
       "       'key_1', 'key_2', 'key_3', 'key_4', 'key_5', 'key_6', 'key_7', 'key_8',\n",
       "       'key_9', 'key_10', 'key_11', 'quietness', 'quietness_log',\n",
       "       'log_liveness', 'log_speechiness'],\n",
       "      dtype='object')"
      ]
     },
     "execution_count": 195,
     "metadata": {},
     "output_type": "execute_result"
    }
   ],
   "source": [
    "# Remind me what the available columns are\n",
    "df_popular.columns"
   ]
  },
  {
   "cell_type": "markdown",
   "metadata": {},
   "source": [
    "Let's start by looking at what happens when we consider the dataset as a whole, without breaking out tracks that score between 0 and 5 in popularity:"
   ]
  },
  {
   "cell_type": "code",
   "execution_count": 102,
   "metadata": {},
   "outputs": [
    {
     "data": {
      "text/plain": [
       "0.45248718652299824"
      ]
     },
     "execution_count": 102,
     "metadata": {},
     "output_type": "execute_result"
    }
   ],
   "source": [
    "X = df[['valence', 'acousticness', 'danceability',\n",
    "                           'duration_ms', 'energy', 'explicit',\n",
    "                           'instrumentalness', 'key',\n",
    "                           'liveness', 'loudness',\n",
    "                           'mode', 'speechiness', 'tempo']]\n",
    "y = df[['popularity']]\n",
    "X_train, X_test, y_train, y_test = train_test_split(\n",
    "    X, y, test_size=0.33, random_state=42)\n",
    "basic_reg_all_tracks = LinearRegression()\n",
    "basic_reg_all_tracks.fit(X_train, y_train)\n",
    "y_pred = basic_reg_all_tracks.predict(X_test)\n",
    "sc.metrics.r2_score(y_test, y_pred)"
   ]
  },
  {
   "cell_type": "code",
   "execution_count": 196,
   "metadata": {},
   "outputs": [
    {
     "data": {
      "text/plain": [
       "0.28153369435337294"
      ]
     },
     "execution_count": 196,
     "metadata": {},
     "output_type": "execute_result"
    }
   ],
   "source": [
    "X = df_popular[['valence', 'acousticness', 'danceability',\n",
    "                           'duration_ms', 'energy', 'explicit',\n",
    "                           'instrumentalness', 'key',\n",
    "                           'liveness', 'loudness',\n",
    "                           'mode', 'speechiness', 'tempo']]\n",
    "y = df_popular[['popularity']]\n",
    "X_train, X_test, y_train, y_test = train_test_split(\n",
    "    X, y, test_size=0.33, random_state=42)\n",
    "reg_popular_tracks = LinearRegression()\n",
    "reg_popular_tracks.fit(X_train, y_train)\n",
    "y_pred = reg_popular_tracks.predict(X_test)\n",
    "sc.metrics.r2_score(y_test, y_pred)"
   ]
  },
  {
   "cell_type": "markdown",
   "metadata": {},
   "source": [
    "We can see that we get a lower r-squared when we break out the unpopular tracks. This is presumably because our first model was making incorrect assumptions about the normality of the distribution of the popularity feature, causing it to overestimate accuracy of fit.\n",
    "\n",
    "If we want to look at the confidence intervals for each of the parameters, we need to switch to a different library and use statsmodels. Apparently scikit learn approaches linear regression the same way it would approach a random forest, meaning the parameters of the model and fit are not easily accessible.\n",
    "\n",
    "Let's start by applying Ordinary Least Squares (OLS) to both our datasets - the one with all tracks and the one with just the popular tracks:"
   ]
  },
  {
   "cell_type": "code",
   "execution_count": 79,
   "metadata": {},
   "outputs": [
    {
     "data": {
      "text/html": [
       "<table class=\"simpletable\">\n",
       "<caption>OLS Regression Results</caption>\n",
       "<tr>\n",
       "  <th>Dep. Variable:</th>       <td>popularity</td>    <th>  R-squared (uncentered):</th>       <td>   0.811</td>  \n",
       "</tr>\n",
       "<tr>\n",
       "  <th>Model:</th>                   <td>OLS</td>       <th>  Adj. R-squared (uncentered):</th>  <td>   0.811</td>  \n",
       "</tr>\n",
       "<tr>\n",
       "  <th>Method:</th>             <td>Least Squares</td>  <th>  F-statistic:       </th>           <td>5.625e+04</td> \n",
       "</tr>\n",
       "<tr>\n",
       "  <th>Date:</th>             <td>Mon, 22 Feb 2021</td> <th>  Prob (F-statistic):</th>            <td>  0.00</td>   \n",
       "</tr>\n",
       "<tr>\n",
       "  <th>Time:</th>                 <td>15:07:02</td>     <th>  Log-Likelihood:    </th>          <td>-7.2204e+05</td>\n",
       "</tr>\n",
       "<tr>\n",
       "  <th>No. Observations:</th>      <td>170653</td>      <th>  AIC:               </th>           <td>1.444e+06</td> \n",
       "</tr>\n",
       "<tr>\n",
       "  <th>Df Residuals:</th>          <td>170640</td>      <th>  BIC:               </th>           <td>1.444e+06</td> \n",
       "</tr>\n",
       "<tr>\n",
       "  <th>Df Model:</th>              <td>    13</td>      <th>                     </th>               <td> </td>     \n",
       "</tr>\n",
       "<tr>\n",
       "  <th>Covariance Type:</th>      <td>nonrobust</td>    <th>                     </th>               <td> </td>     \n",
       "</tr>\n",
       "</table>\n",
       "<table class=\"simpletable\">\n",
       "<tr>\n",
       "          <td></td>            <th>coef</th>     <th>std err</th>      <th>t</th>      <th>P>|t|</th>  <th>[0.025</th>    <th>0.975]</th>  \n",
       "</tr>\n",
       "<tr>\n",
       "  <th>valence</th>          <td>  -23.0970</td> <td>    0.205</td> <td> -112.661</td> <td> 0.000</td> <td>  -23.499</td> <td>  -22.695</td>\n",
       "</tr>\n",
       "<tr>\n",
       "  <th>acousticness</th>     <td>  -12.0851</td> <td>    0.149</td> <td>  -81.314</td> <td> 0.000</td> <td>  -12.376</td> <td>  -11.794</td>\n",
       "</tr>\n",
       "<tr>\n",
       "  <th>danceability</th>     <td>   36.8403</td> <td>    0.272</td> <td>  135.224</td> <td> 0.000</td> <td>   36.306</td> <td>   37.374</td>\n",
       "</tr>\n",
       "<tr>\n",
       "  <th>duration_ms</th>      <td> 8.186e-06</td> <td> 3.22e-07</td> <td>   25.405</td> <td> 0.000</td> <td> 7.55e-06</td> <td> 8.82e-06</td>\n",
       "</tr>\n",
       "<tr>\n",
       "  <th>energy</th>           <td>   32.8720</td> <td>    0.243</td> <td>  135.417</td> <td> 0.000</td> <td>   32.396</td> <td>   33.348</td>\n",
       "</tr>\n",
       "<tr>\n",
       "  <th>explicit</th>         <td>   10.6833</td> <td>    0.169</td> <td>   63.281</td> <td> 0.000</td> <td>   10.352</td> <td>   11.014</td>\n",
       "</tr>\n",
       "<tr>\n",
       "  <th>instrumentalness</th> <td>  -10.1335</td> <td>    0.148</td> <td>  -68.347</td> <td> 0.000</td> <td>  -10.424</td> <td>   -9.843</td>\n",
       "</tr>\n",
       "<tr>\n",
       "  <th>key</th>              <td>    0.1731</td> <td>    0.011</td> <td>   15.155</td> <td> 0.000</td> <td>    0.151</td> <td>    0.195</td>\n",
       "</tr>\n",
       "<tr>\n",
       "  <th>liveness</th>         <td>   -6.4142</td> <td>    0.240</td> <td>  -26.674</td> <td> 0.000</td> <td>   -6.885</td> <td>   -5.943</td>\n",
       "</tr>\n",
       "<tr>\n",
       "  <th>loudness</th>         <td>   -0.5536</td> <td>    0.010</td> <td>  -57.518</td> <td> 0.000</td> <td>   -0.572</td> <td>   -0.535</td>\n",
       "</tr>\n",
       "<tr>\n",
       "  <th>mode</th>             <td>    1.5685</td> <td>    0.088</td> <td>   17.816</td> <td> 0.000</td> <td>    1.396</td> <td>    1.741</td>\n",
       "</tr>\n",
       "<tr>\n",
       "  <th>speechiness</th>      <td>  -37.6157</td> <td>    0.292</td> <td> -128.622</td> <td> 0.000</td> <td>  -38.189</td> <td>  -37.043</td>\n",
       "</tr>\n",
       "<tr>\n",
       "  <th>tempo</th>            <td>    0.0792</td> <td>    0.001</td> <td>   63.159</td> <td> 0.000</td> <td>    0.077</td> <td>    0.082</td>\n",
       "</tr>\n",
       "</table>\n",
       "<table class=\"simpletable\">\n",
       "<tr>\n",
       "  <th>Omnibus:</th>       <td>3580.501</td> <th>  Durbin-Watson:     </th> <td>   0.902</td>\n",
       "</tr>\n",
       "<tr>\n",
       "  <th>Prob(Omnibus):</th>  <td> 0.000</td>  <th>  Jarque-Bera (JB):  </th> <td>3848.409</td>\n",
       "</tr>\n",
       "<tr>\n",
       "  <th>Skew:</th>           <td> 0.349</td>  <th>  Prob(JB):          </th> <td>    0.00</td>\n",
       "</tr>\n",
       "<tr>\n",
       "  <th>Kurtosis:</th>       <td> 3.235</td>  <th>  Cond. No.          </th> <td>2.16e+06</td>\n",
       "</tr>\n",
       "</table><br/><br/>Notes:<br/>[1] R² is computed without centering (uncentered) since the model does not contain a constant.<br/>[2] Standard Errors assume that the covariance matrix of the errors is correctly specified.<br/>[3] The condition number is large, 2.16e+06. This might indicate that there are<br/>strong multicollinearity or other numerical problems."
      ],
      "text/plain": [
       "<class 'statsmodels.iolib.summary.Summary'>\n",
       "\"\"\"\n",
       "                                 OLS Regression Results                                \n",
       "=======================================================================================\n",
       "Dep. Variable:             popularity   R-squared (uncentered):                   0.811\n",
       "Model:                            OLS   Adj. R-squared (uncentered):              0.811\n",
       "Method:                 Least Squares   F-statistic:                          5.625e+04\n",
       "Date:                Mon, 22 Feb 2021   Prob (F-statistic):                        0.00\n",
       "Time:                        15:07:02   Log-Likelihood:                     -7.2204e+05\n",
       "No. Observations:              170653   AIC:                                  1.444e+06\n",
       "Df Residuals:                  170640   BIC:                                  1.444e+06\n",
       "Df Model:                          13                                                  \n",
       "Covariance Type:            nonrobust                                                  \n",
       "====================================================================================\n",
       "                       coef    std err          t      P>|t|      [0.025      0.975]\n",
       "------------------------------------------------------------------------------------\n",
       "valence            -23.0970      0.205   -112.661      0.000     -23.499     -22.695\n",
       "acousticness       -12.0851      0.149    -81.314      0.000     -12.376     -11.794\n",
       "danceability        36.8403      0.272    135.224      0.000      36.306      37.374\n",
       "duration_ms       8.186e-06   3.22e-07     25.405      0.000    7.55e-06    8.82e-06\n",
       "energy              32.8720      0.243    135.417      0.000      32.396      33.348\n",
       "explicit            10.6833      0.169     63.281      0.000      10.352      11.014\n",
       "instrumentalness   -10.1335      0.148    -68.347      0.000     -10.424      -9.843\n",
       "key                  0.1731      0.011     15.155      0.000       0.151       0.195\n",
       "liveness            -6.4142      0.240    -26.674      0.000      -6.885      -5.943\n",
       "loudness            -0.5536      0.010    -57.518      0.000      -0.572      -0.535\n",
       "mode                 1.5685      0.088     17.816      0.000       1.396       1.741\n",
       "speechiness        -37.6157      0.292   -128.622      0.000     -38.189     -37.043\n",
       "tempo                0.0792      0.001     63.159      0.000       0.077       0.082\n",
       "==============================================================================\n",
       "Omnibus:                     3580.501   Durbin-Watson:                   0.902\n",
       "Prob(Omnibus):                  0.000   Jarque-Bera (JB):             3848.409\n",
       "Skew:                           0.349   Prob(JB):                         0.00\n",
       "Kurtosis:                       3.235   Cond. No.                     2.16e+06\n",
       "==============================================================================\n",
       "\n",
       "Notes:\n",
       "[1] R² is computed without centering (uncentered) since the model does not contain a constant.\n",
       "[2] Standard Errors assume that the covariance matrix of the errors is correctly specified.\n",
       "[3] The condition number is large, 2.16e+06. This might indicate that there are\n",
       "strong multicollinearity or other numerical problems.\n",
       "\"\"\""
      ]
     },
     "execution_count": 79,
     "metadata": {},
     "output_type": "execute_result"
    }
   ],
   "source": [
    "X = df[['valence', 'acousticness', 'danceability',\n",
    "                           'duration_ms', 'energy', 'explicit',\n",
    "                           'instrumentalness', 'key',\n",
    "                           'liveness', 'loudness',\n",
    "                           'mode', 'speechiness', 'tempo']]\n",
    "y = df[['popularity']]\n",
    "model_all_tracks = sm.OLS(y, X)\n",
    "results_all_tracks = model_all_tracks.fit()\n",
    "results_all_tracks.summary()"
   ]
  },
  {
   "cell_type": "code",
   "execution_count": 80,
   "metadata": {},
   "outputs": [
    {
     "data": {
      "text/html": [
       "<table class=\"simpletable\">\n",
       "<caption>OLS Regression Results</caption>\n",
       "<tr>\n",
       "  <th>Dep. Variable:</th>       <td>popularity</td>    <th>  R-squared (uncentered):</th>       <td>   0.880</td>  \n",
       "</tr>\n",
       "<tr>\n",
       "  <th>Model:</th>                   <td>OLS</td>       <th>  Adj. R-squared (uncentered):</th>  <td>   0.880</td>  \n",
       "</tr>\n",
       "<tr>\n",
       "  <th>Method:</th>             <td>Least Squares</td>  <th>  F-statistic:       </th>           <td>7.601e+04</td> \n",
       "</tr>\n",
       "<tr>\n",
       "  <th>Date:</th>             <td>Mon, 22 Feb 2021</td> <th>  Prob (F-statistic):</th>            <td>  0.00</td>   \n",
       "</tr>\n",
       "<tr>\n",
       "  <th>Time:</th>                 <td>15:07:05</td>     <th>  Log-Likelihood:    </th>          <td>-5.5455e+05</td>\n",
       "</tr>\n",
       "<tr>\n",
       "  <th>No. Observations:</th>      <td>134553</td>      <th>  AIC:               </th>           <td>1.109e+06</td> \n",
       "</tr>\n",
       "<tr>\n",
       "  <th>Df Residuals:</th>          <td>134540</td>      <th>  BIC:               </th>           <td>1.109e+06</td> \n",
       "</tr>\n",
       "<tr>\n",
       "  <th>Df Model:</th>              <td>    13</td>      <th>                     </th>               <td> </td>     \n",
       "</tr>\n",
       "<tr>\n",
       "  <th>Covariance Type:</th>      <td>nonrobust</td>    <th>                     </th>               <td> </td>     \n",
       "</tr>\n",
       "</table>\n",
       "<table class=\"simpletable\">\n",
       "<tr>\n",
       "          <td></td>            <th>coef</th>     <th>std err</th>      <th>t</th>      <th>P>|t|</th>  <th>[0.025</th>    <th>0.975]</th>  \n",
       "</tr>\n",
       "<tr>\n",
       "  <th>valence</th>          <td>  -21.7153</td> <td>    0.207</td> <td> -105.133</td> <td> 0.000</td> <td>  -22.120</td> <td>  -21.310</td>\n",
       "</tr>\n",
       "<tr>\n",
       "  <th>acousticness</th>     <td>   -0.9562</td> <td>    0.160</td> <td>   -5.986</td> <td> 0.000</td> <td>   -1.269</td> <td>   -0.643</td>\n",
       "</tr>\n",
       "<tr>\n",
       "  <th>danceability</th>     <td>   36.9447</td> <td>    0.270</td> <td>  137.076</td> <td> 0.000</td> <td>   36.416</td> <td>   37.473</td>\n",
       "</tr>\n",
       "<tr>\n",
       "  <th>duration_ms</th>      <td> 8.018e-06</td> <td> 3.56e-07</td> <td>   22.545</td> <td> 0.000</td> <td> 7.32e-06</td> <td> 8.72e-06</td>\n",
       "</tr>\n",
       "<tr>\n",
       "  <th>energy</th>           <td>   28.1367</td> <td>    0.247</td> <td>  113.883</td> <td> 0.000</td> <td>   27.652</td> <td>   28.621</td>\n",
       "</tr>\n",
       "<tr>\n",
       "  <th>explicit</th>         <td>    9.7713</td> <td>    0.164</td> <td>   59.534</td> <td> 0.000</td> <td>    9.450</td> <td>   10.093</td>\n",
       "</tr>\n",
       "<tr>\n",
       "  <th>instrumentalness</th> <td>   -3.6101</td> <td>    0.170</td> <td>  -21.257</td> <td> 0.000</td> <td>   -3.943</td> <td>   -3.277</td>\n",
       "</tr>\n",
       "<tr>\n",
       "  <th>key</th>              <td>    0.2068</td> <td>    0.012</td> <td>   17.957</td> <td> 0.000</td> <td>    0.184</td> <td>    0.229</td>\n",
       "</tr>\n",
       "<tr>\n",
       "  <th>liveness</th>         <td>   -5.3678</td> <td>    0.240</td> <td>  -22.330</td> <td> 0.000</td> <td>   -5.839</td> <td>   -4.897</td>\n",
       "</tr>\n",
       "<tr>\n",
       "  <th>loudness</th>         <td>   -0.3374</td> <td>    0.011</td> <td>  -31.854</td> <td> 0.000</td> <td>   -0.358</td> <td>   -0.317</td>\n",
       "</tr>\n",
       "<tr>\n",
       "  <th>mode</th>             <td>    1.5849</td> <td>    0.089</td> <td>   17.739</td> <td> 0.000</td> <td>    1.410</td> <td>    1.760</td>\n",
       "</tr>\n",
       "<tr>\n",
       "  <th>speechiness</th>      <td>  -15.8749</td> <td>    0.462</td> <td>  -34.382</td> <td> 0.000</td> <td>  -16.780</td> <td>  -14.970</td>\n",
       "</tr>\n",
       "<tr>\n",
       "  <th>tempo</th>            <td>    0.0857</td> <td>    0.001</td> <td>   67.677</td> <td> 0.000</td> <td>    0.083</td> <td>    0.088</td>\n",
       "</tr>\n",
       "</table>\n",
       "<table class=\"simpletable\">\n",
       "<tr>\n",
       "  <th>Omnibus:</th>       <td>2102.698</td> <th>  Durbin-Watson:     </th> <td>   0.774</td>\n",
       "</tr>\n",
       "<tr>\n",
       "  <th>Prob(Omnibus):</th>  <td> 0.000</td>  <th>  Jarque-Bera (JB):  </th> <td>2131.513</td>\n",
       "</tr>\n",
       "<tr>\n",
       "  <th>Skew:</th>           <td> 0.293</td>  <th>  Prob(JB):          </th> <td>    0.00</td>\n",
       "</tr>\n",
       "<tr>\n",
       "  <th>Kurtosis:</th>       <td> 2.806</td>  <th>  Cond. No.          </th> <td>3.02e+06</td>\n",
       "</tr>\n",
       "</table><br/><br/>Notes:<br/>[1] R² is computed without centering (uncentered) since the model does not contain a constant.<br/>[2] Standard Errors assume that the covariance matrix of the errors is correctly specified.<br/>[3] The condition number is large, 3.02e+06. This might indicate that there are<br/>strong multicollinearity or other numerical problems."
      ],
      "text/plain": [
       "<class 'statsmodels.iolib.summary.Summary'>\n",
       "\"\"\"\n",
       "                                 OLS Regression Results                                \n",
       "=======================================================================================\n",
       "Dep. Variable:             popularity   R-squared (uncentered):                   0.880\n",
       "Model:                            OLS   Adj. R-squared (uncentered):              0.880\n",
       "Method:                 Least Squares   F-statistic:                          7.601e+04\n",
       "Date:                Mon, 22 Feb 2021   Prob (F-statistic):                        0.00\n",
       "Time:                        15:07:05   Log-Likelihood:                     -5.5455e+05\n",
       "No. Observations:              134553   AIC:                                  1.109e+06\n",
       "Df Residuals:                  134540   BIC:                                  1.109e+06\n",
       "Df Model:                          13                                                  \n",
       "Covariance Type:            nonrobust                                                  \n",
       "====================================================================================\n",
       "                       coef    std err          t      P>|t|      [0.025      0.975]\n",
       "------------------------------------------------------------------------------------\n",
       "valence            -21.7153      0.207   -105.133      0.000     -22.120     -21.310\n",
       "acousticness        -0.9562      0.160     -5.986      0.000      -1.269      -0.643\n",
       "danceability        36.9447      0.270    137.076      0.000      36.416      37.473\n",
       "duration_ms       8.018e-06   3.56e-07     22.545      0.000    7.32e-06    8.72e-06\n",
       "energy              28.1367      0.247    113.883      0.000      27.652      28.621\n",
       "explicit             9.7713      0.164     59.534      0.000       9.450      10.093\n",
       "instrumentalness    -3.6101      0.170    -21.257      0.000      -3.943      -3.277\n",
       "key                  0.2068      0.012     17.957      0.000       0.184       0.229\n",
       "liveness            -5.3678      0.240    -22.330      0.000      -5.839      -4.897\n",
       "loudness            -0.3374      0.011    -31.854      0.000      -0.358      -0.317\n",
       "mode                 1.5849      0.089     17.739      0.000       1.410       1.760\n",
       "speechiness        -15.8749      0.462    -34.382      0.000     -16.780     -14.970\n",
       "tempo                0.0857      0.001     67.677      0.000       0.083       0.088\n",
       "==============================================================================\n",
       "Omnibus:                     2102.698   Durbin-Watson:                   0.774\n",
       "Prob(Omnibus):                  0.000   Jarque-Bera (JB):             2131.513\n",
       "Skew:                           0.293   Prob(JB):                         0.00\n",
       "Kurtosis:                       2.806   Cond. No.                     3.02e+06\n",
       "==============================================================================\n",
       "\n",
       "Notes:\n",
       "[1] R² is computed without centering (uncentered) since the model does not contain a constant.\n",
       "[2] Standard Errors assume that the covariance matrix of the errors is correctly specified.\n",
       "[3] The condition number is large, 3.02e+06. This might indicate that there are\n",
       "strong multicollinearity or other numerical problems.\n",
       "\"\"\""
      ]
     },
     "execution_count": 80,
     "metadata": {},
     "output_type": "execute_result"
    }
   ],
   "source": [
    "X = df_popular[['valence', 'acousticness', 'danceability',\n",
    "                           'duration_ms', 'energy', 'explicit',\n",
    "                           'instrumentalness', 'key',\n",
    "                           'liveness', 'loudness',\n",
    "                           'mode', 'speechiness', 'tempo']]\n",
    "y = df_popular[['popularity']]\n",
    "model_popular_tracks = sm.OLS(y, X)\n",
    "results_popular_tracks = model_popular_tracks.fit()\n",
    "results_popular_tracks.summary()"
   ]
  },
  {
   "cell_type": "code",
   "execution_count": 81,
   "metadata": {},
   "outputs": [
    {
     "data": {
      "text/plain": [
       "0.0"
      ]
     },
     "execution_count": 81,
     "metadata": {},
     "output_type": "execute_result"
    }
   ],
   "source": [
    "results_all_tracks.f_pvalue"
   ]
  },
  {
   "cell_type": "code",
   "execution_count": 82,
   "metadata": {},
   "outputs": [
    {
     "data": {
      "text/plain": [
       "0.0"
      ]
     },
     "execution_count": 82,
     "metadata": {},
     "output_type": "execute_result"
    }
   ],
   "source": [
    "results_popular_tracks.f_pvalue"
   ]
  },
  {
   "cell_type": "markdown",
   "metadata": {},
   "source": [
    "Let's also run a logistic regression to predict whether or not a track will be popular, using the popular_or_not column:"
   ]
  },
  {
   "cell_type": "code",
   "execution_count": 84,
   "metadata": {},
   "outputs": [
    {
     "name": "stdout",
     "output_type": "stream",
     "text": [
      "Optimization terminated successfully.\n",
      "         Current function value: 0.318627\n",
      "         Iterations 8\n"
     ]
    },
    {
     "data": {
      "text/html": [
       "<table class=\"simpletable\">\n",
       "<caption>Logit Regression Results</caption>\n",
       "<tr>\n",
       "  <th>Dep. Variable:</th>    <td>popular_or_not</td>  <th>  No. Observations:  </th>  <td>170653</td> \n",
       "</tr>\n",
       "<tr>\n",
       "  <th>Model:</th>                 <td>Logit</td>      <th>  Df Residuals:      </th>  <td>170640</td> \n",
       "</tr>\n",
       "<tr>\n",
       "  <th>Method:</th>                 <td>MLE</td>       <th>  Df Model:          </th>  <td>    12</td> \n",
       "</tr>\n",
       "<tr>\n",
       "  <th>Date:</th>            <td>Mon, 22 Feb 2021</td> <th>  Pseudo R-squ.:     </th>  <td>0.3825</td> \n",
       "</tr>\n",
       "<tr>\n",
       "  <th>Time:</th>                <td>15:23:10</td>     <th>  Log-Likelihood:    </th> <td> -54375.</td>\n",
       "</tr>\n",
       "<tr>\n",
       "  <th>converged:</th>             <td>True</td>       <th>  LL-Null:           </th> <td> -88055.</td>\n",
       "</tr>\n",
       "<tr>\n",
       "  <th>Covariance Type:</th>     <td>nonrobust</td>    <th>  LLR p-value:       </th>  <td> 0.000</td> \n",
       "</tr>\n",
       "</table>\n",
       "<table class=\"simpletable\">\n",
       "<tr>\n",
       "          <td></td>            <th>coef</th>     <th>std err</th>      <th>z</th>      <th>P>|z|</th>  <th>[0.025</th>    <th>0.975]</th>  \n",
       "</tr>\n",
       "<tr>\n",
       "  <th>valence</th>          <td>   -2.1625</td> <td>    0.043</td> <td>  -50.183</td> <td> 0.000</td> <td>   -2.247</td> <td>   -2.078</td>\n",
       "</tr>\n",
       "<tr>\n",
       "  <th>acousticness</th>     <td>   -3.4513</td> <td>    0.034</td> <td> -101.878</td> <td> 0.000</td> <td>   -3.518</td> <td>   -3.385</td>\n",
       "</tr>\n",
       "<tr>\n",
       "  <th>danceability</th>     <td>    2.6811</td> <td>    0.057</td> <td>   47.001</td> <td> 0.000</td> <td>    2.569</td> <td>    2.793</td>\n",
       "</tr>\n",
       "<tr>\n",
       "  <th>duration_ms</th>      <td> 6.486e-07</td> <td> 5.66e-08</td> <td>   11.456</td> <td> 0.000</td> <td> 5.38e-07</td> <td>  7.6e-07</td>\n",
       "</tr>\n",
       "<tr>\n",
       "  <th>energy</th>           <td>    4.4543</td> <td>    0.055</td> <td>   81.343</td> <td> 0.000</td> <td>    4.347</td> <td>    4.562</td>\n",
       "</tr>\n",
       "<tr>\n",
       "  <th>explicit</th>         <td>    0.1710</td> <td>    0.048</td> <td>    3.533</td> <td> 0.000</td> <td>    0.076</td> <td>    0.266</td>\n",
       "</tr>\n",
       "<tr>\n",
       "  <th>instrumentalness</th> <td>   -1.5018</td> <td>    0.024</td> <td>  -63.769</td> <td> 0.000</td> <td>   -1.548</td> <td>   -1.456</td>\n",
       "</tr>\n",
       "<tr>\n",
       "  <th>key</th>              <td>    0.0065</td> <td>    0.002</td> <td>    2.998</td> <td> 0.003</td> <td>    0.002</td> <td>    0.011</td>\n",
       "</tr>\n",
       "<tr>\n",
       "  <th>liveness</th>         <td>   -0.5965</td> <td>    0.047</td> <td>  -12.651</td> <td> 0.000</td> <td>   -0.689</td> <td>   -0.504</td>\n",
       "</tr>\n",
       "<tr>\n",
       "  <th>loudness</th>         <td>   -0.1282</td> <td>    0.002</td> <td>  -74.046</td> <td> 0.000</td> <td>   -0.132</td> <td>   -0.125</td>\n",
       "</tr>\n",
       "<tr>\n",
       "  <th>mode</th>             <td>    0.2125</td> <td>    0.017</td> <td>   12.793</td> <td> 0.000</td> <td>    0.180</td> <td>    0.245</td>\n",
       "</tr>\n",
       "<tr>\n",
       "  <th>speechiness</th>      <td>   -5.9581</td> <td>    0.062</td> <td>  -96.044</td> <td> 0.000</td> <td>   -6.080</td> <td>   -5.837</td>\n",
       "</tr>\n",
       "<tr>\n",
       "  <th>tempo</th>            <td>    0.0069</td> <td>    0.000</td> <td>   29.065</td> <td> 0.000</td> <td>    0.006</td> <td>    0.007</td>\n",
       "</tr>\n",
       "</table>"
      ],
      "text/plain": [
       "<class 'statsmodels.iolib.summary.Summary'>\n",
       "\"\"\"\n",
       "                           Logit Regression Results                           \n",
       "==============================================================================\n",
       "Dep. Variable:         popular_or_not   No. Observations:               170653\n",
       "Model:                          Logit   Df Residuals:                   170640\n",
       "Method:                           MLE   Df Model:                           12\n",
       "Date:                Mon, 22 Feb 2021   Pseudo R-squ.:                  0.3825\n",
       "Time:                        15:23:10   Log-Likelihood:                -54375.\n",
       "converged:                       True   LL-Null:                       -88055.\n",
       "Covariance Type:            nonrobust   LLR p-value:                     0.000\n",
       "====================================================================================\n",
       "                       coef    std err          z      P>|z|      [0.025      0.975]\n",
       "------------------------------------------------------------------------------------\n",
       "valence             -2.1625      0.043    -50.183      0.000      -2.247      -2.078\n",
       "acousticness        -3.4513      0.034   -101.878      0.000      -3.518      -3.385\n",
       "danceability         2.6811      0.057     47.001      0.000       2.569       2.793\n",
       "duration_ms       6.486e-07   5.66e-08     11.456      0.000    5.38e-07     7.6e-07\n",
       "energy               4.4543      0.055     81.343      0.000       4.347       4.562\n",
       "explicit             0.1710      0.048      3.533      0.000       0.076       0.266\n",
       "instrumentalness    -1.5018      0.024    -63.769      0.000      -1.548      -1.456\n",
       "key                  0.0065      0.002      2.998      0.003       0.002       0.011\n",
       "liveness            -0.5965      0.047    -12.651      0.000      -0.689      -0.504\n",
       "loudness            -0.1282      0.002    -74.046      0.000      -0.132      -0.125\n",
       "mode                 0.2125      0.017     12.793      0.000       0.180       0.245\n",
       "speechiness         -5.9581      0.062    -96.044      0.000      -6.080      -5.837\n",
       "tempo                0.0069      0.000     29.065      0.000       0.006       0.007\n",
       "====================================================================================\n",
       "\"\"\""
      ]
     },
     "execution_count": 84,
     "metadata": {},
     "output_type": "execute_result"
    }
   ],
   "source": [
    "X = df[['valence', 'acousticness', 'danceability',\n",
    "                           'duration_ms', 'energy', 'explicit',\n",
    "                           'instrumentalness', 'key',\n",
    "                           'liveness', 'loudness',\n",
    "                           'mode', 'speechiness', 'tempo']]\n",
    "y = df[['popular_or_not']]\n",
    "logit_mod = sm.Logit(y, X)\n",
    "results_logit = logit_mod.fit()\n",
    "results_logit.summary()"
   ]
  },
  {
   "cell_type": "markdown",
   "metadata": {},
   "source": [
    "Now, let's see what happens if we use what we learned in the \"Preparing the data\" section. How do the new columns and rules we decided on help improve our models?\n",
    "\n",
    "As a reminder, we want to:\n",
    "- Look at popular songs and unpopular songs separately, using a logistic regression to predict popularity (we already did this above)\n",
    "- Use the log of the track duration in all models\n",
    "- Use the log of quietness in all models\n",
    "- Use newly added columns for the key as categorical variables\n",
    "- Leave instrumentalness out of the model completely as it's mostly equal to 0\n",
    "- Use the log liveness column, leave out infinite values"
   ]
  },
  {
   "cell_type": "code",
   "execution_count": 187,
   "metadata": {},
   "outputs": [
    {
     "data": {
      "text/plain": [
       "Index(['valence', 'year', 'acousticness', 'artists', 'danceability',\n",
       "       'duration_ms', 'energy', 'explicit', 'id', 'instrumentalness', 'key',\n",
       "       'liveness', 'loudness', 'mode', 'name', 'popularity', 'release_date',\n",
       "       'speechiness', 'tempo', 'popular_or_not', 'duration_log', 'key_0',\n",
       "       'key_1', 'key_2', 'key_3', 'key_4', 'key_5', 'key_6', 'key_7', 'key_8',\n",
       "       'key_9', 'key_10', 'key_11', 'quietness', 'quietness_log',\n",
       "       'log_liveness', 'log_speechiness'],\n",
       "      dtype='object')"
      ]
     },
     "execution_count": 187,
     "metadata": {},
     "output_type": "execute_result"
    }
   ],
   "source": [
    "df.columns"
   ]
  },
  {
   "cell_type": "markdown",
   "metadata": {},
   "source": [
    "Let's start with our original linear regression model using SciKit learn:"
   ]
  },
  {
   "cell_type": "code",
   "execution_count": 192,
   "metadata": {},
   "outputs": [
    {
     "data": {
      "text/plain": [
       "0.4469843155265203"
      ]
     },
     "execution_count": 192,
     "metadata": {},
     "output_type": "execute_result"
    }
   ],
   "source": [
    "X = df[['valence', 'acousticness', 'danceability', 'duration_log', \n",
    "        'energy', 'explicit', 'log_liveness', \n",
    "        'quietness_log', 'mode', 'speechiness', 'tempo',\n",
    "       'key_0','key_1','key_2','key_3','key_4','key_5','key_6','key_7','key_8','key_9','key_10','key_11']][np.isfinite(df['log_liveness']) & ~df['quietness_log'].isna()]\n",
    "y = df[['popularity']][np.isfinite(df['log_liveness']) & ~df['quietness_log'].isna()]\n",
    "X_train, X_test, y_train, y_test = train_test_split(\n",
    "    X, y, test_size=0.33, random_state=42)\n",
    "basic_reg_all_tracks_eng = LinearRegression()\n",
    "basic_reg_all_tracks_eng.fit(X_train, y_train)\n",
    "y_pred = basic_reg_all_tracks_eng.predict(X_test)\n",
    "sc.metrics.r2_score(y_test, y_pred)"
   ]
  },
  {
   "cell_type": "markdown",
   "metadata": {},
   "source": [
    "I get a slightly lower r-squared than previously, but I'm assuming I can be more confident of this assessment as my input features are more accurate?"
   ]
  },
  {
   "cell_type": "code",
   "execution_count": 197,
   "metadata": {},
   "outputs": [
    {
     "name": "stderr",
     "output_type": "stream",
     "text": [
      "<ipython-input-197-0b1112d57d9b>:1: UserWarning: Boolean Series key will be reindexed to match DataFrame index.\n",
      "  X = df_popular[['valence', 'acousticness', 'danceability', 'duration_log',\n",
      "<ipython-input-197-0b1112d57d9b>:5: UserWarning: Boolean Series key will be reindexed to match DataFrame index.\n",
      "  y = df_popular[['popularity']][np.isfinite(df['log_liveness']) & ~df['quietness_log'].isna()]\n"
     ]
    },
    {
     "data": {
      "text/plain": [
       "0.13998270518102496"
      ]
     },
     "execution_count": 197,
     "metadata": {},
     "output_type": "execute_result"
    }
   ],
   "source": [
    "X = df_popular[['valence', 'acousticness', 'danceability', 'duration_log', \n",
    "        'energy', 'explicit', 'log_liveness', \n",
    "        'quietness_log', 'mode', 'speechiness', 'tempo',\n",
    "       'key_0','key_1','key_2','key_3','key_4','key_5','key_6','key_7','key_8','key_9','key_10','key_11']][np.isfinite(df['log_liveness']) & ~df['quietness_log'].isna()]\n",
    "y = df_popular[['popularity']][np.isfinite(df['log_liveness']) & ~df['quietness_log'].isna()]\n",
    "X_train, X_test, y_train, y_test = train_test_split(\n",
    "    X, y, test_size=0.33, random_state=42)\n",
    "reg_popular_tracks_eng = LinearRegression()\n",
    "reg_popular_tracks_eng.fit(X_train, y_train)\n",
    "y_pred = basic_reg_all_tracks_eng.predict(X_test)\n",
    "sc.metrics.r2_score(y_test, y_pred)"
   ]
  },
  {
   "cell_type": "markdown",
   "metadata": {},
   "source": [
    "I get a much lower r-squared (0.13 vs 0.28) when I do a linear regression using all my engineered features AND the updated popularity feature."
   ]
  },
  {
   "cell_type": "code",
   "execution_count": 198,
   "metadata": {},
   "outputs": [
    {
     "name": "stderr",
     "output_type": "stream",
     "text": [
      "<ipython-input-198-943ad98d2c31>:1: UserWarning: Boolean Series key will be reindexed to match DataFrame index.\n",
      "  X = df_popular[['valence', 'acousticness', 'danceability', 'duration_log',\n",
      "<ipython-input-198-943ad98d2c31>:5: UserWarning: Boolean Series key will be reindexed to match DataFrame index.\n",
      "  y = df_popular[['popularity']][np.isfinite(df['log_liveness']) & ~df['quietness_log'].isna()]\n"
     ]
    },
    {
     "data": {
      "text/html": [
       "<table class=\"simpletable\">\n",
       "<caption>OLS Regression Results</caption>\n",
       "<tr>\n",
       "  <th>Dep. Variable:</th>       <td>popularity</td>    <th>  R-squared:         </th>  <td>   0.300</td>  \n",
       "</tr>\n",
       "<tr>\n",
       "  <th>Model:</th>                   <td>OLS</td>       <th>  Adj. R-squared:    </th>  <td>   0.300</td>  \n",
       "</tr>\n",
       "<tr>\n",
       "  <th>Method:</th>             <td>Least Squares</td>  <th>  F-statistic:       </th>  <td>   2620.</td>  \n",
       "</tr>\n",
       "<tr>\n",
       "  <th>Date:</th>             <td>Mon, 22 Feb 2021</td> <th>  Prob (F-statistic):</th>   <td>  0.00</td>   \n",
       "</tr>\n",
       "<tr>\n",
       "  <th>Time:</th>                 <td>17:26:02</td>     <th>  Log-Likelihood:    </th> <td>-5.4579e+05</td>\n",
       "</tr>\n",
       "<tr>\n",
       "  <th>No. Observations:</th>      <td>134525</td>      <th>  AIC:               </th>  <td>1.092e+06</td> \n",
       "</tr>\n",
       "<tr>\n",
       "  <th>Df Residuals:</th>          <td>134502</td>      <th>  BIC:               </th>  <td>1.092e+06</td> \n",
       "</tr>\n",
       "<tr>\n",
       "  <th>Df Model:</th>              <td>    22</td>      <th>                     </th>      <td> </td>     \n",
       "</tr>\n",
       "<tr>\n",
       "  <th>Covariance Type:</th>      <td>nonrobust</td>    <th>                     </th>      <td> </td>     \n",
       "</tr>\n",
       "</table>\n",
       "<table class=\"simpletable\">\n",
       "<tr>\n",
       "        <td></td>           <th>coef</th>     <th>std err</th>      <th>t</th>      <th>P>|t|</th>  <th>[0.025</th>    <th>0.975]</th>  \n",
       "</tr>\n",
       "<tr>\n",
       "  <th>valence</th>       <td>  -14.5026</td> <td>    0.201</td> <td>  -72.118</td> <td> 0.000</td> <td>  -14.897</td> <td>  -14.108</td>\n",
       "</tr>\n",
       "<tr>\n",
       "  <th>acousticness</th>  <td>  -11.6490</td> <td>    0.173</td> <td>  -67.172</td> <td> 0.000</td> <td>  -11.989</td> <td>  -11.309</td>\n",
       "</tr>\n",
       "<tr>\n",
       "  <th>danceability</th>  <td>   18.0714</td> <td>    0.293</td> <td>   61.701</td> <td> 0.000</td> <td>   17.497</td> <td>   18.645</td>\n",
       "</tr>\n",
       "<tr>\n",
       "  <th>duration_log</th>  <td>    0.7249</td> <td>    0.106</td> <td>    6.849</td> <td> 0.000</td> <td>    0.517</td> <td>    0.932</td>\n",
       "</tr>\n",
       "<tr>\n",
       "  <th>energy</th>        <td>   -5.2910</td> <td>    0.317</td> <td>  -16.698</td> <td> 0.000</td> <td>   -5.912</td> <td>   -4.670</td>\n",
       "</tr>\n",
       "<tr>\n",
       "  <th>explicit</th>      <td>    7.7718</td> <td>    0.155</td> <td>   50.040</td> <td> 0.000</td> <td>    7.467</td> <td>    8.076</td>\n",
       "</tr>\n",
       "<tr>\n",
       "  <th>log_liveness</th>  <td>   -1.4362</td> <td>    0.056</td> <td>  -25.496</td> <td> 0.000</td> <td>   -1.547</td> <td>   -1.326</td>\n",
       "</tr>\n",
       "<tr>\n",
       "  <th>quietness_log</th> <td>  -10.5686</td> <td>    0.124</td> <td>  -85.113</td> <td> 0.000</td> <td>  -10.812</td> <td>  -10.325</td>\n",
       "</tr>\n",
       "<tr>\n",
       "  <th>mode</th>          <td>   -0.2675</td> <td>    0.087</td> <td>   -3.061</td> <td> 0.002</td> <td>   -0.439</td> <td>   -0.096</td>\n",
       "</tr>\n",
       "<tr>\n",
       "  <th>speechiness</th>   <td>   -9.2962</td> <td>    0.434</td> <td>  -21.442</td> <td> 0.000</td> <td>  -10.146</td> <td>   -8.446</td>\n",
       "</tr>\n",
       "<tr>\n",
       "  <th>tempo</th>         <td>    0.0162</td> <td>    0.001</td> <td>   12.231</td> <td> 0.000</td> <td>    0.014</td> <td>    0.019</td>\n",
       "</tr>\n",
       "<tr>\n",
       "  <th>key_0</th>         <td>   54.9689</td> <td>    1.403</td> <td>   39.183</td> <td> 0.000</td> <td>   52.219</td> <td>   57.719</td>\n",
       "</tr>\n",
       "<tr>\n",
       "  <th>key_1</th>         <td>   56.2467</td> <td>    1.405</td> <td>   40.021</td> <td> 0.000</td> <td>   53.492</td> <td>   59.001</td>\n",
       "</tr>\n",
       "<tr>\n",
       "  <th>key_2</th>         <td>   55.1605</td> <td>    1.403</td> <td>   39.305</td> <td> 0.000</td> <td>   52.410</td> <td>   57.911</td>\n",
       "</tr>\n",
       "<tr>\n",
       "  <th>key_3</th>         <td>   54.8414</td> <td>    1.411</td> <td>   38.867</td> <td> 0.000</td> <td>   52.076</td> <td>   57.607</td>\n",
       "</tr>\n",
       "<tr>\n",
       "  <th>key_4</th>         <td>   56.1607</td> <td>    1.402</td> <td>   40.049</td> <td> 0.000</td> <td>   53.412</td> <td>   58.909</td>\n",
       "</tr>\n",
       "<tr>\n",
       "  <th>key_5</th>         <td>   54.8496</td> <td>    1.405</td> <td>   39.047</td> <td> 0.000</td> <td>   52.096</td> <td>   57.603</td>\n",
       "</tr>\n",
       "<tr>\n",
       "  <th>key_6</th>         <td>   57.2688</td> <td>    1.407</td> <td>   40.705</td> <td> 0.000</td> <td>   54.511</td> <td>   60.026</td>\n",
       "</tr>\n",
       "<tr>\n",
       "  <th>key_7</th>         <td>   55.1492</td> <td>    1.402</td> <td>   39.330</td> <td> 0.000</td> <td>   52.401</td> <td>   57.898</td>\n",
       "</tr>\n",
       "<tr>\n",
       "  <th>key_8</th>         <td>   55.2618</td> <td>    1.408</td> <td>   39.246</td> <td> 0.000</td> <td>   52.502</td> <td>   58.022</td>\n",
       "</tr>\n",
       "<tr>\n",
       "  <th>key_9</th>         <td>   55.3476</td> <td>    1.403</td> <td>   39.457</td> <td> 0.000</td> <td>   52.598</td> <td>   58.097</td>\n",
       "</tr>\n",
       "<tr>\n",
       "  <th>key_10</th>        <td>   54.8145</td> <td>    1.406</td> <td>   38.997</td> <td> 0.000</td> <td>   52.060</td> <td>   57.569</td>\n",
       "</tr>\n",
       "<tr>\n",
       "  <th>key_11</th>        <td>   56.3002</td> <td>    1.405</td> <td>   40.084</td> <td> 0.000</td> <td>   53.547</td> <td>   59.053</td>\n",
       "</tr>\n",
       "</table>\n",
       "<table class=\"simpletable\">\n",
       "<tr>\n",
       "  <th>Omnibus:</th>       <td>2219.816</td> <th>  Durbin-Watson:     </th> <td>   0.726</td>\n",
       "</tr>\n",
       "<tr>\n",
       "  <th>Prob(Omnibus):</th>  <td> 0.000</td>  <th>  Jarque-Bera (JB):  </th> <td>2199.625</td>\n",
       "</tr>\n",
       "<tr>\n",
       "  <th>Skew:</th>           <td> 0.290</td>  <th>  Prob(JB):          </th> <td>    0.00</td>\n",
       "</tr>\n",
       "<tr>\n",
       "  <th>Kurtosis:</th>       <td> 2.762</td>  <th>  Cond. No.          </th> <td>1.57e+04</td>\n",
       "</tr>\n",
       "</table><br/><br/>Notes:<br/>[1] Standard Errors assume that the covariance matrix of the errors is correctly specified.<br/>[2] The condition number is large, 1.57e+04. This might indicate that there are<br/>strong multicollinearity or other numerical problems."
      ],
      "text/plain": [
       "<class 'statsmodels.iolib.summary.Summary'>\n",
       "\"\"\"\n",
       "                            OLS Regression Results                            \n",
       "==============================================================================\n",
       "Dep. Variable:             popularity   R-squared:                       0.300\n",
       "Model:                            OLS   Adj. R-squared:                  0.300\n",
       "Method:                 Least Squares   F-statistic:                     2620.\n",
       "Date:                Mon, 22 Feb 2021   Prob (F-statistic):               0.00\n",
       "Time:                        17:26:02   Log-Likelihood:            -5.4579e+05\n",
       "No. Observations:              134525   AIC:                         1.092e+06\n",
       "Df Residuals:                  134502   BIC:                         1.092e+06\n",
       "Df Model:                          22                                         \n",
       "Covariance Type:            nonrobust                                         \n",
       "=================================================================================\n",
       "                    coef    std err          t      P>|t|      [0.025      0.975]\n",
       "---------------------------------------------------------------------------------\n",
       "valence         -14.5026      0.201    -72.118      0.000     -14.897     -14.108\n",
       "acousticness    -11.6490      0.173    -67.172      0.000     -11.989     -11.309\n",
       "danceability     18.0714      0.293     61.701      0.000      17.497      18.645\n",
       "duration_log      0.7249      0.106      6.849      0.000       0.517       0.932\n",
       "energy           -5.2910      0.317    -16.698      0.000      -5.912      -4.670\n",
       "explicit          7.7718      0.155     50.040      0.000       7.467       8.076\n",
       "log_liveness     -1.4362      0.056    -25.496      0.000      -1.547      -1.326\n",
       "quietness_log   -10.5686      0.124    -85.113      0.000     -10.812     -10.325\n",
       "mode             -0.2675      0.087     -3.061      0.002      -0.439      -0.096\n",
       "speechiness      -9.2962      0.434    -21.442      0.000     -10.146      -8.446\n",
       "tempo             0.0162      0.001     12.231      0.000       0.014       0.019\n",
       "key_0            54.9689      1.403     39.183      0.000      52.219      57.719\n",
       "key_1            56.2467      1.405     40.021      0.000      53.492      59.001\n",
       "key_2            55.1605      1.403     39.305      0.000      52.410      57.911\n",
       "key_3            54.8414      1.411     38.867      0.000      52.076      57.607\n",
       "key_4            56.1607      1.402     40.049      0.000      53.412      58.909\n",
       "key_5            54.8496      1.405     39.047      0.000      52.096      57.603\n",
       "key_6            57.2688      1.407     40.705      0.000      54.511      60.026\n",
       "key_7            55.1492      1.402     39.330      0.000      52.401      57.898\n",
       "key_8            55.2618      1.408     39.246      0.000      52.502      58.022\n",
       "key_9            55.3476      1.403     39.457      0.000      52.598      58.097\n",
       "key_10           54.8145      1.406     38.997      0.000      52.060      57.569\n",
       "key_11           56.3002      1.405     40.084      0.000      53.547      59.053\n",
       "==============================================================================\n",
       "Omnibus:                     2219.816   Durbin-Watson:                   0.726\n",
       "Prob(Omnibus):                  0.000   Jarque-Bera (JB):             2199.625\n",
       "Skew:                           0.290   Prob(JB):                         0.00\n",
       "Kurtosis:                       2.762   Cond. No.                     1.57e+04\n",
       "==============================================================================\n",
       "\n",
       "Notes:\n",
       "[1] Standard Errors assume that the covariance matrix of the errors is correctly specified.\n",
       "[2] The condition number is large, 1.57e+04. This might indicate that there are\n",
       "strong multicollinearity or other numerical problems.\n",
       "\"\"\""
      ]
     },
     "execution_count": 198,
     "metadata": {},
     "output_type": "execute_result"
    }
   ],
   "source": [
    "X = df_popular[['valence', 'acousticness', 'danceability', 'duration_log', \n",
    "        'energy', 'explicit', 'log_liveness', \n",
    "        'quietness_log', 'mode', 'speechiness', 'tempo',\n",
    "       'key_0','key_1','key_2','key_3','key_4','key_5','key_6','key_7','key_8','key_9','key_10','key_11']][np.isfinite(df['log_liveness']) & ~df['quietness_log'].isna()]\n",
    "y = df_popular[['popularity']][np.isfinite(df['log_liveness']) & ~df['quietness_log'].isna()]\n",
    "model_popular_tracks = sm.OLS(y, X)\n",
    "results_popular_tracks = model_popular_tracks.fit()\n",
    "results_popular_tracks.summary()"
   ]
  },
  {
   "cell_type": "markdown",
   "metadata": {},
   "source": [
    "## Random bullshit below:"
   ]
  },
  {
   "cell_type": "markdown",
   "metadata": {},
   "source": [
    "We also want to build a model which takes the track release year into account. We expect a very high coefficient, as the correlation between year and popularity was actually among the strongest, with a coefficient of 0.86. We'll add the year by creating dummy columns for all available years:"
   ]
  },
  {
   "cell_type": "code",
   "execution_count": 44,
   "metadata": {},
   "outputs": [],
   "source": [
    "df_dummy_years = pd.get_dummies(\n",
    "    df_tracks_with_genres['year'],\n",
    "    drop_first=True, prefix='year',\n",
    "    prefix_sep='_')"
   ]
  },
  {
   "cell_type": "code",
   "execution_count": 45,
   "metadata": {},
   "outputs": [
    {
     "data": {
      "text/plain": [
       "(170653, 99)"
      ]
     },
     "execution_count": 45,
     "metadata": {},
     "output_type": "execute_result"
    }
   ],
   "source": [
    "df_dummy_years.shape"
   ]
  },
  {
   "cell_type": "code",
   "execution_count": 46,
   "metadata": {},
   "outputs": [
    {
     "data": {
      "text/html": [
       "<div>\n",
       "<style scoped>\n",
       "    .dataframe tbody tr th:only-of-type {\n",
       "        vertical-align: middle;\n",
       "    }\n",
       "\n",
       "    .dataframe tbody tr th {\n",
       "        vertical-align: top;\n",
       "    }\n",
       "\n",
       "    .dataframe thead th {\n",
       "        text-align: right;\n",
       "    }\n",
       "</style>\n",
       "<table border=\"1\" class=\"dataframe\">\n",
       "  <thead>\n",
       "    <tr style=\"text-align: right;\">\n",
       "      <th></th>\n",
       "      <th>valence</th>\n",
       "      <th>year</th>\n",
       "      <th>acousticness</th>\n",
       "      <th>danceability</th>\n",
       "      <th>duration_ms</th>\n",
       "      <th>energy</th>\n",
       "      <th>explicit</th>\n",
       "      <th>id</th>\n",
       "      <th>instrumentalness</th>\n",
       "      <th>key</th>\n",
       "      <th>...</th>\n",
       "      <th>year_2011</th>\n",
       "      <th>year_2012</th>\n",
       "      <th>year_2013</th>\n",
       "      <th>year_2014</th>\n",
       "      <th>year_2015</th>\n",
       "      <th>year_2016</th>\n",
       "      <th>year_2017</th>\n",
       "      <th>year_2018</th>\n",
       "      <th>year_2019</th>\n",
       "      <th>year_2020</th>\n",
       "    </tr>\n",
       "  </thead>\n",
       "  <tbody>\n",
       "    <tr>\n",
       "      <th>0</th>\n",
       "      <td>0.0594</td>\n",
       "      <td>1921</td>\n",
       "      <td>0.982</td>\n",
       "      <td>0.279</td>\n",
       "      <td>831667</td>\n",
       "      <td>0.211</td>\n",
       "      <td>0</td>\n",
       "      <td>4BJqT0PrAfrxzMOxytFOIz</td>\n",
       "      <td>0.878000</td>\n",
       "      <td>10</td>\n",
       "      <td>...</td>\n",
       "      <td>0</td>\n",
       "      <td>0</td>\n",
       "      <td>0</td>\n",
       "      <td>0</td>\n",
       "      <td>0</td>\n",
       "      <td>0</td>\n",
       "      <td>0</td>\n",
       "      <td>0</td>\n",
       "      <td>0</td>\n",
       "      <td>0</td>\n",
       "    </tr>\n",
       "    <tr>\n",
       "      <th>1</th>\n",
       "      <td>0.9630</td>\n",
       "      <td>1921</td>\n",
       "      <td>0.732</td>\n",
       "      <td>0.819</td>\n",
       "      <td>180533</td>\n",
       "      <td>0.341</td>\n",
       "      <td>0</td>\n",
       "      <td>7xPhfUan2yNtyFG0cUWkt8</td>\n",
       "      <td>0.000000</td>\n",
       "      <td>7</td>\n",
       "      <td>...</td>\n",
       "      <td>0</td>\n",
       "      <td>0</td>\n",
       "      <td>0</td>\n",
       "      <td>0</td>\n",
       "      <td>0</td>\n",
       "      <td>0</td>\n",
       "      <td>0</td>\n",
       "      <td>0</td>\n",
       "      <td>0</td>\n",
       "      <td>0</td>\n",
       "    </tr>\n",
       "    <tr>\n",
       "      <th>2</th>\n",
       "      <td>0.0394</td>\n",
       "      <td>1921</td>\n",
       "      <td>0.961</td>\n",
       "      <td>0.328</td>\n",
       "      <td>500062</td>\n",
       "      <td>0.166</td>\n",
       "      <td>0</td>\n",
       "      <td>1o6I8BglA6ylDMrIELygv1</td>\n",
       "      <td>0.913000</td>\n",
       "      <td>3</td>\n",
       "      <td>...</td>\n",
       "      <td>0</td>\n",
       "      <td>0</td>\n",
       "      <td>0</td>\n",
       "      <td>0</td>\n",
       "      <td>0</td>\n",
       "      <td>0</td>\n",
       "      <td>0</td>\n",
       "      <td>0</td>\n",
       "      <td>0</td>\n",
       "      <td>0</td>\n",
       "    </tr>\n",
       "    <tr>\n",
       "      <th>3</th>\n",
       "      <td>0.1650</td>\n",
       "      <td>1921</td>\n",
       "      <td>0.967</td>\n",
       "      <td>0.275</td>\n",
       "      <td>210000</td>\n",
       "      <td>0.309</td>\n",
       "      <td>0</td>\n",
       "      <td>3ftBPsC5vPBKxYSee08FDH</td>\n",
       "      <td>0.000028</td>\n",
       "      <td>5</td>\n",
       "      <td>...</td>\n",
       "      <td>0</td>\n",
       "      <td>0</td>\n",
       "      <td>0</td>\n",
       "      <td>0</td>\n",
       "      <td>0</td>\n",
       "      <td>0</td>\n",
       "      <td>0</td>\n",
       "      <td>0</td>\n",
       "      <td>0</td>\n",
       "      <td>0</td>\n",
       "    </tr>\n",
       "    <tr>\n",
       "      <th>4</th>\n",
       "      <td>0.2530</td>\n",
       "      <td>1921</td>\n",
       "      <td>0.957</td>\n",
       "      <td>0.418</td>\n",
       "      <td>166693</td>\n",
       "      <td>0.193</td>\n",
       "      <td>0</td>\n",
       "      <td>4d6HGyGT8e121BsdKmw9v6</td>\n",
       "      <td>0.000002</td>\n",
       "      <td>3</td>\n",
       "      <td>...</td>\n",
       "      <td>0</td>\n",
       "      <td>0</td>\n",
       "      <td>0</td>\n",
       "      <td>0</td>\n",
       "      <td>0</td>\n",
       "      <td>0</td>\n",
       "      <td>0</td>\n",
       "      <td>0</td>\n",
       "      <td>0</td>\n",
       "      <td>0</td>\n",
       "    </tr>\n",
       "  </tbody>\n",
       "</table>\n",
       "<p>5 rows × 132 columns</p>\n",
       "</div>"
      ],
      "text/plain": [
       "   valence  year  acousticness  danceability  duration_ms  energy  explicit  \\\n",
       "0   0.0594  1921         0.982         0.279       831667   0.211         0   \n",
       "1   0.9630  1921         0.732         0.819       180533   0.341         0   \n",
       "2   0.0394  1921         0.961         0.328       500062   0.166         0   \n",
       "3   0.1650  1921         0.967         0.275       210000   0.309         0   \n",
       "4   0.2530  1921         0.957         0.418       166693   0.193         0   \n",
       "\n",
       "                       id  instrumentalness  key  ...  year_2011  year_2012  \\\n",
       "0  4BJqT0PrAfrxzMOxytFOIz          0.878000   10  ...          0          0   \n",
       "1  7xPhfUan2yNtyFG0cUWkt8          0.000000    7  ...          0          0   \n",
       "2  1o6I8BglA6ylDMrIELygv1          0.913000    3  ...          0          0   \n",
       "3  3ftBPsC5vPBKxYSee08FDH          0.000028    5  ...          0          0   \n",
       "4  4d6HGyGT8e121BsdKmw9v6          0.000002    3  ...          0          0   \n",
       "\n",
       "   year_2013 year_2014  year_2015 year_2016  year_2017  year_2018 year_2019  \\\n",
       "0          0         0          0         0          0          0         0   \n",
       "1          0         0          0         0          0          0         0   \n",
       "2          0         0          0         0          0          0         0   \n",
       "3          0         0          0         0          0          0         0   \n",
       "4          0         0          0         0          0          0         0   \n",
       "\n",
       "  year_2020  \n",
       "0         0  \n",
       "1         0  \n",
       "2         0  \n",
       "3         0  \n",
       "4         0  \n",
       "\n",
       "[5 rows x 132 columns]"
      ]
     },
     "execution_count": 46,
     "metadata": {},
     "output_type": "execute_result"
    }
   ],
   "source": [
    "df_with_dummies = pd.concat([df_tracks_with_genres, df_dummy_years], axis=1)\n",
    "df_with_dummies.head(n=5)"
   ]
  },
  {
   "cell_type": "code",
   "execution_count": 47,
   "metadata": {},
   "outputs": [
    {
     "data": {
      "text/plain": [
       "(170653, 132)"
      ]
     },
     "execution_count": 47,
     "metadata": {},
     "output_type": "execute_result"
    }
   ],
   "source": [
    "df_with_dummies.shape"
   ]
  },
  {
   "cell_type": "code",
   "execution_count": 48,
   "metadata": {},
   "outputs": [
    {
     "data": {
      "text/html": [
       "<div>\n",
       "<style scoped>\n",
       "    .dataframe tbody tr th:only-of-type {\n",
       "        vertical-align: middle;\n",
       "    }\n",
       "\n",
       "    .dataframe tbody tr th {\n",
       "        vertical-align: top;\n",
       "    }\n",
       "\n",
       "    .dataframe thead th {\n",
       "        text-align: right;\n",
       "    }\n",
       "</style>\n",
       "<table border=\"1\" class=\"dataframe\">\n",
       "  <thead>\n",
       "    <tr style=\"text-align: right;\">\n",
       "      <th></th>\n",
       "      <th>valence</th>\n",
       "      <th>year</th>\n",
       "      <th>acousticness</th>\n",
       "      <th>danceability</th>\n",
       "      <th>duration_ms</th>\n",
       "      <th>energy</th>\n",
       "      <th>explicit</th>\n",
       "      <th>id</th>\n",
       "      <th>instrumentalness</th>\n",
       "      <th>key</th>\n",
       "      <th>...</th>\n",
       "      <th>year_2011</th>\n",
       "      <th>year_2012</th>\n",
       "      <th>year_2013</th>\n",
       "      <th>year_2014</th>\n",
       "      <th>year_2015</th>\n",
       "      <th>year_2016</th>\n",
       "      <th>year_2017</th>\n",
       "      <th>year_2018</th>\n",
       "      <th>year_2019</th>\n",
       "      <th>year_2020</th>\n",
       "    </tr>\n",
       "  </thead>\n",
       "  <tbody>\n",
       "    <tr>\n",
       "      <th>0</th>\n",
       "      <td>0.0594</td>\n",
       "      <td>1921</td>\n",
       "      <td>0.982</td>\n",
       "      <td>0.279</td>\n",
       "      <td>831667</td>\n",
       "      <td>0.211</td>\n",
       "      <td>0</td>\n",
       "      <td>4BJqT0PrAfrxzMOxytFOIz</td>\n",
       "      <td>0.878000</td>\n",
       "      <td>10</td>\n",
       "      <td>...</td>\n",
       "      <td>0</td>\n",
       "      <td>0</td>\n",
       "      <td>0</td>\n",
       "      <td>0</td>\n",
       "      <td>0</td>\n",
       "      <td>0</td>\n",
       "      <td>0</td>\n",
       "      <td>0</td>\n",
       "      <td>0</td>\n",
       "      <td>0</td>\n",
       "    </tr>\n",
       "    <tr>\n",
       "      <th>1</th>\n",
       "      <td>0.9630</td>\n",
       "      <td>1921</td>\n",
       "      <td>0.732</td>\n",
       "      <td>0.819</td>\n",
       "      <td>180533</td>\n",
       "      <td>0.341</td>\n",
       "      <td>0</td>\n",
       "      <td>7xPhfUan2yNtyFG0cUWkt8</td>\n",
       "      <td>0.000000</td>\n",
       "      <td>7</td>\n",
       "      <td>...</td>\n",
       "      <td>0</td>\n",
       "      <td>0</td>\n",
       "      <td>0</td>\n",
       "      <td>0</td>\n",
       "      <td>0</td>\n",
       "      <td>0</td>\n",
       "      <td>0</td>\n",
       "      <td>0</td>\n",
       "      <td>0</td>\n",
       "      <td>0</td>\n",
       "    </tr>\n",
       "    <tr>\n",
       "      <th>2</th>\n",
       "      <td>0.0394</td>\n",
       "      <td>1921</td>\n",
       "      <td>0.961</td>\n",
       "      <td>0.328</td>\n",
       "      <td>500062</td>\n",
       "      <td>0.166</td>\n",
       "      <td>0</td>\n",
       "      <td>1o6I8BglA6ylDMrIELygv1</td>\n",
       "      <td>0.913000</td>\n",
       "      <td>3</td>\n",
       "      <td>...</td>\n",
       "      <td>0</td>\n",
       "      <td>0</td>\n",
       "      <td>0</td>\n",
       "      <td>0</td>\n",
       "      <td>0</td>\n",
       "      <td>0</td>\n",
       "      <td>0</td>\n",
       "      <td>0</td>\n",
       "      <td>0</td>\n",
       "      <td>0</td>\n",
       "    </tr>\n",
       "    <tr>\n",
       "      <th>3</th>\n",
       "      <td>0.1650</td>\n",
       "      <td>1921</td>\n",
       "      <td>0.967</td>\n",
       "      <td>0.275</td>\n",
       "      <td>210000</td>\n",
       "      <td>0.309</td>\n",
       "      <td>0</td>\n",
       "      <td>3ftBPsC5vPBKxYSee08FDH</td>\n",
       "      <td>0.000028</td>\n",
       "      <td>5</td>\n",
       "      <td>...</td>\n",
       "      <td>0</td>\n",
       "      <td>0</td>\n",
       "      <td>0</td>\n",
       "      <td>0</td>\n",
       "      <td>0</td>\n",
       "      <td>0</td>\n",
       "      <td>0</td>\n",
       "      <td>0</td>\n",
       "      <td>0</td>\n",
       "      <td>0</td>\n",
       "    </tr>\n",
       "    <tr>\n",
       "      <th>4</th>\n",
       "      <td>0.2530</td>\n",
       "      <td>1921</td>\n",
       "      <td>0.957</td>\n",
       "      <td>0.418</td>\n",
       "      <td>166693</td>\n",
       "      <td>0.193</td>\n",
       "      <td>0</td>\n",
       "      <td>4d6HGyGT8e121BsdKmw9v6</td>\n",
       "      <td>0.000002</td>\n",
       "      <td>3</td>\n",
       "      <td>...</td>\n",
       "      <td>0</td>\n",
       "      <td>0</td>\n",
       "      <td>0</td>\n",
       "      <td>0</td>\n",
       "      <td>0</td>\n",
       "      <td>0</td>\n",
       "      <td>0</td>\n",
       "      <td>0</td>\n",
       "      <td>0</td>\n",
       "      <td>0</td>\n",
       "    </tr>\n",
       "  </tbody>\n",
       "</table>\n",
       "<p>5 rows × 132 columns</p>\n",
       "</div>"
      ],
      "text/plain": [
       "   valence  year  acousticness  danceability  duration_ms  energy  explicit  \\\n",
       "0   0.0594  1921         0.982         0.279       831667   0.211         0   \n",
       "1   0.9630  1921         0.732         0.819       180533   0.341         0   \n",
       "2   0.0394  1921         0.961         0.328       500062   0.166         0   \n",
       "3   0.1650  1921         0.967         0.275       210000   0.309         0   \n",
       "4   0.2530  1921         0.957         0.418       166693   0.193         0   \n",
       "\n",
       "                       id  instrumentalness  key  ...  year_2011  year_2012  \\\n",
       "0  4BJqT0PrAfrxzMOxytFOIz          0.878000   10  ...          0          0   \n",
       "1  7xPhfUan2yNtyFG0cUWkt8          0.000000    7  ...          0          0   \n",
       "2  1o6I8BglA6ylDMrIELygv1          0.913000    3  ...          0          0   \n",
       "3  3ftBPsC5vPBKxYSee08FDH          0.000028    5  ...          0          0   \n",
       "4  4d6HGyGT8e121BsdKmw9v6          0.000002    3  ...          0          0   \n",
       "\n",
       "   year_2013 year_2014  year_2015 year_2016  year_2017  year_2018 year_2019  \\\n",
       "0          0         0          0         0          0          0         0   \n",
       "1          0         0          0         0          0          0         0   \n",
       "2          0         0          0         0          0          0         0   \n",
       "3          0         0          0         0          0          0         0   \n",
       "4          0         0          0         0          0          0         0   \n",
       "\n",
       "  year_2020  \n",
       "0         0  \n",
       "1         0  \n",
       "2         0  \n",
       "3         0  \n",
       "4         0  \n",
       "\n",
       "[5 rows x 132 columns]"
      ]
     },
     "execution_count": 48,
     "metadata": {},
     "output_type": "execute_result"
    }
   ],
   "source": [
    "df_with_dummies.head()"
   ]
  },
  {
   "cell_type": "markdown",
   "metadata": {},
   "source": [
    "We have a lot of redundant columns left over from our merge to get the track genre. Let's run through the DataFrame and delete those:"
   ]
  },
  {
   "cell_type": "code",
   "execution_count": 49,
   "metadata": {},
   "outputs": [],
   "source": [
    "for i in range(5):\n",
    "    column_name = 'artist_' + str(i + 1)\n",
    "    column_name_2 = 'artist_' + str(i + 1) + '_y'\n",
    "    column_name_3 = 'genre_' + str(i + 1)\n",
    "    df_with_dummies = df_with_dummies.drop(\n",
    "        [column_name, column_name_2, column_name_3], axis=1)"
   ]
  },
  {
   "cell_type": "code",
   "execution_count": 50,
   "metadata": {},
   "outputs": [
    {
     "data": {
      "text/plain": [
       "0.7898819162651358"
      ]
     },
     "execution_count": 50,
     "metadata": {},
     "output_type": "execute_result"
    }
   ],
   "source": [
    "X_with_year = df_with_dummies.drop(\n",
    "    ['name', 'year', 'id', 'name', 'release_date', 'popularity'], axis=1)\n",
    "y_with_year = df_with_dummies[['popularity']]\n",
    "X_train_year, X_test_year, y_train_year, y_test_year = train_test_split(\n",
    "    X_with_year, y_with_year, test_size=0.33, random_state=42)\n",
    "reg_with_year = LinearRegression()\n",
    "reg_with_year.fit(X_train_year, y_train_year)\n",
    "y_pred_year = reg_with_year.predict(X_test_year)\n",
    "sc.metrics.r2_score(y_test_year, y_pred_year)"
   ]
  },
  {
   "cell_type": "markdown",
   "metadata": {},
   "source": [
    "We see here that we have a much higher r squared when we add the year the track was released into the model"
   ]
  },
  {
   "cell_type": "markdown",
   "metadata": {},
   "source": [
    "## Evaluating the results\n",
    "\n",
    "With our two models complete and working as expected, we can start interpreting our results, starting by looking at the coefficients used in each model to get an idea of how impactful each \"audio feature\" is on the track popularity:"
   ]
  },
  {
   "cell_type": "code",
   "execution_count": 51,
   "metadata": {},
   "outputs": [
    {
     "data": {
      "text/html": [
       "<div>\n",
       "<style scoped>\n",
       "    .dataframe tbody tr th:only-of-type {\n",
       "        vertical-align: middle;\n",
       "    }\n",
       "\n",
       "    .dataframe tbody tr th {\n",
       "        vertical-align: top;\n",
       "    }\n",
       "\n",
       "    .dataframe thead th {\n",
       "        text-align: right;\n",
       "    }\n",
       "</style>\n",
       "<table border=\"1\" class=\"dataframe\">\n",
       "  <thead>\n",
       "    <tr style=\"text-align: right;\">\n",
       "      <th></th>\n",
       "      <th>est_int</th>\n",
       "      <th>coefs</th>\n",
       "      <th>abs_coefs</th>\n",
       "    </tr>\n",
       "  </thead>\n",
       "  <tbody>\n",
       "    <tr>\n",
       "      <th>11</th>\n",
       "      <td>speechiness</td>\n",
       "      <td>-3.421594e+01</td>\n",
       "      <td>3.421594e+01</td>\n",
       "    </tr>\n",
       "    <tr>\n",
       "      <th>2</th>\n",
       "      <td>danceability</td>\n",
       "      <td>2.188359e+01</td>\n",
       "      <td>2.188359e+01</td>\n",
       "    </tr>\n",
       "    <tr>\n",
       "      <th>1</th>\n",
       "      <td>acousticness</td>\n",
       "      <td>-2.145597e+01</td>\n",
       "      <td>2.145597e+01</td>\n",
       "    </tr>\n",
       "    <tr>\n",
       "      <th>0</th>\n",
       "      <td>valence</td>\n",
       "      <td>-1.948614e+01</td>\n",
       "      <td>1.948614e+01</td>\n",
       "    </tr>\n",
       "    <tr>\n",
       "      <th>4</th>\n",
       "      <td>energy</td>\n",
       "      <td>1.086990e+01</td>\n",
       "      <td>1.086990e+01</td>\n",
       "    </tr>\n",
       "    <tr>\n",
       "      <th>5</th>\n",
       "      <td>explicit</td>\n",
       "      <td>9.224895e+00</td>\n",
       "      <td>9.224895e+00</td>\n",
       "    </tr>\n",
       "    <tr>\n",
       "      <th>6</th>\n",
       "      <td>instrumentalness</td>\n",
       "      <td>-8.673283e+00</td>\n",
       "      <td>8.673283e+00</td>\n",
       "    </tr>\n",
       "    <tr>\n",
       "      <th>8</th>\n",
       "      <td>liveness</td>\n",
       "      <td>-7.880551e+00</td>\n",
       "      <td>7.880551e+00</td>\n",
       "    </tr>\n",
       "    <tr>\n",
       "      <th>9</th>\n",
       "      <td>loudness</td>\n",
       "      <td>2.396114e-01</td>\n",
       "      <td>2.396114e-01</td>\n",
       "    </tr>\n",
       "    <tr>\n",
       "      <th>10</th>\n",
       "      <td>mode</td>\n",
       "      <td>-1.000482e-01</td>\n",
       "      <td>1.000482e-01</td>\n",
       "    </tr>\n",
       "    <tr>\n",
       "      <th>12</th>\n",
       "      <td>tempo</td>\n",
       "      <td>2.379242e-02</td>\n",
       "      <td>2.379242e-02</td>\n",
       "    </tr>\n",
       "    <tr>\n",
       "      <th>7</th>\n",
       "      <td>key</td>\n",
       "      <td>-6.302141e-03</td>\n",
       "      <td>6.302141e-03</td>\n",
       "    </tr>\n",
       "    <tr>\n",
       "      <th>3</th>\n",
       "      <td>duration_ms</td>\n",
       "      <td>7.678611e-07</td>\n",
       "      <td>7.678611e-07</td>\n",
       "    </tr>\n",
       "  </tbody>\n",
       "</table>\n",
       "</div>"
      ],
      "text/plain": [
       "             est_int         coefs     abs_coefs\n",
       "11       speechiness -3.421594e+01  3.421594e+01\n",
       "2       danceability  2.188359e+01  2.188359e+01\n",
       "1       acousticness -2.145597e+01  2.145597e+01\n",
       "0            valence -1.948614e+01  1.948614e+01\n",
       "4             energy  1.086990e+01  1.086990e+01\n",
       "5           explicit  9.224895e+00  9.224895e+00\n",
       "6   instrumentalness -8.673283e+00  8.673283e+00\n",
       "8           liveness -7.880551e+00  7.880551e+00\n",
       "9           loudness  2.396114e-01  2.396114e-01\n",
       "10              mode -1.000482e-01  1.000482e-01\n",
       "12             tempo  2.379242e-02  2.379242e-02\n",
       "7                key -6.302141e-03  6.302141e-03\n",
       "3        duration_ms  7.678611e-07  7.678611e-07"
      ]
     },
     "execution_count": 51,
     "metadata": {},
     "output_type": "execute_result"
    }
   ],
   "source": [
    "# The below function is taken from the\n",
    "# Udacity Introduction to Data Science course\n",
    "\n",
    "def coef_weights(reg, coefficients, X_train):\n",
    "    '''\n",
    "    INPUT:\n",
    "    reg - a linear regression model\n",
    "    coefficients - the coefficients of the linear model\n",
    "    X_train - the training data, so the column names can be used\n",
    "    OUTPUT:\n",
    "    coefs_df - a dataframe holding the coefficient, estimate, and abs(estimate)\n",
    "\n",
    "    Provides a dataframe that can be used\n",
    "    to understand the most influential coefficients\n",
    "    in a linear model by providing the coefficient estimates\n",
    "    along with the name of the\n",
    "    variable attached to the coefficient.\n",
    "    '''\n",
    "    coefs_df = pd.DataFrame()\n",
    "    coefs_df['est_int'] = X_train.columns\n",
    "    coefs_df['coefs'] = reg.coef_[0]\n",
    "    coefs_df['abs_coefs'] = np.abs(reg.coef_[0])\n",
    "    coefs_df = coefs_df.sort_values('abs_coefs', ascending=False)\n",
    "    return coefs_df\n",
    "\n",
    "\n",
    "coeff_check = coef_weights(reg_without_year, reg_without_year.coef_, X_train)\n",
    "coeff_check"
   ]
  },
  {
   "cell_type": "markdown",
   "metadata": {},
   "source": [
    "Again, our linear regression model using all available Spotify audio features *except the track year* as inputs confirms the following: we have a strong negative correlation with \"speechiness\", \"acousticness\" and \"valence\", and a strong positive correlation with \"danceability\", \"acousticness\" and \"energy\". \n",
    "Additionally, whether or not a track is marked as \"explicit\" also appears to be correlated to its popularity.\n",
    "Our linear model has an r_squared of 0.45 - ie 45% of the variability of the \"popularity\" variable can be explained and predicted through a combination of the Spotify metrics."
   ]
  },
  {
   "cell_type": "markdown",
   "metadata": {},
   "source": [
    "Let's look at the coefficients for our linear model which included the track release year, to see how things change when we add that high influence data point into the mix:"
   ]
  },
  {
   "cell_type": "code",
   "execution_count": 52,
   "metadata": {},
   "outputs": [
    {
     "data": {
      "text/html": [
       "<div>\n",
       "<style scoped>\n",
       "    .dataframe tbody tr th:only-of-type {\n",
       "        vertical-align: middle;\n",
       "    }\n",
       "\n",
       "    .dataframe tbody tr th {\n",
       "        vertical-align: top;\n",
       "    }\n",
       "\n",
       "    .dataframe thead th {\n",
       "        text-align: right;\n",
       "    }\n",
       "</style>\n",
       "<table border=\"1\" class=\"dataframe\">\n",
       "  <thead>\n",
       "    <tr style=\"text-align: right;\">\n",
       "      <th></th>\n",
       "      <th>est_int</th>\n",
       "      <th>coefs</th>\n",
       "      <th>abs_coefs</th>\n",
       "    </tr>\n",
       "  </thead>\n",
       "  <tbody>\n",
       "    <tr>\n",
       "      <th>110</th>\n",
       "      <td>year_2019</td>\n",
       "      <td>6.286182e+01</td>\n",
       "      <td>6.286182e+01</td>\n",
       "    </tr>\n",
       "    <tr>\n",
       "      <th>111</th>\n",
       "      <td>year_2020</td>\n",
       "      <td>6.088081e+01</td>\n",
       "      <td>6.088081e+01</td>\n",
       "    </tr>\n",
       "    <tr>\n",
       "      <th>108</th>\n",
       "      <td>year_2017</td>\n",
       "      <td>6.066970e+01</td>\n",
       "      <td>6.066970e+01</td>\n",
       "    </tr>\n",
       "    <tr>\n",
       "      <th>109</th>\n",
       "      <td>year_2018</td>\n",
       "      <td>6.035531e+01</td>\n",
       "      <td>6.035531e+01</td>\n",
       "    </tr>\n",
       "    <tr>\n",
       "      <th>107</th>\n",
       "      <td>year_2016</td>\n",
       "      <td>5.690386e+01</td>\n",
       "      <td>5.690386e+01</td>\n",
       "    </tr>\n",
       "    <tr>\n",
       "      <th>106</th>\n",
       "      <td>year_2015</td>\n",
       "      <td>5.392875e+01</td>\n",
       "      <td>5.392875e+01</td>\n",
       "    </tr>\n",
       "    <tr>\n",
       "      <th>105</th>\n",
       "      <td>year_2014</td>\n",
       "      <td>5.267172e+01</td>\n",
       "      <td>5.267172e+01</td>\n",
       "    </tr>\n",
       "    <tr>\n",
       "      <th>104</th>\n",
       "      <td>year_2013</td>\n",
       "      <td>5.156279e+01</td>\n",
       "      <td>5.156279e+01</td>\n",
       "    </tr>\n",
       "    <tr>\n",
       "      <th>102</th>\n",
       "      <td>year_2011</td>\n",
       "      <td>5.083568e+01</td>\n",
       "      <td>5.083568e+01</td>\n",
       "    </tr>\n",
       "    <tr>\n",
       "      <th>101</th>\n",
       "      <td>year_2010</td>\n",
       "      <td>5.039044e+01</td>\n",
       "      <td>5.039044e+01</td>\n",
       "    </tr>\n",
       "    <tr>\n",
       "      <th>...</th>\n",
       "      <td>...</td>\n",
       "      <td>...</td>\n",
       "      <td>...</td>\n",
       "    </tr>\n",
       "    <tr>\n",
       "      <th>21</th>\n",
       "      <td>year_1930</td>\n",
       "      <td>3.261721e-01</td>\n",
       "      <td>3.261721e-01</td>\n",
       "    </tr>\n",
       "    <tr>\n",
       "      <th>22</th>\n",
       "      <td>year_1931</td>\n",
       "      <td>3.014568e-01</td>\n",
       "      <td>3.014568e-01</td>\n",
       "    </tr>\n",
       "    <tr>\n",
       "      <th>25</th>\n",
       "      <td>year_1934</td>\n",
       "      <td>2.212883e-01</td>\n",
       "      <td>2.212883e-01</td>\n",
       "    </tr>\n",
       "    <tr>\n",
       "      <th>20</th>\n",
       "      <td>year_1929</td>\n",
       "      <td>2.122619e-01</td>\n",
       "      <td>2.122619e-01</td>\n",
       "    </tr>\n",
       "    <tr>\n",
       "      <th>18</th>\n",
       "      <td>year_1927</td>\n",
       "      <td>-1.123085e-01</td>\n",
       "      <td>1.123085e-01</td>\n",
       "    </tr>\n",
       "    <tr>\n",
       "      <th>9</th>\n",
       "      <td>loudness</td>\n",
       "      <td>1.069873e-01</td>\n",
       "      <td>1.069873e-01</td>\n",
       "    </tr>\n",
       "    <tr>\n",
       "      <th>0</th>\n",
       "      <td>valence</td>\n",
       "      <td>2.581188e-02</td>\n",
       "      <td>2.581188e-02</td>\n",
       "    </tr>\n",
       "    <tr>\n",
       "      <th>7</th>\n",
       "      <td>key</td>\n",
       "      <td>-2.544555e-03</td>\n",
       "      <td>2.544555e-03</td>\n",
       "    </tr>\n",
       "    <tr>\n",
       "      <th>12</th>\n",
       "      <td>tempo</td>\n",
       "      <td>-1.277176e-03</td>\n",
       "      <td>1.277176e-03</td>\n",
       "    </tr>\n",
       "    <tr>\n",
       "      <th>3</th>\n",
       "      <td>duration_ms</td>\n",
       "      <td>-4.944073e-07</td>\n",
       "      <td>4.944073e-07</td>\n",
       "    </tr>\n",
       "  </tbody>\n",
       "</table>\n",
       "<p>112 rows × 3 columns</p>\n",
       "</div>"
      ],
      "text/plain": [
       "         est_int         coefs     abs_coefs\n",
       "110    year_2019  6.286182e+01  6.286182e+01\n",
       "111    year_2020  6.088081e+01  6.088081e+01\n",
       "108    year_2017  6.066970e+01  6.066970e+01\n",
       "109    year_2018  6.035531e+01  6.035531e+01\n",
       "107    year_2016  5.690386e+01  5.690386e+01\n",
       "..           ...           ...           ...\n",
       "9       loudness  1.069873e-01  1.069873e-01\n",
       "0        valence  2.581188e-02  2.581188e-02\n",
       "7            key -2.544555e-03  2.544555e-03\n",
       "12         tempo -1.277176e-03  1.277176e-03\n",
       "3    duration_ms -4.944073e-07  4.944073e-07\n",
       "\n",
       "[112 rows x 3 columns]"
      ]
     },
     "execution_count": 52,
     "metadata": {},
     "output_type": "execute_result"
    }
   ],
   "source": [
    "coeff_check = coef_weights(reg_with_year, reg_with_year.coef_, X_train_year)\n",
    "coeff_check"
   ]
  },
  {
   "cell_type": "markdown",
   "metadata": {},
   "source": [
    "We see that the more recently a track was released, the higher its popularity - this is not surprising considering how the popularity score is calculated: \"The popularity of a track is a value between 0 and 100, with 100 being the most popular. The popularity is calculated by algorithm and is based, in the most part, on the total number of plays the track has had and how recent those plays are.\""
   ]
  },
  {
   "cell_type": "markdown",
   "metadata": {},
   "source": [
    "Another question we might ask is, how do the different correlations evolve based on the track release year?\n",
    "Let's look at the most heavily correlated inputs: acousticness,danceability,energy,explicit,loudness"
   ]
  },
  {
   "cell_type": "code",
   "execution_count": 53,
   "metadata": {},
   "outputs": [
    {
     "data": {
      "text/plain": [
       "<matplotlib.axes._subplots.AxesSubplot at 0x1b5c4578160>"
      ]
     },
     "execution_count": 53,
     "metadata": {},
     "output_type": "execute_result"
    },
    {
     "data": {
      "image/png": "[encoded data removed]",
      "text/plain": [
       "<Figure size 432x288 with 2 Axes>"
      ]
     },
     "metadata": {
      "needs_background": "light"
     },
     "output_type": "display_data"
    }
   ],
   "source": [
    "sns.heatmap(df_tracks_with_genres.corr())"
   ]
  },
  {
   "cell_type": "code",
   "execution_count": 106,
   "metadata": {},
   "outputs": [],
   "source": [
    "# explicitness:\n",
    "df_explicit = pd.DataFrame()\n",
    "for year in range(1921, 2021):\n",
    "    df_truncated = df_tracks_with_genres[df_tracks_with_genres['year'] == year]\n",
    "    df_correlation = df_truncated[['popularity', 'explicit']].corr()\n",
    "    df_explicit[year] = df_correlation['popularity']\n",
    "\n",
    "df_explicit = df_explicit.transpose()"
   ]
  },
  {
   "cell_type": "code",
   "execution_count": 107,
   "metadata": {},
   "outputs": [],
   "source": [
    "# acousticness:\n",
    "df_acoustic = pd.DataFrame()\n",
    "for year in range(1921, 2021):\n",
    "    df_truncated = df_tracks_with_genres[df_tracks_with_genres['year'] == year]\n",
    "    df_correlation = df_truncated[['popularity', 'acousticness']].corr()\n",
    "    df_acoustic[year] = df_correlation['popularity']\n",
    "\n",
    "df_acoustic = df_acoustic.transpose()"
   ]
  },
  {
   "cell_type": "code",
   "execution_count": 108,
   "metadata": {},
   "outputs": [],
   "source": [
    "# danceability:\n",
    "df_danceable = pd.DataFrame()\n",
    "for year in range(1921, 2021):\n",
    "    df_truncated = df_tracks_with_genres[df_tracks_with_genres['year'] == year]\n",
    "    df_correlation = df_truncated[['popularity', 'danceability']].corr()\n",
    "    df_danceable[year] = df_correlation['popularity']\n",
    "\n",
    "df_danceable = df_danceable.transpose()"
   ]
  },
  {
   "cell_type": "code",
   "execution_count": 109,
   "metadata": {},
   "outputs": [],
   "source": [
    "# energy:\n",
    "df_energy = pd.DataFrame()\n",
    "for year in range(1921, 2021):\n",
    "    df_truncated = df_tracks_with_genres[df_tracks_with_genres['year'] == year]\n",
    "    df_correlation = df_truncated[['popularity', 'energy']].corr()\n",
    "    df_energy[year] = df_correlation['popularity']\n",
    "\n",
    "df_energy = df_energy.transpose()"
   ]
  },
  {
   "cell_type": "code",
   "execution_count": 110,
   "metadata": {},
   "outputs": [],
   "source": [
    "# loudness:\n",
    "df_loudness = pd.DataFrame()\n",
    "for year in range(1921, 2021):\n",
    "    df_truncated = df_tracks_with_genres[df_tracks_with_genres['year'] == year]\n",
    "    df_correlation = df_truncated[['popularity', 'loudness']].corr()\n",
    "    df_loudness[year] = df_correlation['popularity']\n",
    "\n",
    "df_loudness = df_loudness.transpose()"
   ]
  },
  {
   "cell_type": "code",
   "execution_count": 59,
   "metadata": {},
   "outputs": [
    {
     "data": {
      "text/plain": [
       "[<matplotlib.lines.Line2D at 0x1b5c2a37630>]"
      ]
     },
     "execution_count": 59,
     "metadata": {},
     "output_type": "execute_result"
    },
    {
     "data": {
      "image/png": "[encoded data removed]",
      "text/plain": [
       "<Figure size 432x288 with 1 Axes>"
      ]
     },
     "metadata": {
      "needs_background": "light"
     },
     "output_type": "display_data"
    }
   ],
   "source": [
    "fig, ax = plt.subplots()\n",
    "ax.set_xlabel('release year')\n",
    "ax.set_ylabel('correlation with popularity score')\n",
    "ax.plot(df_explicit['explicit'])"
   ]
  },
  {
   "cell_type": "markdown",
   "metadata": {},
   "source": [
    "We have a lot of null values in the past for the \"explicit\" audio feature, which is unsurprising as I can't think of many 1940s equivalent of the Wu Tang clan. We also see that the correlation increases over time, reaching > 0.2 for tracks released in 2020."
   ]
  },
  {
   "cell_type": "code",
   "execution_count": 60,
   "metadata": {},
   "outputs": [
    {
     "data": {
      "text/plain": [
       "[<matplotlib.lines.Line2D at 0x1b5bf41d898>]"
      ]
     },
     "execution_count": 60,
     "metadata": {},
     "output_type": "execute_result"
    },
    {
     "data": {
      "image/png": "[encoded data removed]",
      "text/plain": [
       "<Figure size 432x288 with 1 Axes>"
      ]
     },
     "metadata": {
      "needs_background": "light"
     },
     "output_type": "display_data"
    }
   ],
   "source": [
    "fig, ax = plt.subplots()\n",
    "ax.set_xlabel('release year')\n",
    "ax.set_ylabel('correlation with popularity score')\n",
    "ax.plot(df_acoustic['acousticness'])"
   ]
  },
  {
   "cell_type": "markdown",
   "metadata": {},
   "source": [
    "Here we actually see a spike in the acousticness correlation coefficient between 2010 and 2020"
   ]
  },
  {
   "cell_type": "code",
   "execution_count": 61,
   "metadata": {},
   "outputs": [
    {
     "data": {
      "text/plain": [
       "[<matplotlib.lines.Line2D at 0x1b5bb854f98>]"
      ]
     },
     "execution_count": 61,
     "metadata": {},
     "output_type": "execute_result"
    },
    {
     "data": {
      "image/png": "[encoded data removed]",
      "text/plain": [
       "<Figure size 432x288 with 1 Axes>"
      ]
     },
     "metadata": {
      "needs_background": "light"
     },
     "output_type": "display_data"
    }
   ],
   "source": [
    "fig, ax = plt.subplots()\n",
    "ax.set_xlabel('release year')\n",
    "ax.set_ylabel('correlation with popularity score')\n",
    "ax.plot(df_loudness['loudness'])"
   ]
  },
  {
   "cell_type": "code",
   "execution_count": 62,
   "metadata": {},
   "outputs": [
    {
     "data": {
      "text/plain": [
       "[<matplotlib.lines.Line2D at 0x1b5c588b128>]"
      ]
     },
     "execution_count": 62,
     "metadata": {},
     "output_type": "execute_result"
    },
    {
     "data": {
      "image/png": "[encoded data removed]",
      "text/plain": [
       "<Figure size 432x288 with 1 Axes>"
      ]
     },
     "metadata": {
      "needs_background": "light"
     },
     "output_type": "display_data"
    }
   ],
   "source": [
    "fig, ax = plt.subplots()\n",
    "ax.set_xlabel('release year')\n",
    "ax.set_ylabel('correlation with popularity score')\n",
    "ax.plot(df_energy['energy'])"
   ]
  },
  {
   "cell_type": "code",
   "execution_count": 63,
   "metadata": {},
   "outputs": [
    {
     "data": {
      "text/plain": [
       "[<matplotlib.lines.Line2D at 0x1b5c53e26a0>]"
      ]
     },
     "execution_count": 63,
     "metadata": {},
     "output_type": "execute_result"
    },
    {
     "data": {
      "image/png": "[encoded data removed]",
      "text/plain": [
       "<Figure size 432x288 with 1 Axes>"
      ]
     },
     "metadata": {
      "needs_background": "light"
     },
     "output_type": "display_data"
    }
   ],
   "source": [
    "fig, ax = plt.subplots()\n",
    "ax.set_xlabel('release year')\n",
    "ax.set_ylabel('correlation with popularity score')\n",
    "ax.plot(df_danceable['danceability'])"
   ]
  },
  {
   "cell_type": "markdown",
   "metadata": {},
   "source": [
    "Now, let's create another linear regression model, but limiting the dataset to just tracks that are in the classical genre for their first artist (I'm ignoring other artists here for the sake of simplicity). We'll also ingore the release year, as this will let us focus on the impact of the audio features of the track. First, we need to create that dataset:"
   ]
  },
  {
   "cell_type": "code",
   "execution_count": 64,
   "metadata": {},
   "outputs": [
    {
     "name": "stderr",
     "output_type": "stream",
     "text": [
      "1:80: E501 line too long (103 > 79 characters)\n"
     ]
    }
   ],
   "source": [
    "df_classical_tracks = df_tracks_with_genres[df_tracks_with_genres['genre_1'].str.contains('classical')]"
   ]
  },
  {
   "cell_type": "code",
   "execution_count": 65,
   "metadata": {},
   "outputs": [
    {
     "data": {
      "text/plain": [
       "0.07497084727487943"
      ]
     },
     "execution_count": 65,
     "metadata": {},
     "output_type": "execute_result"
    }
   ],
   "source": [
    "df_classical_tracks.shape[0]/df_tracks_with_genres.shape[0]"
   ]
  },
  {
   "cell_type": "markdown",
   "metadata": {},
   "source": [
    "Based on the above cell, we see that tracks with \"classical\" in their first genre account for about 7% of the total."
   ]
  },
  {
   "cell_type": "code",
   "execution_count": 66,
   "metadata": {},
   "outputs": [
    {
     "data": {
      "text/plain": [
       "0.1650507509316229"
      ]
     },
     "execution_count": 66,
     "metadata": {},
     "output_type": "execute_result"
    }
   ],
   "source": [
    "X = df_classical_tracks[\n",
    "    ['valence', 'acousticness', 'danceability', 'duration_ms', 'energy',\n",
    "     'explicit', 'instrumentalness', 'key',\n",
    "     'liveness', 'loudness', 'mode', 'speechiness', 'tempo']]\n",
    "y = df_classical_tracks[['popularity']]\n",
    "X_train, X_test, y_train, y_test = train_test_split(\n",
    "    X, y, test_size=0.33, random_state=42)\n",
    "reg = LinearRegression()\n",
    "reg.fit(X_train, y_train)\n",
    "y_pred = reg.predict(X_test)\n",
    "sc.metrics.r2_score(y_test, y_pred)"
   ]
  },
  {
   "cell_type": "markdown",
   "metadata": {},
   "source": [
    "We have a much lower r-squared than what we measured when considering the dataset as a whole, likely due to the smaller amount of data we're considering. Let's look at the correlation coefficients:"
   ]
  },
  {
   "cell_type": "code",
   "execution_count": 69,
   "metadata": {},
   "outputs": [
    {
     "data": {
      "text/html": [
       "<div>\n",
       "<style scoped>\n",
       "    .dataframe tbody tr th:only-of-type {\n",
       "        vertical-align: middle;\n",
       "    }\n",
       "\n",
       "    .dataframe tbody tr th {\n",
       "        vertical-align: top;\n",
       "    }\n",
       "\n",
       "    .dataframe thead th {\n",
       "        text-align: right;\n",
       "    }\n",
       "</style>\n",
       "<table border=\"1\" class=\"dataframe\">\n",
       "  <thead>\n",
       "    <tr style=\"text-align: right;\">\n",
       "      <th></th>\n",
       "      <th>est_int</th>\n",
       "      <th>coefs</th>\n",
       "      <th>abs_coefs</th>\n",
       "    </tr>\n",
       "  </thead>\n",
       "  <tbody>\n",
       "    <tr>\n",
       "      <th>1</th>\n",
       "      <td>acousticness</td>\n",
       "      <td>-3.146571e+01</td>\n",
       "      <td>3.146571e+01</td>\n",
       "    </tr>\n",
       "    <tr>\n",
       "      <th>5</th>\n",
       "      <td>explicit</td>\n",
       "      <td>3.114641e+01</td>\n",
       "      <td>3.114641e+01</td>\n",
       "    </tr>\n",
       "    <tr>\n",
       "      <th>4</th>\n",
       "      <td>energy</td>\n",
       "      <td>1.291151e+01</td>\n",
       "      <td>1.291151e+01</td>\n",
       "    </tr>\n",
       "    <tr>\n",
       "      <th>8</th>\n",
       "      <td>liveness</td>\n",
       "      <td>-1.136989e+01</td>\n",
       "      <td>1.136989e+01</td>\n",
       "    </tr>\n",
       "    <tr>\n",
       "      <th>11</th>\n",
       "      <td>speechiness</td>\n",
       "      <td>-8.671941e+00</td>\n",
       "      <td>8.671941e+00</td>\n",
       "    </tr>\n",
       "    <tr>\n",
       "      <th>2</th>\n",
       "      <td>danceability</td>\n",
       "      <td>-3.120098e+00</td>\n",
       "      <td>3.120098e+00</td>\n",
       "    </tr>\n",
       "    <tr>\n",
       "      <th>6</th>\n",
       "      <td>instrumentalness</td>\n",
       "      <td>1.738344e+00</td>\n",
       "      <td>1.738344e+00</td>\n",
       "    </tr>\n",
       "    <tr>\n",
       "      <th>10</th>\n",
       "      <td>mode</td>\n",
       "      <td>-1.090748e+00</td>\n",
       "      <td>1.090748e+00</td>\n",
       "    </tr>\n",
       "    <tr>\n",
       "      <th>9</th>\n",
       "      <td>loudness</td>\n",
       "      <td>-7.367451e-01</td>\n",
       "      <td>7.367451e-01</td>\n",
       "    </tr>\n",
       "    <tr>\n",
       "      <th>7</th>\n",
       "      <td>key</td>\n",
       "      <td>-1.122659e-01</td>\n",
       "      <td>1.122659e-01</td>\n",
       "    </tr>\n",
       "    <tr>\n",
       "      <th>0</th>\n",
       "      <td>valence</td>\n",
       "      <td>-5.607975e-02</td>\n",
       "      <td>5.607975e-02</td>\n",
       "    </tr>\n",
       "    <tr>\n",
       "      <th>12</th>\n",
       "      <td>tempo</td>\n",
       "      <td>2.255188e-02</td>\n",
       "      <td>2.255188e-02</td>\n",
       "    </tr>\n",
       "    <tr>\n",
       "      <th>3</th>\n",
       "      <td>duration_ms</td>\n",
       "      <td>5.641974e-07</td>\n",
       "      <td>5.641974e-07</td>\n",
       "    </tr>\n",
       "  </tbody>\n",
       "</table>\n",
       "</div>"
      ],
      "text/plain": [
       "             est_int         coefs     abs_coefs\n",
       "1       acousticness -3.146571e+01  3.146571e+01\n",
       "5           explicit  3.114641e+01  3.114641e+01\n",
       "4             energy  1.291151e+01  1.291151e+01\n",
       "8           liveness -1.136989e+01  1.136989e+01\n",
       "11       speechiness -8.671941e+00  8.671941e+00\n",
       "2       danceability -3.120098e+00  3.120098e+00\n",
       "6   instrumentalness  1.738344e+00  1.738344e+00\n",
       "10              mode -1.090748e+00  1.090748e+00\n",
       "9           loudness -7.367451e-01  7.367451e-01\n",
       "7                key -1.122659e-01  1.122659e-01\n",
       "0            valence -5.607975e-02  5.607975e-02\n",
       "12             tempo  2.255188e-02  2.255188e-02\n",
       "3        duration_ms  5.641974e-07  5.641974e-07"
      ]
     },
     "execution_count": 69,
     "metadata": {},
     "output_type": "execute_result"
    }
   ],
   "source": [
    "coeff_check = coef_weights(reg, reg.coef_, X_train)\n",
    "coeff_check"
   ]
  },
  {
   "cell_type": "markdown",
   "metadata": {},
   "source": [
    "Here we see that danceability is now negatively correlated. However we also see that explicitness is positively correlated, which points out the limitations of this analysis, as there are actually only 3 tracks in this dataset that are considered explicit:"
   ]
  },
  {
   "cell_type": "code",
   "execution_count": 70,
   "metadata": {},
   "outputs": [
    {
     "data": {
      "text/html": [
       "<div>\n",
       "<style scoped>\n",
       "    .dataframe tbody tr th:only-of-type {\n",
       "        vertical-align: middle;\n",
       "    }\n",
       "\n",
       "    .dataframe tbody tr th {\n",
       "        vertical-align: top;\n",
       "    }\n",
       "\n",
       "    .dataframe thead th {\n",
       "        text-align: right;\n",
       "    }\n",
       "</style>\n",
       "<table border=\"1\" class=\"dataframe\">\n",
       "  <thead>\n",
       "    <tr style=\"text-align: right;\">\n",
       "      <th></th>\n",
       "      <th>valence</th>\n",
       "      <th>year</th>\n",
       "      <th>acousticness</th>\n",
       "      <th>danceability</th>\n",
       "      <th>duration_ms</th>\n",
       "      <th>energy</th>\n",
       "      <th>explicit</th>\n",
       "      <th>id</th>\n",
       "      <th>instrumentalness</th>\n",
       "      <th>key</th>\n",
       "      <th>...</th>\n",
       "      <th>genre_1</th>\n",
       "      <th>artist_1_y</th>\n",
       "      <th>genre_2</th>\n",
       "      <th>artist_2_y</th>\n",
       "      <th>genre_3</th>\n",
       "      <th>artist_3_y</th>\n",
       "      <th>genre_4</th>\n",
       "      <th>artist_4_y</th>\n",
       "      <th>genre_5</th>\n",
       "      <th>artist_5_y</th>\n",
       "    </tr>\n",
       "  </thead>\n",
       "  <tbody>\n",
       "    <tr>\n",
       "      <th>16522</th>\n",
       "      <td>0.575</td>\n",
       "      <td>2004</td>\n",
       "      <td>0.214000</td>\n",
       "      <td>0.828</td>\n",
       "      <td>225107</td>\n",
       "      <td>0.653</td>\n",
       "      <td>1</td>\n",
       "      <td>1p5kC161fWMA2QlwV3Vi4W</td>\n",
       "      <td>0.000003</td>\n",
       "      <td>0</td>\n",
       "      <td>...</td>\n",
       "      <td>['background music', 'background piano', 'calm...</td>\n",
       "      <td>Eamon</td>\n",
       "      <td>NaN</td>\n",
       "      <td>NaN</td>\n",
       "      <td>NaN</td>\n",
       "      <td>NaN</td>\n",
       "      <td>NaN</td>\n",
       "      <td>NaN</td>\n",
       "      <td>NaN</td>\n",
       "      <td>NaN</td>\n",
       "    </tr>\n",
       "    <tr>\n",
       "      <th>72330</th>\n",
       "      <td>0.494</td>\n",
       "      <td>2006</td>\n",
       "      <td>0.869000</td>\n",
       "      <td>0.504</td>\n",
       "      <td>263160</td>\n",
       "      <td>0.434</td>\n",
       "      <td>1</td>\n",
       "      <td>7eL4Z9FlNY5u9vOsgpDUsw</td>\n",
       "      <td>0.003400</td>\n",
       "      <td>7</td>\n",
       "      <td>...</td>\n",
       "      <td>['bluegrass', 'classical mandolin', 'instrumen...</td>\n",
       "      <td>Chris Thile</td>\n",
       "      <td>NaN</td>\n",
       "      <td>NaN</td>\n",
       "      <td>NaN</td>\n",
       "      <td>NaN</td>\n",
       "      <td>NaN</td>\n",
       "      <td>NaN</td>\n",
       "      <td>NaN</td>\n",
       "      <td>NaN</td>\n",
       "    </tr>\n",
       "    <tr>\n",
       "      <th>121450</th>\n",
       "      <td>0.149</td>\n",
       "      <td>2003</td>\n",
       "      <td>0.000011</td>\n",
       "      <td>0.514</td>\n",
       "      <td>467827</td>\n",
       "      <td>0.950</td>\n",
       "      <td>1</td>\n",
       "      <td>6hz6lrQtLcxOOjflnYjF9o</td>\n",
       "      <td>0.013500</td>\n",
       "      <td>7</td>\n",
       "      <td>...</td>\n",
       "      <td>['metal', 'neo classical metal', 'power metal'...</td>\n",
       "      <td>Dream Theater</td>\n",
       "      <td>NaN</td>\n",
       "      <td>NaN</td>\n",
       "      <td>NaN</td>\n",
       "      <td>NaN</td>\n",
       "      <td>NaN</td>\n",
       "      <td>NaN</td>\n",
       "      <td>NaN</td>\n",
       "      <td>NaN</td>\n",
       "    </tr>\n",
       "  </tbody>\n",
       "</table>\n",
       "<p>3 rows × 33 columns</p>\n",
       "</div>"
      ],
      "text/plain": [
       "        valence  year  acousticness  danceability  duration_ms  energy  \\\n",
       "16522     0.575  2004      0.214000         0.828       225107   0.653   \n",
       "72330     0.494  2006      0.869000         0.504       263160   0.434   \n",
       "121450    0.149  2003      0.000011         0.514       467827   0.950   \n",
       "\n",
       "        explicit                      id  instrumentalness  key  ...  \\\n",
       "16522          1  1p5kC161fWMA2QlwV3Vi4W          0.000003    0  ...   \n",
       "72330          1  7eL4Z9FlNY5u9vOsgpDUsw          0.003400    7  ...   \n",
       "121450         1  6hz6lrQtLcxOOjflnYjF9o          0.013500    7  ...   \n",
       "\n",
       "                                                  genre_1     artist_1_y  \\\n",
       "16522   ['background music', 'background piano', 'calm...          Eamon   \n",
       "72330   ['bluegrass', 'classical mandolin', 'instrumen...    Chris Thile   \n",
       "121450  ['metal', 'neo classical metal', 'power metal'...  Dream Theater   \n",
       "\n",
       "        genre_2 artist_2_y  genre_3 artist_3_y  genre_4  artist_4_y genre_5  \\\n",
       "16522       NaN        NaN      NaN        NaN      NaN         NaN     NaN   \n",
       "72330       NaN        NaN      NaN        NaN      NaN         NaN     NaN   \n",
       "121450      NaN        NaN      NaN        NaN      NaN         NaN     NaN   \n",
       "\n",
       "       artist_5_y  \n",
       "16522         NaN  \n",
       "72330         NaN  \n",
       "121450        NaN  \n",
       "\n",
       "[3 rows x 33 columns]"
      ]
     },
     "execution_count": 70,
     "metadata": {},
     "output_type": "execute_result"
    }
   ],
   "source": [
    "df_classical_tracks[df_classical_tracks['explicit'] > 0]"
   ]
  },
  {
   "cell_type": "markdown",
   "metadata": {},
   "source": [
    "Let's have a go with just tracks that have 'adult standards' in the genre_1 column. First, we need to create that dataset:"
   ]
  },
  {
   "cell_type": "code",
   "execution_count": 74,
   "metadata": {},
   "outputs": [],
   "source": [
    "df_adult_standards = df_tracks_with_genres[\n",
    "    df_tracks_with_genres['genre_1'].str.contains('adult standards')]"
   ]
  },
  {
   "cell_type": "code",
   "execution_count": 72,
   "metadata": {},
   "outputs": [
    {
     "data": {
      "text/plain": [
       "(14800, 33)"
      ]
     },
     "execution_count": 72,
     "metadata": {},
     "output_type": "execute_result"
    }
   ],
   "source": [
    "df_adult_standards.shape"
   ]
  },
  {
   "cell_type": "code",
   "execution_count": 77,
   "metadata": {},
   "outputs": [
    {
     "data": {
      "text/plain": [
       "0.15151218885591"
      ]
     },
     "execution_count": 77,
     "metadata": {},
     "output_type": "execute_result"
    }
   ],
   "source": [
    "X = df_adult_standards[['valence', 'acousticness',\n",
    "                        'danceability', 'duration_ms',\n",
    "                        'energy', 'explicit',\n",
    "                        'instrumentalness', 'key',\n",
    "                        'liveness', 'loudness', 'mode',\n",
    "                        'speechiness', 'tempo']]\n",
    "y = df_adult_standards[['popularity']]\n",
    "X_train, X_test, y_train, y_test = train_test_split(\n",
    "    X, y, test_size=0.33, random_state=42)\n",
    "reg = LinearRegression()\n",
    "reg.fit(X_train, y_train)\n",
    "y_pred = reg.predict(X_test)\n",
    "sc.metrics.r2_score(y_test, y_pred)"
   ]
  },
  {
   "cell_type": "markdown",
   "metadata": {},
   "source": [
    "Again, a very low r-squared, so any conclusions here to be taken with a pinch of salt."
   ]
  },
  {
   "cell_type": "code",
   "execution_count": 79,
   "metadata": {
    "scrolled": true
   },
   "outputs": [
    {
     "data": {
      "text/html": [
       "<div>\n",
       "<style scoped>\n",
       "    .dataframe tbody tr th:only-of-type {\n",
       "        vertical-align: middle;\n",
       "    }\n",
       "\n",
       "    .dataframe tbody tr th {\n",
       "        vertical-align: top;\n",
       "    }\n",
       "\n",
       "    .dataframe thead th {\n",
       "        text-align: right;\n",
       "    }\n",
       "</style>\n",
       "<table border=\"1\" class=\"dataframe\">\n",
       "  <thead>\n",
       "    <tr style=\"text-align: right;\">\n",
       "      <th></th>\n",
       "      <th>est_int</th>\n",
       "      <th>coefs</th>\n",
       "      <th>abs_coefs</th>\n",
       "    </tr>\n",
       "  </thead>\n",
       "  <tbody>\n",
       "    <tr>\n",
       "      <th>11</th>\n",
       "      <td>speechiness</td>\n",
       "      <td>-21.410754</td>\n",
       "      <td>21.410754</td>\n",
       "    </tr>\n",
       "    <tr>\n",
       "      <th>1</th>\n",
       "      <td>acousticness</td>\n",
       "      <td>-14.128893</td>\n",
       "      <td>14.128893</td>\n",
       "    </tr>\n",
       "    <tr>\n",
       "      <th>4</th>\n",
       "      <td>energy</td>\n",
       "      <td>13.452653</td>\n",
       "      <td>13.452653</td>\n",
       "    </tr>\n",
       "    <tr>\n",
       "      <th>5</th>\n",
       "      <td>explicit</td>\n",
       "      <td>13.299901</td>\n",
       "      <td>13.299901</td>\n",
       "    </tr>\n",
       "    <tr>\n",
       "      <th>6</th>\n",
       "      <td>instrumentalness</td>\n",
       "      <td>-9.835791</td>\n",
       "      <td>9.835791</td>\n",
       "    </tr>\n",
       "    <tr>\n",
       "      <th>8</th>\n",
       "      <td>liveness</td>\n",
       "      <td>-9.290904</td>\n",
       "      <td>9.290904</td>\n",
       "    </tr>\n",
       "    <tr>\n",
       "      <th>0</th>\n",
       "      <td>valence</td>\n",
       "      <td>-8.017715</td>\n",
       "      <td>8.017715</td>\n",
       "    </tr>\n",
       "    <tr>\n",
       "      <th>2</th>\n",
       "      <td>danceability</td>\n",
       "      <td>6.217002</td>\n",
       "      <td>6.217002</td>\n",
       "    </tr>\n",
       "    <tr>\n",
       "      <th>10</th>\n",
       "      <td>mode</td>\n",
       "      <td>1.285695</td>\n",
       "      <td>1.285695</td>\n",
       "    </tr>\n",
       "    <tr>\n",
       "      <th>9</th>\n",
       "      <td>loudness</td>\n",
       "      <td>-0.247669</td>\n",
       "      <td>0.247669</td>\n",
       "    </tr>\n",
       "    <tr>\n",
       "      <th>7</th>\n",
       "      <td>key</td>\n",
       "      <td>0.015860</td>\n",
       "      <td>0.015860</td>\n",
       "    </tr>\n",
       "    <tr>\n",
       "      <th>12</th>\n",
       "      <td>tempo</td>\n",
       "      <td>0.001589</td>\n",
       "      <td>0.001589</td>\n",
       "    </tr>\n",
       "    <tr>\n",
       "      <th>3</th>\n",
       "      <td>duration_ms</td>\n",
       "      <td>0.000015</td>\n",
       "      <td>0.000015</td>\n",
       "    </tr>\n",
       "  </tbody>\n",
       "</table>\n",
       "</div>"
      ],
      "text/plain": [
       "             est_int      coefs  abs_coefs\n",
       "11       speechiness -21.410754  21.410754\n",
       "1       acousticness -14.128893  14.128893\n",
       "4             energy  13.452653  13.452653\n",
       "5           explicit  13.299901  13.299901\n",
       "6   instrumentalness  -9.835791   9.835791\n",
       "8           liveness  -9.290904   9.290904\n",
       "0            valence  -8.017715   8.017715\n",
       "2       danceability   6.217002   6.217002\n",
       "10              mode   1.285695   1.285695\n",
       "9           loudness  -0.247669   0.247669\n",
       "7                key   0.015860   0.015860\n",
       "12             tempo   0.001589   0.001589\n",
       "3        duration_ms   0.000015   0.000015"
      ]
     },
     "execution_count": 79,
     "metadata": {},
     "output_type": "execute_result"
    }
   ],
   "source": [
    "coeff_check = coef_weights(reg, reg.coef_, X_train)\n",
    "coeff_check"
   ]
  },
  {
   "cell_type": "markdown",
   "metadata": {},
   "source": [
    "We can call out speechiness and acousticness as tending to drive popularity down for adult standards tracks, while enery drives them up."
   ]
  },
  {
   "cell_type": "markdown",
   "metadata": {},
   "source": [
    "Let's have a go with just tracks that have 'pop' in the genre_1 column. First, we need to create that dataset:"
   ]
  },
  {
   "cell_type": "code",
   "execution_count": 81,
   "metadata": {},
   "outputs": [],
   "source": [
    "df_pop_tracks = df_tracks_with_genres[\n",
    "    df_tracks_with_genres['genre_1'].str.contains('pop')]"
   ]
  },
  {
   "cell_type": "code",
   "execution_count": 82,
   "metadata": {},
   "outputs": [
    {
     "data": {
      "text/plain": [
       "0.2639391044986024"
      ]
     },
     "execution_count": 82,
     "metadata": {},
     "output_type": "execute_result"
    }
   ],
   "source": [
    "df_pop_tracks.shape[0]/df_tracks_with_genres.shape[0]"
   ]
  },
  {
   "cell_type": "code",
   "execution_count": 85,
   "metadata": {},
   "outputs": [
    {
     "data": {
      "text/plain": [
       "0.36867946012556996"
      ]
     },
     "execution_count": 85,
     "metadata": {},
     "output_type": "execute_result"
    }
   ],
   "source": [
    "X = df_pop_tracks[['valence', 'acousticness', 'danceability',\n",
    "                   'duration_ms', 'energy', 'explicit',\n",
    "                   'instrumentalness', 'key', 'liveness',\n",
    "                   'loudness', 'mode', 'speechiness',\n",
    "                   'tempo']]\n",
    "y = df_pop_tracks[['popularity']]\n",
    "X_train, X_test, y_train, y_test = train_test_split(\n",
    "    X, y, test_size=0.33, random_state=42)\n",
    "reg = LinearRegression()\n",
    "reg.fit(X_train, y_train)\n",
    "y_pred = reg.predict(X_test)\n",
    "sc.metrics.r2_score(y_test, y_pred)"
   ]
  },
  {
   "cell_type": "markdown",
   "metadata": {},
   "source": [
    "Slightly higher r-squared than for the previous two examples, as the we're looking at about 26% of all tracks."
   ]
  },
  {
   "cell_type": "code",
   "execution_count": 87,
   "metadata": {},
   "outputs": [
    {
     "data": {
      "text/html": [
       "<div>\n",
       "<style scoped>\n",
       "    .dataframe tbody tr th:only-of-type {\n",
       "        vertical-align: middle;\n",
       "    }\n",
       "\n",
       "    .dataframe tbody tr th {\n",
       "        vertical-align: top;\n",
       "    }\n",
       "\n",
       "    .dataframe thead th {\n",
       "        text-align: right;\n",
       "    }\n",
       "</style>\n",
       "<table border=\"1\" class=\"dataframe\">\n",
       "  <thead>\n",
       "    <tr style=\"text-align: right;\">\n",
       "      <th></th>\n",
       "      <th>est_int</th>\n",
       "      <th>coefs</th>\n",
       "      <th>abs_coefs</th>\n",
       "    </tr>\n",
       "  </thead>\n",
       "  <tbody>\n",
       "    <tr>\n",
       "      <th>2</th>\n",
       "      <td>danceability</td>\n",
       "      <td>27.823029</td>\n",
       "      <td>27.823029</td>\n",
       "    </tr>\n",
       "    <tr>\n",
       "      <th>0</th>\n",
       "      <td>valence</td>\n",
       "      <td>-23.963726</td>\n",
       "      <td>23.963726</td>\n",
       "    </tr>\n",
       "    <tr>\n",
       "      <th>11</th>\n",
       "      <td>speechiness</td>\n",
       "      <td>-15.170827</td>\n",
       "      <td>15.170827</td>\n",
       "    </tr>\n",
       "    <tr>\n",
       "      <th>1</th>\n",
       "      <td>acousticness</td>\n",
       "      <td>-14.596796</td>\n",
       "      <td>14.596796</td>\n",
       "    </tr>\n",
       "    <tr>\n",
       "      <th>6</th>\n",
       "      <td>instrumentalness</td>\n",
       "      <td>-9.473604</td>\n",
       "      <td>9.473604</td>\n",
       "    </tr>\n",
       "    <tr>\n",
       "      <th>8</th>\n",
       "      <td>liveness</td>\n",
       "      <td>-7.292525</td>\n",
       "      <td>7.292525</td>\n",
       "    </tr>\n",
       "    <tr>\n",
       "      <th>5</th>\n",
       "      <td>explicit</td>\n",
       "      <td>5.536701</td>\n",
       "      <td>5.536701</td>\n",
       "    </tr>\n",
       "    <tr>\n",
       "      <th>4</th>\n",
       "      <td>energy</td>\n",
       "      <td>1.969830</td>\n",
       "      <td>1.969830</td>\n",
       "    </tr>\n",
       "    <tr>\n",
       "      <th>9</th>\n",
       "      <td>loudness</td>\n",
       "      <td>1.034690</td>\n",
       "      <td>1.034690</td>\n",
       "    </tr>\n",
       "    <tr>\n",
       "      <th>10</th>\n",
       "      <td>mode</td>\n",
       "      <td>-0.448868</td>\n",
       "      <td>0.448868</td>\n",
       "    </tr>\n",
       "    <tr>\n",
       "      <th>12</th>\n",
       "      <td>tempo</td>\n",
       "      <td>0.032220</td>\n",
       "      <td>0.032220</td>\n",
       "    </tr>\n",
       "    <tr>\n",
       "      <th>7</th>\n",
       "      <td>key</td>\n",
       "      <td>-0.011686</td>\n",
       "      <td>0.011686</td>\n",
       "    </tr>\n",
       "    <tr>\n",
       "      <th>3</th>\n",
       "      <td>duration_ms</td>\n",
       "      <td>-0.000001</td>\n",
       "      <td>0.000001</td>\n",
       "    </tr>\n",
       "  </tbody>\n",
       "</table>\n",
       "</div>"
      ],
      "text/plain": [
       "             est_int      coefs  abs_coefs\n",
       "2       danceability  27.823029  27.823029\n",
       "0            valence -23.963726  23.963726\n",
       "11       speechiness -15.170827  15.170827\n",
       "1       acousticness -14.596796  14.596796\n",
       "6   instrumentalness  -9.473604   9.473604\n",
       "8           liveness  -7.292525   7.292525\n",
       "5           explicit   5.536701   5.536701\n",
       "4             energy   1.969830   1.969830\n",
       "9           loudness   1.034690   1.034690\n",
       "10              mode  -0.448868   0.448868\n",
       "12             tempo   0.032220   0.032220\n",
       "7                key  -0.011686   0.011686\n",
       "3        duration_ms  -0.000001   0.000001"
      ]
     },
     "execution_count": 87,
     "metadata": {},
     "output_type": "execute_result"
    }
   ],
   "source": [
    "coeff_check = coef_weights(reg, reg.coef_, X_train)\n",
    "coeff_check"
   ]
  },
  {
   "cell_type": "markdown",
   "metadata": {},
   "source": [
    "Here we see that danceability is now positively correlated. It actually seems like the main thing to look for in a pop track."
   ]
  },
  {
   "cell_type": "markdown",
   "metadata": {},
   "source": [
    "Finally, playing around with some actual tracks to get a feel for how the model works, and to help me explain the logic in my Medium post. "
   ]
  },
  {
   "cell_type": "markdown",
   "metadata": {},
   "source": [
    "First we need to reset our model, to be based on our dataset as a whole and not just a specific genre:"
   ]
  },
  {
   "cell_type": "code",
   "execution_count": 88,
   "metadata": {},
   "outputs": [
    {
     "data": {
      "text/plain": [
       "0.7898819162651358"
      ]
     },
     "execution_count": 88,
     "metadata": {},
     "output_type": "execute_result"
    }
   ],
   "source": [
    "X = df_with_dummies.drop(\n",
    "    ['name', 'year', 'id', 'name', 'release_date', 'popularity'], axis=1)\n",
    "y = df_with_dummies['popularity']\n",
    "X_train, X_test, y_train, y_test = train_test_split(\n",
    "    X, y, test_size=0.33, random_state=42)\n",
    "reg = LinearRegression()\n",
    "reg.fit(X_train, y_train)\n",
    "y_pred = reg.predict(X_test)\n",
    "sc.metrics.r2_score(y_test, y_pred)"
   ]
  },
  {
   "cell_type": "markdown",
   "metadata": {},
   "source": [
    "And now, let's look at a few tracks (I selected these with a random sample of 3 tracks taken from the whole dataset):"
   ]
  },
  {
   "cell_type": "code",
   "execution_count": 94,
   "metadata": {},
   "outputs": [
    {
     "data": {
      "text/html": [
       "<div>\n",
       "<style scoped>\n",
       "    .dataframe tbody tr th:only-of-type {\n",
       "        vertical-align: middle;\n",
       "    }\n",
       "\n",
       "    .dataframe tbody tr th {\n",
       "        vertical-align: top;\n",
       "    }\n",
       "\n",
       "    .dataframe thead th {\n",
       "        text-align: right;\n",
       "    }\n",
       "</style>\n",
       "<table border=\"1\" class=\"dataframe\">\n",
       "  <thead>\n",
       "    <tr style=\"text-align: right;\">\n",
       "      <th></th>\n",
       "      <th>valence</th>\n",
       "      <th>acousticness</th>\n",
       "      <th>danceability</th>\n",
       "      <th>duration_ms</th>\n",
       "      <th>energy</th>\n",
       "      <th>explicit</th>\n",
       "      <th>instrumentalness</th>\n",
       "      <th>key</th>\n",
       "      <th>liveness</th>\n",
       "      <th>loudness</th>\n",
       "      <th>mode</th>\n",
       "      <th>speechiness</th>\n",
       "      <th>tempo</th>\n",
       "      <th>popularity</th>\n",
       "    </tr>\n",
       "  </thead>\n",
       "  <tbody>\n",
       "    <tr>\n",
       "      <th>19643</th>\n",
       "      <td>0.259</td>\n",
       "      <td>0.00115</td>\n",
       "      <td>0.705</td>\n",
       "      <td>223279</td>\n",
       "      <td>0.814</td>\n",
       "      <td>0</td>\n",
       "      <td>0.00312</td>\n",
       "      <td>4</td>\n",
       "      <td>0.203</td>\n",
       "      <td>-5.466</td>\n",
       "      <td>0</td>\n",
       "      <td>0.0346</td>\n",
       "      <td>110.0</td>\n",
       "      <td>91</td>\n",
       "    </tr>\n",
       "  </tbody>\n",
       "</table>\n",
       "</div>"
      ],
      "text/plain": [
       "       valence  acousticness  danceability  duration_ms  energy  explicit  \\\n",
       "19643    0.259       0.00115         0.705       223279   0.814         0   \n",
       "\n",
       "       instrumentalness  key  liveness  loudness  mode  speechiness  tempo  \\\n",
       "19643           0.00312    4     0.203    -5.466     0       0.0346  110.0   \n",
       "\n",
       "       popularity  \n",
       "19643          91  "
      ]
     },
     "execution_count": 94,
     "metadata": {},
     "output_type": "execute_result"
    },
    {
     "name": "stderr",
     "output_type": "stream",
     "text": [
      "1:80: E501 line too long (80 > 79 characters)\n"
     ]
    }
   ],
   "source": [
    "df_tracks_with_genres[df_tracks_with_genres['id'] == '27ycaQnQAxaPiyeg3nr2aB'][[\n",
    "    'valence', 'acousticness', 'danceability',\n",
    "    'duration_ms', 'energy', 'explicit',\n",
    "    'instrumentalness', 'key', 'liveness',\n",
    "    'loudness', 'mode', 'speechiness', 'tempo', 'popularity']]"
   ]
  },
  {
   "cell_type": "markdown",
   "metadata": {},
   "source": [
    "Listening to this Miley Cyrus pop track we hear it has low speechiness (very few 'spoken words'), seems pretty high on danceability, and is definitely not acoustic, so we'd expect it to have a pretty high popularity score. The model predicts 64 - but it's a Miley Cyrus track, so it actually gets 91!"
   ]
  },
  {
   "cell_type": "code",
   "execution_count": 95,
   "metadata": {},
   "outputs": [
    {
     "data": {
      "text/plain": [
       "array([64.22618144])"
      ]
     },
     "execution_count": 95,
     "metadata": {},
     "output_type": "execute_result"
    }
   ],
   "source": [
    "X_midnight_sky = df_with_dummies[\n",
    "    df_with_dummies['id'] == '27ycaQnQAxaPiyeg3nr2aB'].drop(\n",
    "    ['name', 'year', 'id', 'name', 'release_date', 'popularity'], axis=1)\n",
    "midnight_sky_prediction = reg.predict(X_midnight_sky)\n",
    "midnight_sky_prediction"
   ]
  },
  {
   "cell_type": "code",
   "execution_count": 99,
   "metadata": {},
   "outputs": [
    {
     "data": {
      "text/html": [
       "<div>\n",
       "<style scoped>\n",
       "    .dataframe tbody tr th:only-of-type {\n",
       "        vertical-align: middle;\n",
       "    }\n",
       "\n",
       "    .dataframe tbody tr th {\n",
       "        vertical-align: top;\n",
       "    }\n",
       "\n",
       "    .dataframe thead th {\n",
       "        text-align: right;\n",
       "    }\n",
       "</style>\n",
       "<table border=\"1\" class=\"dataframe\">\n",
       "  <thead>\n",
       "    <tr style=\"text-align: right;\">\n",
       "      <th></th>\n",
       "      <th>valence</th>\n",
       "      <th>acousticness</th>\n",
       "      <th>danceability</th>\n",
       "      <th>duration_ms</th>\n",
       "      <th>energy</th>\n",
       "      <th>explicit</th>\n",
       "      <th>instrumentalness</th>\n",
       "      <th>key</th>\n",
       "      <th>liveness</th>\n",
       "      <th>loudness</th>\n",
       "      <th>mode</th>\n",
       "      <th>speechiness</th>\n",
       "      <th>tempo</th>\n",
       "      <th>popularity</th>\n",
       "      <th>year</th>\n",
       "    </tr>\n",
       "  </thead>\n",
       "  <tbody>\n",
       "    <tr>\n",
       "      <th>140843</th>\n",
       "      <td>0.42</td>\n",
       "      <td>0.209</td>\n",
       "      <td>0.649</td>\n",
       "      <td>203322</td>\n",
       "      <td>0.64</td>\n",
       "      <td>0</td>\n",
       "      <td>0.000532</td>\n",
       "      <td>6</td>\n",
       "      <td>0.0965</td>\n",
       "      <td>-6.09</td>\n",
       "      <td>1</td>\n",
       "      <td>0.0352</td>\n",
       "      <td>94.957</td>\n",
       "      <td>66</td>\n",
       "      <td>2020</td>\n",
       "    </tr>\n",
       "  </tbody>\n",
       "</table>\n",
       "</div>"
      ],
      "text/plain": [
       "        valence  acousticness  danceability  duration_ms  energy  explicit  \\\n",
       "140843     0.42         0.209         0.649       203322    0.64         0   \n",
       "\n",
       "        instrumentalness  key  liveness  loudness  mode  speechiness   tempo  \\\n",
       "140843          0.000532    6    0.0965     -6.09     1       0.0352  94.957   \n",
       "\n",
       "        popularity  year  \n",
       "140843          66  2020  "
      ]
     },
     "execution_count": 99,
     "metadata": {},
     "output_type": "execute_result"
    },
    {
     "name": "stderr",
     "output_type": "stream",
     "text": [
      "1:80: E501 line too long (80 > 79 characters)\n"
     ]
    }
   ],
   "source": [
    "df_tracks_with_genres[df_tracks_with_genres['id'] == '0vK1vDEvEMvSpFEKW62Qub'][[\n",
    "    'valence', 'acousticness', 'danceability',\n",
    "    'duration_ms', 'energy', 'explicit',\n",
    "    'instrumentalness', 'key', 'liveness',\n",
    "    'loudness', 'mode', 'speechiness', 'tempo',\n",
    "    'popularity', 'year']]"
   ]
  },
  {
   "cell_type": "markdown",
   "metadata": {},
   "source": [
    "Listening to this really boring song by Jordan Davis, we hear low speechiness again, definitely not explicit, not very danceable, and quite a lot of acoustic sounds. However we see that Spotify measures danceability quite high, at 0.64. In general we'd expect a middling to low popularity score here, except for the very important fact that the track was released this year. Our model spits out a score of 64, which is extremely close to the reality of 66."
   ]
  },
  {
   "cell_type": "code",
   "execution_count": 100,
   "metadata": {},
   "outputs": [
    {
     "data": {
      "text/plain": [
       "array([64.22889043])"
      ]
     },
     "execution_count": 100,
     "metadata": {},
     "output_type": "execute_result"
    }
   ],
   "source": [
    "X_lose_you = df_with_dummies[\n",
    "    df_with_dummies['id'] == '0vK1vDEvEMvSpFEKW62Qub'].drop(\n",
    "    ['name', 'year', 'id', 'name', 'release_date', 'popularity'], axis=1)\n",
    "lose_you_prediction = reg.predict(X_lose_you)\n",
    "lose_you_prediction"
   ]
  },
  {
   "cell_type": "code",
   "execution_count": 103,
   "metadata": {},
   "outputs": [
    {
     "data": {
      "text/html": [
       "<div>\n",
       "<style scoped>\n",
       "    .dataframe tbody tr th:only-of-type {\n",
       "        vertical-align: middle;\n",
       "    }\n",
       "\n",
       "    .dataframe tbody tr th {\n",
       "        vertical-align: top;\n",
       "    }\n",
       "\n",
       "    .dataframe thead th {\n",
       "        text-align: right;\n",
       "    }\n",
       "</style>\n",
       "<table border=\"1\" class=\"dataframe\">\n",
       "  <thead>\n",
       "    <tr style=\"text-align: right;\">\n",
       "      <th></th>\n",
       "      <th>name</th>\n",
       "      <th>valence</th>\n",
       "      <th>acousticness</th>\n",
       "      <th>danceability</th>\n",
       "      <th>duration_ms</th>\n",
       "      <th>energy</th>\n",
       "      <th>explicit</th>\n",
       "      <th>instrumentalness</th>\n",
       "      <th>key</th>\n",
       "      <th>liveness</th>\n",
       "      <th>loudness</th>\n",
       "      <th>mode</th>\n",
       "      <th>speechiness</th>\n",
       "      <th>tempo</th>\n",
       "      <th>popularity</th>\n",
       "      <th>year</th>\n",
       "    </tr>\n",
       "  </thead>\n",
       "  <tbody>\n",
       "    <tr>\n",
       "      <th>3824</th>\n",
       "      <td>Somebody Else Is Taking My Place</td>\n",
       "      <td>0.727</td>\n",
       "      <td>0.929</td>\n",
       "      <td>0.737</td>\n",
       "      <td>188560</td>\n",
       "      <td>0.363</td>\n",
       "      <td>0</td>\n",
       "      <td>0.168</td>\n",
       "      <td>8</td>\n",
       "      <td>0.0977</td>\n",
       "      <td>-10.962</td>\n",
       "      <td>1</td>\n",
       "      <td>0.0711</td>\n",
       "      <td>131.274</td>\n",
       "      <td>14</td>\n",
       "      <td>1941</td>\n",
       "    </tr>\n",
       "  </tbody>\n",
       "</table>\n",
       "</div>"
      ],
      "text/plain": [
       "                                  name  valence  acousticness  danceability  \\\n",
       "3824  Somebody Else Is Taking My Place    0.727         0.929         0.737   \n",
       "\n",
       "      duration_ms  energy  explicit  instrumentalness  key  liveness  \\\n",
       "3824       188560   0.363         0             0.168    8    0.0977   \n",
       "\n",
       "      loudness  mode  speechiness    tempo  popularity  year  \n",
       "3824   -10.962     1       0.0711  131.274          14  1941  "
      ]
     },
     "execution_count": 103,
     "metadata": {},
     "output_type": "execute_result"
    },
    {
     "name": "stderr",
     "output_type": "stream",
     "text": [
      "1:80: E501 line too long (80 > 79 characters)\n"
     ]
    }
   ],
   "source": [
    "df_tracks_with_genres[df_tracks_with_genres['id'] == '1pOs0EmRYSB2qHkq3RqQ3F'][[\n",
    "    'name', 'valence', 'acousticness', 'danceability',\n",
    "    'duration_ms', 'energy', 'explicit',\n",
    "    'instrumentalness', 'key', 'liveness',\n",
    "    'loudness', 'mode', 'speechiness',\n",
    "    'tempo', 'popularity', 'year']]"
   ]
  },
  {
   "cell_type": "markdown",
   "metadata": {},
   "source": [
    "Listening to this track, I find it quite danceable, very likely entirely acoustic, with almost no speechiness. However, as it came out in 1940, we would expect that fact alone to drive popularity down significantly into the low 25s. In fact, our model gives it a score of 3.3, whereas in reality it has a score of 14."
   ]
  },
  {
   "cell_type": "code",
   "execution_count": 104,
   "metadata": {},
   "outputs": [
    {
     "data": {
      "text/plain": [
       "array([3.29623334])"
      ]
     },
     "execution_count": 104,
     "metadata": {},
     "output_type": "execute_result"
    }
   ],
   "source": [
    "X_peggy_lee = df_with_dummies[\n",
    "    df_with_dummies['id'] == '1pOs0EmRYSB2qHkq3RqQ3F'].drop(\n",
    "    ['name', 'year', 'id', 'name', 'release_date', 'popularity'], axis=1)\n",
    "peggy_lee_prediction = reg.predict(X_peggy_lee)\n",
    "peggy_lee_prediction"
   ]
  },
  {
   "cell_type": "markdown",
   "metadata": {},
   "source": [
    "Thanks for reading!"
   ]
  },
  {
   "cell_type": "markdown",
   "metadata": {},
   "source": [
    "## References and credit:\n",
    "    - Found this article later - he doesn't use a linear regression but gets a very similar result with his graphs! https://towardsdatascience.com/what-makes-a-song-likeable-dbfdb7abe404#:~:text=The%20Spotify%20Web%20API%20developer,beat%20strength%2C%20and%20overall%20regularity.&text=Tempo%3A%20The%20overall%20estimated%20tempo,beats%20per%20minute%20(BPM).\n",
    "    - Used this solution for some grouping problem: https://github.com/softhints/python/blob/master/notebooks/pandas/Pandas_count_values_in_a_column_of_type_list.ipynb\n",
    "    - I'm currently following the Udacity Data Science Nanodegree, so a lot of this analysis was inspired from the lessons in that course."
   ]
  }
 ],
 "metadata": {
  "kernelspec": {
   "display_name": "Python 3",
   "language": "python",
   "name": "python3"
  },
  "language_info": {
   "codemirror_mode": {
    "name": "ipython",
    "version": 3
   },
   "file_extension": ".py",
   "mimetype": "text/x-python",
   "name": "python",
   "nbconvert_exporter": "python",
   "pygments_lexer": "ipython3",
   "version": "3.8.5"
  }
 },
 "nbformat": 4,
 "nbformat_minor": 4
}
