{
 "cells": [
  {
   "cell_type": "markdown",
   "id": "center-weapon",
   "metadata": {},
   "source": [
    "Conclusions in notes:\n",
    "    - We started with a very clean dataset, with no null values and everything being measured by Spotify. We're interested in seeing how these measurements affect the \"human\" variable: popularity\n",
    "    - We see that the most represented musical genres in this dataset are adult standards, album rock, classical, dance pop, etc\n",
    "    - Looking at correlation coefficients between the Spotify metrics and the popularity metric, we see that we appear to have a strong correlation between the year the track was released and its popularity. We also have a strong correlation between the track \"energy\" and its popularity. Conversely, we have a strong negative correlation between a track's acousticness and its popularity, as well as between a track's instrumentalness and it's popularity.\n",
    "    - We see this confirmed by taking a quick look at the top 20 genres in terms of track popularity within this dataset. They do in fact tend to be mostly \"dancy\" genres like \"reggaeton\" and \"latin pop\".\n",
    "    - The bottom 20 tracks in terms of popularity also confirm this, with genres more classical genres like \"romanticism\" and \"medieval folk\". However due to the granularity of the genre column conclusions are a bit limited.\n",
    "    - We can build a simple linear regression model linking the track metrics (without the release year) and popularity. This confirms what we saw in our correlation heatmap, with acousticness and instrumentalness having a negative influence on the popularity score, and energy having a positive influence. We also see that speechiness and valence are negatively correlated with big coeffs, and danceability having a strong positive influence\n",
    "    - If we add in the release year of our track our model becomes much more accurate, and we see that in general the track's release year is by far the most influential aspect of a track's identity for its current popularity\n",
    "    - Looking at how these different metrics correlation evolve over time, we see that they are mostly constant. The exceptions are the explicitness metric, which increases significantly over time, and the the 'acousticness' metric, which actually has a positive correlation for more recent tracks released after 2010.\n",
    "    - Finally, looking at tracks that fall into specific genres, we see that our linear model becomes much less accurate with lower r-squared scores. However we see some difference stand out for classical and pop tracks: for classical tracks, danceability has a much more negative effect on a track's popularity, with instrumentalness becoming more positive (caveat: explicitness); for pop tracks, danceability stands out as the main KPI to look at with a high positive correlation, while everything else looks negative.\n",
    "    - If we look at the track Midnight Sky by Miley Cyrus: "
   ]
  }
 ],
 "metadata": {
  "kernelspec": {
   "display_name": "Python 3",
   "language": "python",
   "name": "python3"
  },
  "language_info": {
   "codemirror_mode": {
    "name": "ipython",
    "version": 3
   },
   "file_extension": ".py",
   "mimetype": "text/x-python",
   "name": "python",
   "nbconvert_exporter": "python",
   "pygments_lexer": "ipython3",
   "version": "3.7.3"
  }
 },
 "nbformat": 4,
 "nbformat_minor": 5
}
