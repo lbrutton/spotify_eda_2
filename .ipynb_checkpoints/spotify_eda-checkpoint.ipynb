{
 "cells": [
  {
   "cell_type": "markdown",
   "metadata": {},
   "source": [
    "## Introduction\n",
    "\n",
    "Using this [dataset of 160K tracks taken from Spotify](https://www.kaggle.com/yamaerenay/spotify-dataset-19212020-160k-tracks), we want to answer the following questions:\n",
    "\n",
    "Looking at the audio features, which ones influence popularity?\n",
    "Does this influence change over time? Ie: do we see different correlations between features and popularity for tracks released in the 60s, compared to tracks released in in 2020?\n",
    "Does this change based on the musical genre of the track?\n",
    "How accurately can we predict a track's popularity score using its metadata and its audio features?\n",
    "\n",
    "For this EDA, we will be following the standard CRISP-DM framework, starting with..."
   ]
  },
  {
   "cell_type": "markdown",
   "metadata": {},
   "source": [
    "## Business Understanding"
   ]
  },
  {
   "cell_type": "markdown",
   "metadata": {},
   "source": [
    "This dataset of 160K tracks was pulled from the Spotify API by Yamac Eren Ay. \n",
    "\n",
    "Each track has the standard metadata you'd expect (title, artist(s), etc), but also a number of calculated metrics called \"Audio Features\". These allow a more in-depth understanding of each track, by giving information about how the track feels, its mood, its composition, tempo, and much more.\n",
    "\n",
    "There's a good summary of these audio features in [this article](https://towardsdatascience.com/what-makes-a-song-likeable-dbfdb7abe404#:~:text=The%20Spotify%20Web%20API%20developer,beat%20strength%2C%20and%20overall%20regularity.&text=Tempo%3A%20The%20overall%20estimated%20tempo,beats%20per%20minute%20(BPM)):\n",
    "\n",
    "- Danceability: Describes how suitable a track is for dancing based on a combination of musical elements including tempo, rhythm stability, beat strength, and overall regularity.\n",
    "- Valence: Describes the musical positiveness conveyed by a track. Tracks with high valence sound more positive (e.g. happy, cheerful, euphoric), while tracks with low valence sound more negative (e.g. sad, depressed, angry).\n",
    "- Energy: Represents a perceptual measure of intensity and activity. Typically, energetic tracks feel fast, loud, and noisy. For example, death metal has high energy, while a Bach prelude scores low on the scale.\n",
    "- Tempo: The overall estimated tempo of a track in beats per minute (BPM). In musical terminology, tempo is the speed or pace of a given piece, and derives directly from the average beat duration.\n",
    "- Loudness: The overall loudness of a track in decibels (dB). Loudness values are averaged across the entire track and are useful for comparing relative loudness of tracks.\n",
    "- Speechiness: This detects the presence of spoken words in a track. The more exclusively speech-like the recording (e.g. talk show, audio book, poetry), the closer to 1.0 the attribute value.\n",
    "- Instrumentalness: Predicts whether a track contains no vocals. “Ooh” and “aah” sounds are treated as instrumental in this context. Rap or spoken word tracks are clearly “vocal”.\n",
    "- Liveness: Detects the presence of an audience in the recording. Higher liveness values represent an increased probability that the track was performed live.\n",
    "- Acousticness: A confidence measure from 0.0 to 1.0 of whether the track is acoustic.\n",
    "- Key: The estimated overall key of the track. Integers map to pitches using standard Pitch Class notation . E.g. 0 = C, 1 = C♯/D♭, 2 = D, and so on.\n",
    "- Mode: Indicates the modality (major or minor) of a track, the type of scale from which its melodic content is derived. Major is represented by 1 and minor is 0.\n",
    "- Duration: The duration of the track in milliseconds.\n",
    "- Time Signature: An estimated overall time signature of a track. The time signature (meter) is a notational convention to specify how many beats are in each bar (or measure).\n",
    "\n",
    "Each entry in the dataset also has the track's all important \"popularity\". This is a metric derived from the number of times the track has been listened to, with more weight for more recent listens. "
   ]
  },
  {
   "cell_type": "markdown",
   "metadata": {},
   "source": [
    "## Data Understanding\n",
    "\n",
    "We'll start by loading the libraries we need, and then start to explore the data. \n",
    "\n",
    "We'll look at whether the dataset carries any null values, and whether there is information in the other available datasets (genres and artists) that we want to join into this dataset to enrich it."
   ]
  },
  {
   "cell_type": "code",
   "execution_count": 2,
   "metadata": {},
   "outputs": [],
   "source": [
    "%load_ext pycodestyle_magic"
   ]
  },
  {
   "cell_type": "code",
   "execution_count": 3,
   "metadata": {},
   "outputs": [],
   "source": [
    "%pycodestyle_on"
   ]
  },
  {
   "cell_type": "code",
   "execution_count": 4,
   "metadata": {},
   "outputs": [],
   "source": [
    "%config Completer.use_jedi = False"
   ]
  },
  {
   "cell_type": "markdown",
   "metadata": {},
   "source": [
    "We need to import the following libraries for this EDA:"
   ]
  },
  {
   "cell_type": "code",
   "execution_count": 2,
   "metadata": {},
   "outputs": [],
   "source": [
    "import pandas as pd\n",
    "import matplotlib.pyplot as plt\n",
    "import sklearn as sc\n",
    "from sklearn.model_selection import train_test_split\n",
    "import numpy as np\n",
    "import ast\n",
    "from scipy import stats\n",
    "import seaborn as sns\n",
    "from sklearn.linear_model import LinearRegression\n",
    "from collections import Counter"
   ]
  },
  {
   "cell_type": "code",
   "execution_count": 6,
   "metadata": {},
   "outputs": [
    {
     "data": {
      "text/plain": [
       "20"
      ]
     },
     "execution_count": 6,
     "metadata": {},
     "output_type": "execute_result"
    }
   ],
   "source": [
    "pd.set_option('display.max_columns', 20)\n",
    "pd.set_option('display.max_rows', 20)\n",
    "pd.options.display.max_rows"
   ]
  },
  {
   "cell_type": "markdown",
   "metadata": {},
   "source": [
    "We'll start by reading the main file for this dataset:"
   ]
  },
  {
   "cell_type": "code",
   "execution_count": 3,
   "metadata": {},
   "outputs": [
    {
     "data": {
      "text/html": [
       "<div>\n",
       "<style scoped>\n",
       "    .dataframe tbody tr th:only-of-type {\n",
       "        vertical-align: middle;\n",
       "    }\n",
       "\n",
       "    .dataframe tbody tr th {\n",
       "        vertical-align: top;\n",
       "    }\n",
       "\n",
       "    .dataframe thead th {\n",
       "        text-align: right;\n",
       "    }\n",
       "</style>\n",
       "<table border=\"1\" class=\"dataframe\">\n",
       "  <thead>\n",
       "    <tr style=\"text-align: right;\">\n",
       "      <th></th>\n",
       "      <th>valence</th>\n",
       "      <th>year</th>\n",
       "      <th>acousticness</th>\n",
       "      <th>artists</th>\n",
       "      <th>danceability</th>\n",
       "      <th>duration_ms</th>\n",
       "      <th>energy</th>\n",
       "      <th>explicit</th>\n",
       "      <th>id</th>\n",
       "      <th>instrumentalness</th>\n",
       "      <th>key</th>\n",
       "      <th>liveness</th>\n",
       "      <th>loudness</th>\n",
       "      <th>mode</th>\n",
       "      <th>name</th>\n",
       "      <th>popularity</th>\n",
       "      <th>release_date</th>\n",
       "      <th>speechiness</th>\n",
       "      <th>tempo</th>\n",
       "    </tr>\n",
       "  </thead>\n",
       "  <tbody>\n",
       "    <tr>\n",
       "      <th>0</th>\n",
       "      <td>0.0594</td>\n",
       "      <td>1921</td>\n",
       "      <td>0.982</td>\n",
       "      <td>['Sergei Rachmaninoff', 'James Levine', 'Berli...</td>\n",
       "      <td>0.279</td>\n",
       "      <td>831667</td>\n",
       "      <td>0.211</td>\n",
       "      <td>0</td>\n",
       "      <td>4BJqT0PrAfrxzMOxytFOIz</td>\n",
       "      <td>0.878000</td>\n",
       "      <td>10</td>\n",
       "      <td>0.665</td>\n",
       "      <td>-20.096</td>\n",
       "      <td>1</td>\n",
       "      <td>Piano Concerto No. 3 in D Minor, Op. 30: III. ...</td>\n",
       "      <td>4</td>\n",
       "      <td>1921</td>\n",
       "      <td>0.0366</td>\n",
       "      <td>80.954</td>\n",
       "    </tr>\n",
       "    <tr>\n",
       "      <th>1</th>\n",
       "      <td>0.9630</td>\n",
       "      <td>1921</td>\n",
       "      <td>0.732</td>\n",
       "      <td>['Dennis Day']</td>\n",
       "      <td>0.819</td>\n",
       "      <td>180533</td>\n",
       "      <td>0.341</td>\n",
       "      <td>0</td>\n",
       "      <td>7xPhfUan2yNtyFG0cUWkt8</td>\n",
       "      <td>0.000000</td>\n",
       "      <td>7</td>\n",
       "      <td>0.160</td>\n",
       "      <td>-12.441</td>\n",
       "      <td>1</td>\n",
       "      <td>Clancy Lowered the Boom</td>\n",
       "      <td>5</td>\n",
       "      <td>1921</td>\n",
       "      <td>0.4150</td>\n",
       "      <td>60.936</td>\n",
       "    </tr>\n",
       "    <tr>\n",
       "      <th>2</th>\n",
       "      <td>0.0394</td>\n",
       "      <td>1921</td>\n",
       "      <td>0.961</td>\n",
       "      <td>['KHP Kridhamardawa Karaton Ngayogyakarta Hadi...</td>\n",
       "      <td>0.328</td>\n",
       "      <td>500062</td>\n",
       "      <td>0.166</td>\n",
       "      <td>0</td>\n",
       "      <td>1o6I8BglA6ylDMrIELygv1</td>\n",
       "      <td>0.913000</td>\n",
       "      <td>3</td>\n",
       "      <td>0.101</td>\n",
       "      <td>-14.850</td>\n",
       "      <td>1</td>\n",
       "      <td>Gati Bali</td>\n",
       "      <td>5</td>\n",
       "      <td>1921</td>\n",
       "      <td>0.0339</td>\n",
       "      <td>110.339</td>\n",
       "    </tr>\n",
       "    <tr>\n",
       "      <th>3</th>\n",
       "      <td>0.1650</td>\n",
       "      <td>1921</td>\n",
       "      <td>0.967</td>\n",
       "      <td>['Frank Parker']</td>\n",
       "      <td>0.275</td>\n",
       "      <td>210000</td>\n",
       "      <td>0.309</td>\n",
       "      <td>0</td>\n",
       "      <td>3ftBPsC5vPBKxYSee08FDH</td>\n",
       "      <td>0.000028</td>\n",
       "      <td>5</td>\n",
       "      <td>0.381</td>\n",
       "      <td>-9.316</td>\n",
       "      <td>1</td>\n",
       "      <td>Danny Boy</td>\n",
       "      <td>3</td>\n",
       "      <td>1921</td>\n",
       "      <td>0.0354</td>\n",
       "      <td>100.109</td>\n",
       "    </tr>\n",
       "    <tr>\n",
       "      <th>4</th>\n",
       "      <td>0.2530</td>\n",
       "      <td>1921</td>\n",
       "      <td>0.957</td>\n",
       "      <td>['Phil Regan']</td>\n",
       "      <td>0.418</td>\n",
       "      <td>166693</td>\n",
       "      <td>0.193</td>\n",
       "      <td>0</td>\n",
       "      <td>4d6HGyGT8e121BsdKmw9v6</td>\n",
       "      <td>0.000002</td>\n",
       "      <td>3</td>\n",
       "      <td>0.229</td>\n",
       "      <td>-10.096</td>\n",
       "      <td>1</td>\n",
       "      <td>When Irish Eyes Are Smiling</td>\n",
       "      <td>2</td>\n",
       "      <td>1921</td>\n",
       "      <td>0.0380</td>\n",
       "      <td>101.665</td>\n",
       "    </tr>\n",
       "  </tbody>\n",
       "</table>\n",
       "</div>"
      ],
      "text/plain": [
       "   valence  year  acousticness  \\\n",
       "0   0.0594  1921         0.982   \n",
       "1   0.9630  1921         0.732   \n",
       "2   0.0394  1921         0.961   \n",
       "3   0.1650  1921         0.967   \n",
       "4   0.2530  1921         0.957   \n",
       "\n",
       "                                             artists  danceability  \\\n",
       "0  ['Sergei Rachmaninoff', 'James Levine', 'Berli...         0.279   \n",
       "1                                     ['Dennis Day']         0.819   \n",
       "2  ['KHP Kridhamardawa Karaton Ngayogyakarta Hadi...         0.328   \n",
       "3                                   ['Frank Parker']         0.275   \n",
       "4                                     ['Phil Regan']         0.418   \n",
       "\n",
       "   duration_ms  energy  explicit                      id  instrumentalness  \\\n",
       "0       831667   0.211         0  4BJqT0PrAfrxzMOxytFOIz          0.878000   \n",
       "1       180533   0.341         0  7xPhfUan2yNtyFG0cUWkt8          0.000000   \n",
       "2       500062   0.166         0  1o6I8BglA6ylDMrIELygv1          0.913000   \n",
       "3       210000   0.309         0  3ftBPsC5vPBKxYSee08FDH          0.000028   \n",
       "4       166693   0.193         0  4d6HGyGT8e121BsdKmw9v6          0.000002   \n",
       "\n",
       "   key  liveness  loudness  mode  \\\n",
       "0   10     0.665   -20.096     1   \n",
       "1    7     0.160   -12.441     1   \n",
       "2    3     0.101   -14.850     1   \n",
       "3    5     0.381    -9.316     1   \n",
       "4    3     0.229   -10.096     1   \n",
       "\n",
       "                                                name  popularity release_date  \\\n",
       "0  Piano Concerto No. 3 in D Minor, Op. 30: III. ...           4         1921   \n",
       "1                            Clancy Lowered the Boom           5         1921   \n",
       "2                                          Gati Bali           5         1921   \n",
       "3                                          Danny Boy           3         1921   \n",
       "4                        When Irish Eyes Are Smiling           2         1921   \n",
       "\n",
       "   speechiness    tempo  \n",
       "0       0.0366   80.954  \n",
       "1       0.4150   60.936  \n",
       "2       0.0339  110.339  \n",
       "3       0.0354  100.109  \n",
       "4       0.0380  101.665  "
      ]
     },
     "execution_count": 3,
     "metadata": {},
     "output_type": "execute_result"
    }
   ],
   "source": [
    "df = pd.read_csv('data.csv')\n",
    "df.head()"
   ]
  },
  {
   "cell_type": "code",
   "execution_count": 6,
   "metadata": {},
   "outputs": [
    {
     "data": {
      "text/html": [
       "<div>\n",
       "<style scoped>\n",
       "    .dataframe tbody tr th:only-of-type {\n",
       "        vertical-align: middle;\n",
       "    }\n",
       "\n",
       "    .dataframe tbody tr th {\n",
       "        vertical-align: top;\n",
       "    }\n",
       "\n",
       "    .dataframe thead th {\n",
       "        text-align: right;\n",
       "    }\n",
       "</style>\n",
       "<table border=\"1\" class=\"dataframe\">\n",
       "  <thead>\n",
       "    <tr style=\"text-align: right;\">\n",
       "      <th></th>\n",
       "      <th>name</th>\n",
       "      <th>year</th>\n",
       "      <th>artists</th>\n",
       "      <th>valence</th>\n",
       "      <th>acousticness</th>\n",
       "      <th>danceability</th>\n",
       "      <th>duration_ms</th>\n",
       "      <th>energy</th>\n",
       "      <th>explicit</th>\n",
       "      <th>popularity</th>\n",
       "    </tr>\n",
       "  </thead>\n",
       "  <tbody>\n",
       "    <tr>\n",
       "      <th>6683</th>\n",
       "      <td>I'll Never Be The Same - Remastered</td>\n",
       "      <td>1955</td>\n",
       "      <td>['Frank Sinatra']</td>\n",
       "      <td>0.152</td>\n",
       "      <td>0.9750</td>\n",
       "      <td>0.217</td>\n",
       "      <td>185867</td>\n",
       "      <td>0.1500</td>\n",
       "      <td>0</td>\n",
       "      <td>30</td>\n",
       "    </tr>\n",
       "    <tr>\n",
       "      <th>66781</th>\n",
       "      <td>A Couple More Years - Remastered</td>\n",
       "      <td>1978</td>\n",
       "      <td>['Willie Nelson']</td>\n",
       "      <td>0.326</td>\n",
       "      <td>0.3020</td>\n",
       "      <td>0.455</td>\n",
       "      <td>241000</td>\n",
       "      <td>0.2430</td>\n",
       "      <td>0</td>\n",
       "      <td>32</td>\n",
       "    </tr>\n",
       "    <tr>\n",
       "      <th>157797</th>\n",
       "      <td>The Foggy Dew</td>\n",
       "      <td>1956</td>\n",
       "      <td>['The Clancy Brothers', 'Tommy Makem']</td>\n",
       "      <td>0.468</td>\n",
       "      <td>0.9670</td>\n",
       "      <td>0.652</td>\n",
       "      <td>213893</td>\n",
       "      <td>0.0826</td>\n",
       "      <td>0</td>\n",
       "      <td>5</td>\n",
       "    </tr>\n",
       "    <tr>\n",
       "      <th>15496</th>\n",
       "      <td>Supe Perder</td>\n",
       "      <td>1999</td>\n",
       "      <td>['Los Caminantes']</td>\n",
       "      <td>0.929</td>\n",
       "      <td>0.0259</td>\n",
       "      <td>0.707</td>\n",
       "      <td>177853</td>\n",
       "      <td>0.6350</td>\n",
       "      <td>0</td>\n",
       "      <td>63</td>\n",
       "    </tr>\n",
       "    <tr>\n",
       "      <th>86025</th>\n",
       "      <td>Come to Me</td>\n",
       "      <td>1989</td>\n",
       "      <td>['Hiroshima']</td>\n",
       "      <td>0.644</td>\n",
       "      <td>0.4970</td>\n",
       "      <td>0.587</td>\n",
       "      <td>323840</td>\n",
       "      <td>0.3460</td>\n",
       "      <td>0</td>\n",
       "      <td>40</td>\n",
       "    </tr>\n",
       "  </tbody>\n",
       "</table>\n",
       "</div>"
      ],
      "text/plain": [
       "                                       name  year  \\\n",
       "6683    I'll Never Be The Same - Remastered  1955   \n",
       "66781      A Couple More Years - Remastered  1978   \n",
       "157797                        The Foggy Dew  1956   \n",
       "15496                           Supe Perder  1999   \n",
       "86025                            Come to Me  1989   \n",
       "\n",
       "                                       artists  valence  acousticness  \\\n",
       "6683                         ['Frank Sinatra']    0.152        0.9750   \n",
       "66781                        ['Willie Nelson']    0.326        0.3020   \n",
       "157797  ['The Clancy Brothers', 'Tommy Makem']    0.468        0.9670   \n",
       "15496                       ['Los Caminantes']    0.929        0.0259   \n",
       "86025                            ['Hiroshima']    0.644        0.4970   \n",
       "\n",
       "        danceability  duration_ms  energy  explicit  popularity  \n",
       "6683           0.217       185867  0.1500         0          30  \n",
       "66781          0.455       241000  0.2430         0          32  \n",
       "157797         0.652       213893  0.0826         0           5  \n",
       "15496          0.707       177853  0.6350         0          63  \n",
       "86025          0.587       323840  0.3460         0          40  "
      ]
     },
     "execution_count": 6,
     "metadata": {},
     "output_type": "execute_result"
    }
   ],
   "source": [
    "df[['name','year','artists','valence','acousticness','danceability','duration_ms','energy','explicit','popularity']].sample(n=5)"
   ]
  },
  {
   "cell_type": "markdown",
   "metadata": {},
   "source": [
    "Let's check the dataset for null values:"
   ]
  },
  {
   "cell_type": "code",
   "execution_count": 8,
   "metadata": {},
   "outputs": [
    {
     "data": {
      "text/plain": [
       "valence             0\n",
       "year                0\n",
       "acousticness        0\n",
       "artists             0\n",
       "danceability        0\n",
       "duration_ms         0\n",
       "energy              0\n",
       "explicit            0\n",
       "id                  0\n",
       "instrumentalness    0\n",
       "key                 0\n",
       "liveness            0\n",
       "loudness            0\n",
       "mode                0\n",
       "name                0\n",
       "popularity          0\n",
       "release_date        0\n",
       "speechiness         0\n",
       "tempo               0\n",
       "dtype: int64"
      ]
     },
     "execution_count": 8,
     "metadata": {},
     "output_type": "execute_result"
    }
   ],
   "source": [
    "total_null_counts = np.sum(df.isnull())\n",
    "total_null_counts"
   ]
  },
  {
   "cell_type": "markdown",
   "metadata": {},
   "source": [
    "We see that there are no null values in this dataset - good stuff."
   ]
  },
  {
   "cell_type": "markdown",
   "metadata": {},
   "source": [
    "Let's look at which genres are most represented within this dataset, by joining the track data file ('data.csv') with the artist and genre file ('data_w_genres.csv') using the artist as the join key:"
   ]
  },
  {
   "cell_type": "code",
   "execution_count": 9,
   "metadata": {},
   "outputs": [
    {
     "data": {
      "text/plain": [
       "(0, 34)"
      ]
     },
     "execution_count": 9,
     "metadata": {},
     "output_type": "execute_result"
    }
   ],
   "source": [
    "df_genres = pd.read_csv('data_w_genres.csv')\n",
    "merged_df = pd.merge(df, df_genres, on='artists')\n",
    "merged_df.shape"
   ]
  },
  {
   "cell_type": "markdown",
   "metadata": {},
   "source": [
    "We see that simply joining on the 'artists' column doesn't work, and yields a dataframe with 0 rows. This is likely due to a mismatched type between the 'artists' column in df and the 'artists' column in df_genres:"
   ]
  },
  {
   "cell_type": "code",
   "execution_count": 10,
   "metadata": {},
   "outputs": [
    {
     "data": {
      "text/plain": [
       "\"['Sergei Rachmaninoff', 'James Levine', 'Berliner Philharmoniker']\""
      ]
     },
     "execution_count": 10,
     "metadata": {},
     "output_type": "execute_result"
    }
   ],
   "source": [
    "df['artists'][0]"
   ]
  },
  {
   "cell_type": "code",
   "execution_count": 11,
   "metadata": {},
   "outputs": [
    {
     "data": {
      "text/plain": [
       "'\"Cats\" 1981 Original London Cast'"
      ]
     },
     "execution_count": 11,
     "metadata": {},
     "output_type": "execute_result"
    }
   ],
   "source": [
    "df_genres['artists'][0]"
   ]
  },
  {
   "cell_type": "markdown",
   "metadata": {},
   "source": [
    "Although they're both of object (actually string) type, we see that they are structured differently, with a list type contained within the string in df.\n",
    "However, we assume that if we break the artist list in df out into its component artists, we should be able to find corresponding rows in df_genres - as we can see in the following example:"
   ]
  },
  {
   "cell_type": "code",
   "execution_count": 12,
   "metadata": {},
   "outputs": [
    {
     "data": {
      "text/html": [
       "<div>\n",
       "<style scoped>\n",
       "    .dataframe tbody tr th:only-of-type {\n",
       "        vertical-align: middle;\n",
       "    }\n",
       "\n",
       "    .dataframe tbody tr th {\n",
       "        vertical-align: top;\n",
       "    }\n",
       "\n",
       "    .dataframe thead th {\n",
       "        text-align: right;\n",
       "    }\n",
       "</style>\n",
       "<table border=\"1\" class=\"dataframe\">\n",
       "  <thead>\n",
       "    <tr style=\"text-align: right;\">\n",
       "      <th></th>\n",
       "      <th>genres</th>\n",
       "      <th>artists</th>\n",
       "      <th>acousticness</th>\n",
       "      <th>danceability</th>\n",
       "      <th>duration_ms</th>\n",
       "      <th>energy</th>\n",
       "      <th>instrumentalness</th>\n",
       "      <th>liveness</th>\n",
       "      <th>loudness</th>\n",
       "      <th>speechiness</th>\n",
       "      <th>tempo</th>\n",
       "      <th>valence</th>\n",
       "      <th>popularity</th>\n",
       "      <th>key</th>\n",
       "      <th>mode</th>\n",
       "      <th>count</th>\n",
       "    </tr>\n",
       "  </thead>\n",
       "  <tbody>\n",
       "    <tr>\n",
       "      <th>11305</th>\n",
       "      <td>['classical performance', 'opera', 'orchestral...</td>\n",
       "      <td>James Levine</td>\n",
       "      <td>0.944056</td>\n",
       "      <td>0.264578</td>\n",
       "      <td>328057.111111</td>\n",
       "      <td>0.166089</td>\n",
       "      <td>0.446163</td>\n",
       "      <td>0.232672</td>\n",
       "      <td>-19.4915</td>\n",
       "      <td>0.048306</td>\n",
       "      <td>102.657</td>\n",
       "      <td>0.165772</td>\n",
       "      <td>25.833333</td>\n",
       "      <td>10</td>\n",
       "      <td>1</td>\n",
       "      <td>18</td>\n",
       "    </tr>\n",
       "  </tbody>\n",
       "</table>\n",
       "</div>"
      ],
      "text/plain": [
       "                                                  genres       artists  \\\n",
       "11305  ['classical performance', 'opera', 'orchestral...  James Levine   \n",
       "\n",
       "       acousticness  danceability    duration_ms    energy  instrumentalness  \\\n",
       "11305      0.944056      0.264578  328057.111111  0.166089          0.446163   \n",
       "\n",
       "       liveness  loudness  speechiness    tempo   valence  popularity  key  \\\n",
       "11305  0.232672  -19.4915     0.048306  102.657  0.165772   25.833333   10   \n",
       "\n",
       "       mode  count  \n",
       "11305     1     18  "
      ]
     },
     "execution_count": 12,
     "metadata": {},
     "output_type": "execute_result"
    }
   ],
   "source": [
    "df_genres[df_genres['artists'] == 'James Levine']"
   ]
  },
  {
   "cell_type": "markdown",
   "metadata": {},
   "source": [
    "What is the range for the possible count of artists a track can have? We need this to decide how we will model our data to be able to make the join:"
   ]
  },
  {
   "cell_type": "code",
   "execution_count": 13,
   "metadata": {},
   "outputs": [],
   "source": [
    "artist_count = []\n",
    "for i in df['artists'].index:\n",
    "    # The line below adds the count of artists for each track\n",
    "    artist_count.append(len(ast.literal_eval(df['artists'][i])))"
   ]
  },
  {
   "cell_type": "code",
   "execution_count": 14,
   "metadata": {},
   "outputs": [],
   "source": [
    "# This gives us the number of tracks for each distinct artist count:\n",
    "tracks_by_artist_count = Counter(artist_count)"
   ]
  },
  {
   "cell_type": "code",
   "execution_count": 15,
   "metadata": {},
   "outputs": [
    {
     "data": {
      "text/plain": [
       "<BarContainer object of 23 artists>"
      ]
     },
     "execution_count": 15,
     "metadata": {},
     "output_type": "execute_result"
    },
    {
     "data": {
      "image/png": "[encoded data removed]",
      "text/plain": [
       "<Figure size 432x288 with 1 Axes>"
      ]
     },
     "metadata": {
      "needs_background": "light"
     },
     "output_type": "display_data"
    }
   ],
   "source": [
    "fig, ax = plt.subplots()\n",
    "ax.bar(list(tracks_by_artist_count.keys()),\n",
    "       list(tracks_by_artist_count.values()))"
   ]
  },
  {
   "cell_type": "code",
   "execution_count": 17,
   "metadata": {},
   "outputs": [
    {
     "data": {
      "text/plain": [
       "DescribeResult(nobs=170653, minmax=(1, 40), mean=1.3272371420367646, variance=0.7778272099951887, skewness=6.324286654122509, kurtosis=91.29684312705011)"
      ]
     },
     "execution_count": 17,
     "metadata": {},
     "output_type": "execute_result"
    }
   ],
   "source": [
    "stats.describe(artist_count)"
   ]
  },
  {
   "cell_type": "code",
   "execution_count": 18,
   "metadata": {},
   "outputs": [
    {
     "data": {
      "text/plain": [
       "5.0"
      ]
     },
     "execution_count": 18,
     "metadata": {},
     "output_type": "execute_result"
    }
   ],
   "source": [
    "p = np.percentile(artist_count, 99)\n",
    "p"
   ]
  },
  {
   "cell_type": "markdown",
   "metadata": {},
   "source": [
    "From the above, we see that:\n",
    "- Songs in this dataset have a maximum of 40 artists\n",
    "- The dataset has a mean of 1.32 with a low variance of 0.77\n",
    "- There are just a few outliers with more than 5 artists - 99% of tracks have less than 5 artists\n",
    "\n",
    "Based on this, we will add 5 columns for potential artists. For the 1% of outliers with more than 5 artists, we will simply select the first 5 artists in the 'artists' column."
   ]
  },
  {
   "cell_type": "markdown",
   "metadata": {},
   "source": [
    "## Preparing the data\n",
    "\n",
    "Now that we have an idea of how this dataset is constructed, let's make some changes to be able to start building our models. There are no null values in the base dataset, which means we don't need to worry about deleting nulls or imputing missing values.\n",
    "\n",
    "However, we do want to add some information about the track genre(s) based on the song artist, which will require us to join the dataset with the \"artists\" dataset.\n",
    "\n",
    "Once we'd done that, we'll run a few more queries to increase our data understanding with the new information added in, and then move on to modelling, so that we start making predictions and answering the business questions stated above."
   ]
  },
  {
   "cell_type": "markdown",
   "metadata": {},
   "source": [
    "Note: the function below takes a long time to run, might be possible to refactor for a later version of this EDA."
   ]
  },
  {
   "cell_type": "code",
   "execution_count": 19,
   "metadata": {},
   "outputs": [
    {
     "name": "stderr",
     "output_type": "stream",
     "text": [
      "12:9: E722 do not use bare 'except'\n"
     ]
    }
   ],
   "source": [
    "# This block of code is really slow! it will take about 10 mins to run:\n",
    "artists_expanded = pd.DataFrame(columns=[\n",
    "    'artist_1', 'artist_2', 'artist_3', 'artist_4', 'artist_5'])\n",
    "for i in range(df.shape[0]):\n",
    "    track_artists = df['artists'].iloc[i]\n",
    "    track_artists_expanded = ast.literal_eval(track_artists)\n",
    "    data = []\n",
    "    values = []\n",
    "    for i in range(5):\n",
    "        try:\n",
    "            values.append(track_artists_expanded[i])\n",
    "        except:\n",
    "            values.append(\"\")\n",
    "        zipped = zip(artists_expanded.columns, values)\n",
    "        artists_dict = dict(zipped)\n",
    "    artists_expanded = artists_expanded.append(artists_dict, True)"
   ]
  },
  {
   "cell_type": "code",
   "execution_count": 20,
   "metadata": {},
   "outputs": [
    {
     "data": {
      "text/html": [
       "<div>\n",
       "<style scoped>\n",
       "    .dataframe tbody tr th:only-of-type {\n",
       "        vertical-align: middle;\n",
       "    }\n",
       "\n",
       "    .dataframe tbody tr th {\n",
       "        vertical-align: top;\n",
       "    }\n",
       "\n",
       "    .dataframe thead th {\n",
       "        text-align: right;\n",
       "    }\n",
       "</style>\n",
       "<table border=\"1\" class=\"dataframe\">\n",
       "  <thead>\n",
       "    <tr style=\"text-align: right;\">\n",
       "      <th></th>\n",
       "      <th>artist_1</th>\n",
       "      <th>artist_2</th>\n",
       "      <th>artist_3</th>\n",
       "      <th>artist_4</th>\n",
       "      <th>artist_5</th>\n",
       "    </tr>\n",
       "  </thead>\n",
       "  <tbody>\n",
       "    <tr>\n",
       "      <th>0</th>\n",
       "      <td>Sergei Rachmaninoff</td>\n",
       "      <td>James Levine</td>\n",
       "      <td>Berliner Philharmoniker</td>\n",
       "      <td></td>\n",
       "      <td></td>\n",
       "    </tr>\n",
       "    <tr>\n",
       "      <th>1</th>\n",
       "      <td>Dennis Day</td>\n",
       "      <td></td>\n",
       "      <td></td>\n",
       "      <td></td>\n",
       "      <td></td>\n",
       "    </tr>\n",
       "    <tr>\n",
       "      <th>2</th>\n",
       "      <td>KHP Kridhamardawa Karaton Ngayogyakarta Hadini...</td>\n",
       "      <td></td>\n",
       "      <td></td>\n",
       "      <td></td>\n",
       "      <td></td>\n",
       "    </tr>\n",
       "    <tr>\n",
       "      <th>3</th>\n",
       "      <td>Frank Parker</td>\n",
       "      <td></td>\n",
       "      <td></td>\n",
       "      <td></td>\n",
       "      <td></td>\n",
       "    </tr>\n",
       "    <tr>\n",
       "      <th>4</th>\n",
       "      <td>Phil Regan</td>\n",
       "      <td></td>\n",
       "      <td></td>\n",
       "      <td></td>\n",
       "      <td></td>\n",
       "    </tr>\n",
       "    <tr>\n",
       "      <th>5</th>\n",
       "      <td>KHP Kridhamardawa Karaton Ngayogyakarta Hadini...</td>\n",
       "      <td></td>\n",
       "      <td></td>\n",
       "      <td></td>\n",
       "      <td></td>\n",
       "    </tr>\n",
       "    <tr>\n",
       "      <th>6</th>\n",
       "      <td>John McCormack</td>\n",
       "      <td></td>\n",
       "      <td></td>\n",
       "      <td></td>\n",
       "      <td></td>\n",
       "    </tr>\n",
       "    <tr>\n",
       "      <th>7</th>\n",
       "      <td>Sergei Rachmaninoff</td>\n",
       "      <td></td>\n",
       "      <td></td>\n",
       "      <td></td>\n",
       "      <td></td>\n",
       "    </tr>\n",
       "    <tr>\n",
       "      <th>8</th>\n",
       "      <td>Ignacio Corsini</td>\n",
       "      <td></td>\n",
       "      <td></td>\n",
       "      <td></td>\n",
       "      <td></td>\n",
       "    </tr>\n",
       "    <tr>\n",
       "      <th>9</th>\n",
       "      <td>Fortugé</td>\n",
       "      <td></td>\n",
       "      <td></td>\n",
       "      <td></td>\n",
       "      <td></td>\n",
       "    </tr>\n",
       "  </tbody>\n",
       "</table>\n",
       "</div>"
      ],
      "text/plain": [
       "                                            artist_1      artist_2  \\\n",
       "0                                Sergei Rachmaninoff  James Levine   \n",
       "1                                         Dennis Day                 \n",
       "2  KHP Kridhamardawa Karaton Ngayogyakarta Hadini...                 \n",
       "3                                       Frank Parker                 \n",
       "4                                         Phil Regan                 \n",
       "5  KHP Kridhamardawa Karaton Ngayogyakarta Hadini...                 \n",
       "6                                     John McCormack                 \n",
       "7                                Sergei Rachmaninoff                 \n",
       "8                                    Ignacio Corsini                 \n",
       "9                                            Fortugé                 \n",
       "\n",
       "                  artist_3 artist_4 artist_5  \n",
       "0  Berliner Philharmoniker                    \n",
       "1                                             \n",
       "2                                             \n",
       "3                                             \n",
       "4                                             \n",
       "5                                             \n",
       "6                                             \n",
       "7                                             \n",
       "8                                             \n",
       "9                                             "
      ]
     },
     "execution_count": 20,
     "metadata": {},
     "output_type": "execute_result"
    }
   ],
   "source": [
    "artists_expanded.head(n=10)"
   ]
  },
  {
   "cell_type": "code",
   "execution_count": 21,
   "metadata": {},
   "outputs": [
    {
     "data": {
      "text/plain": [
       "(170653, 24)"
      ]
     },
     "execution_count": 21,
     "metadata": {},
     "output_type": "execute_result"
    }
   ],
   "source": [
    "df_expanded = pd.concat([df, artists_expanded], axis=1)\n",
    "df_expanded.shape"
   ]
  },
  {
   "cell_type": "markdown",
   "metadata": {},
   "source": [
    "We've expanded the 'artists' column into sub_columns as planned, now let's merge the dataframe with the 'df_genres' data to get the genres for each track:"
   ]
  },
  {
   "cell_type": "code",
   "execution_count": 22,
   "metadata": {},
   "outputs": [
    {
     "data": {
      "text/plain": [
       "Index(['genres', 'artists', 'acousticness', 'danceability', 'duration_ms',\n",
       "       'energy', 'instrumentalness', 'liveness', 'loudness', 'speechiness',\n",
       "       'tempo', 'valence', 'popularity', 'key', 'mode', 'count'],\n",
       "      dtype='object')"
      ]
     },
     "execution_count": 22,
     "metadata": {},
     "output_type": "execute_result"
    }
   ],
   "source": [
    "df_genres.columns"
   ]
  },
  {
   "cell_type": "code",
   "execution_count": 23,
   "metadata": {},
   "outputs": [
    {
     "data": {
      "text/plain": [
       "Index(['valence', 'year', 'acousticness', 'artists', 'danceability',\n",
       "       'duration_ms', 'energy', 'explicit', 'id', 'instrumentalness', 'key',\n",
       "       'liveness', 'loudness', 'mode', 'name', 'popularity', 'release_date',\n",
       "       'speechiness', 'tempo', 'artist_1', 'artist_2', 'artist_3', 'artist_4',\n",
       "       'artist_5'],\n",
       "      dtype='object')"
      ]
     },
     "execution_count": 23,
     "metadata": {},
     "output_type": "execute_result"
    }
   ],
   "source": [
    "df_expanded.columns"
   ]
  },
  {
   "cell_type": "code",
   "execution_count": 24,
   "metadata": {},
   "outputs": [
    {
     "data": {
      "text/plain": [
       "(170653, 24)"
      ]
     },
     "execution_count": 24,
     "metadata": {},
     "output_type": "execute_result"
    }
   ],
   "source": [
    "df_expanded.shape"
   ]
  },
  {
   "cell_type": "code",
   "execution_count": 25,
   "metadata": {},
   "outputs": [],
   "source": [
    "%pycodestyle_off # This is needed as pycodestyle causes the code block below to break"
   ]
  },
  {
   "cell_type": "code",
   "execution_count": 26,
   "metadata": {},
   "outputs": [
    {
     "data": {
      "text/plain": [
       "Index(['valence', 'year', 'acousticness', 'danceability', 'duration_ms',\n",
       "       'energy', 'explicit', 'id', 'instrumentalness', 'key', 'liveness',\n",
       "       'loudness', 'mode', 'name', 'popularity', 'release_date', 'speechiness',\n",
       "       'tempo', 'artist_1', 'artist_2', 'artist_3', 'artist_4', 'artist_5',\n",
       "       'genre_1', 'artist_1_y', 'genre_2', 'artist_2_y', 'genre_3',\n",
       "       'artist_3_y', 'genre_4', 'artist_4_y', 'genre_5', 'artist_5_y'],\n",
       "      dtype='object')"
      ]
     },
     "execution_count": 26,
     "metadata": {},
     "output_type": "execute_result"
    }
   ],
   "source": [
    "# for i in range(5):\n",
    "#     left_key = 'artist_'+ str(i+1)\n",
    "#     right_key = 'artists'\n",
    "#     new_genre_column = 'genre' + str(i+1)\n",
    "#     new_artist_column = 'artist_' + str(i+1) + '_y'\n",
    "#     df_expanded = pd.merge(df_expanded, df_genres, left_on=left_key,right_on=right_key).rename(columns={'genres':new_genre_column,'artists_y':new_artist_column})\n",
    "# df_expanded.drop(['artist_1_y','artists_x','artists_3_y','artists_5_y'],axis=1)\n",
    "# I couldn't get the above loop to work properly and didn't want to spend more time on this, \n",
    "# so I'm just going to iterate 5 times and remove the columns I don't want. \n",
    "df_expanded = pd.concat([df,artists_expanded],axis=1) # just to reset the dataframe\n",
    "df_expanded = pd.merge(df_expanded, df_genres[['genres','artists']], how='left', left_on='artist_1',right_on='artists').rename(columns={'genres':'genre_1','artists_y':'artist_1_y'}).drop(columns=['artists_x'])\n",
    "df_expanded.columns\n",
    "df_expanded = pd.merge(df_expanded, df_genres[['genres','artists']], how='left', left_on='artist_2',right_on='artists').rename(columns={'genres':'genre_2','artists':'artist_2_y'})\n",
    "df_expanded.columns\n",
    "df_expanded = pd.merge(df_expanded, df_genres[['genres','artists']], how='left', left_on='artist_3',right_on='artists').rename(columns={'genres':'genre_3','artists':'artist_3_y'})\n",
    "df_expanded.columns\n",
    "df_expanded = pd.merge(df_expanded, df_genres[['genres','artists']], how='left', left_on='artist_4',right_on='artists').rename(columns={'genres':'genre_4','artists':'artist_4_y'})\n",
    "df_expanded.columns\n",
    "df_expanded = pd.merge(df_expanded, df_genres[['genres','artists']], how='left', left_on='artist_5',right_on='artists').rename(columns={'genres':'genre_5','artists':'artist_5_y'})\n",
    "df_expanded.columns"
   ]
  },
  {
   "cell_type": "code",
   "execution_count": 27,
   "metadata": {},
   "outputs": [],
   "source": [
    "%pycodestyle_on # Turning it back on for the rest of the notebook"
   ]
  },
  {
   "cell_type": "markdown",
   "metadata": {},
   "source": [
    "Let's run a quick sanity check below, to make sure that the y columns match with the original and that everything in our sample makes sense. The artist columns named 'artist_n_y' are just there for this sanity check, otherwise they're redundant:"
   ]
  },
  {
   "cell_type": "code",
   "execution_count": 28,
   "metadata": {},
   "outputs": [
    {
     "data": {
      "text/html": [
       "<div>\n",
       "<style scoped>\n",
       "    .dataframe tbody tr th:only-of-type {\n",
       "        vertical-align: middle;\n",
       "    }\n",
       "\n",
       "    .dataframe tbody tr th {\n",
       "        vertical-align: top;\n",
       "    }\n",
       "\n",
       "    .dataframe thead th {\n",
       "        text-align: right;\n",
       "    }\n",
       "</style>\n",
       "<table border=\"1\" class=\"dataframe\">\n",
       "  <thead>\n",
       "    <tr style=\"text-align: right;\">\n",
       "      <th></th>\n",
       "      <th>artist_1</th>\n",
       "      <th>artist_2</th>\n",
       "      <th>artist_3</th>\n",
       "      <th>artist_4</th>\n",
       "      <th>artist_5</th>\n",
       "      <th>genre_1</th>\n",
       "      <th>artist_1_y</th>\n",
       "      <th>genre_2</th>\n",
       "      <th>artist_2_y</th>\n",
       "      <th>genre_3</th>\n",
       "      <th>artist_3_y</th>\n",
       "      <th>genre_4</th>\n",
       "      <th>artist_4_y</th>\n",
       "      <th>genre_5</th>\n",
       "      <th>artist_5_y</th>\n",
       "    </tr>\n",
       "  </thead>\n",
       "  <tbody>\n",
       "    <tr>\n",
       "      <th>0</th>\n",
       "      <td>Sergei Rachmaninoff</td>\n",
       "      <td>James Levine</td>\n",
       "      <td>Berliner Philharmoniker</td>\n",
       "      <td></td>\n",
       "      <td></td>\n",
       "      <td>['classical', 'post-romantic era', 'russian ro...</td>\n",
       "      <td>Sergei Rachmaninoff</td>\n",
       "      <td>['classical performance', 'opera', 'orchestral...</td>\n",
       "      <td>James Levine</td>\n",
       "      <td>['classical', 'classical performance', 'german...</td>\n",
       "      <td>Berliner Philharmoniker</td>\n",
       "      <td>NaN</td>\n",
       "      <td>NaN</td>\n",
       "      <td>NaN</td>\n",
       "      <td>NaN</td>\n",
       "    </tr>\n",
       "    <tr>\n",
       "      <th>1</th>\n",
       "      <td>Dennis Day</td>\n",
       "      <td></td>\n",
       "      <td></td>\n",
       "      <td></td>\n",
       "      <td></td>\n",
       "      <td>[]</td>\n",
       "      <td>Dennis Day</td>\n",
       "      <td>NaN</td>\n",
       "      <td>NaN</td>\n",
       "      <td>NaN</td>\n",
       "      <td>NaN</td>\n",
       "      <td>NaN</td>\n",
       "      <td>NaN</td>\n",
       "      <td>NaN</td>\n",
       "      <td>NaN</td>\n",
       "    </tr>\n",
       "    <tr>\n",
       "      <th>2</th>\n",
       "      <td>KHP Kridhamardawa Karaton Ngayogyakarta Hadini...</td>\n",
       "      <td></td>\n",
       "      <td></td>\n",
       "      <td></td>\n",
       "      <td></td>\n",
       "      <td>[]</td>\n",
       "      <td>KHP Kridhamardawa Karaton Ngayogyakarta Hadini...</td>\n",
       "      <td>NaN</td>\n",
       "      <td>NaN</td>\n",
       "      <td>NaN</td>\n",
       "      <td>NaN</td>\n",
       "      <td>NaN</td>\n",
       "      <td>NaN</td>\n",
       "      <td>NaN</td>\n",
       "      <td>NaN</td>\n",
       "    </tr>\n",
       "    <tr>\n",
       "      <th>3</th>\n",
       "      <td>Frank Parker</td>\n",
       "      <td></td>\n",
       "      <td></td>\n",
       "      <td></td>\n",
       "      <td></td>\n",
       "      <td>[]</td>\n",
       "      <td>Frank Parker</td>\n",
       "      <td>NaN</td>\n",
       "      <td>NaN</td>\n",
       "      <td>NaN</td>\n",
       "      <td>NaN</td>\n",
       "      <td>NaN</td>\n",
       "      <td>NaN</td>\n",
       "      <td>NaN</td>\n",
       "      <td>NaN</td>\n",
       "    </tr>\n",
       "    <tr>\n",
       "      <th>4</th>\n",
       "      <td>Phil Regan</td>\n",
       "      <td></td>\n",
       "      <td></td>\n",
       "      <td></td>\n",
       "      <td></td>\n",
       "      <td>[]</td>\n",
       "      <td>Phil Regan</td>\n",
       "      <td>NaN</td>\n",
       "      <td>NaN</td>\n",
       "      <td>NaN</td>\n",
       "      <td>NaN</td>\n",
       "      <td>NaN</td>\n",
       "      <td>NaN</td>\n",
       "      <td>NaN</td>\n",
       "      <td>NaN</td>\n",
       "    </tr>\n",
       "    <tr>\n",
       "      <th>5</th>\n",
       "      <td>KHP Kridhamardawa Karaton Ngayogyakarta Hadini...</td>\n",
       "      <td></td>\n",
       "      <td></td>\n",
       "      <td></td>\n",
       "      <td></td>\n",
       "      <td>[]</td>\n",
       "      <td>KHP Kridhamardawa Karaton Ngayogyakarta Hadini...</td>\n",
       "      <td>NaN</td>\n",
       "      <td>NaN</td>\n",
       "      <td>NaN</td>\n",
       "      <td>NaN</td>\n",
       "      <td>NaN</td>\n",
       "      <td>NaN</td>\n",
       "      <td>NaN</td>\n",
       "      <td>NaN</td>\n",
       "    </tr>\n",
       "    <tr>\n",
       "      <th>6</th>\n",
       "      <td>John McCormack</td>\n",
       "      <td></td>\n",
       "      <td></td>\n",
       "      <td></td>\n",
       "      <td></td>\n",
       "      <td>['irish ballad', 'vintage classical singing']</td>\n",
       "      <td>John McCormack</td>\n",
       "      <td>NaN</td>\n",
       "      <td>NaN</td>\n",
       "      <td>NaN</td>\n",
       "      <td>NaN</td>\n",
       "      <td>NaN</td>\n",
       "      <td>NaN</td>\n",
       "      <td>NaN</td>\n",
       "      <td>NaN</td>\n",
       "    </tr>\n",
       "    <tr>\n",
       "      <th>7</th>\n",
       "      <td>Sergei Rachmaninoff</td>\n",
       "      <td></td>\n",
       "      <td></td>\n",
       "      <td></td>\n",
       "      <td></td>\n",
       "      <td>['classical', 'post-romantic era', 'russian ro...</td>\n",
       "      <td>Sergei Rachmaninoff</td>\n",
       "      <td>NaN</td>\n",
       "      <td>NaN</td>\n",
       "      <td>NaN</td>\n",
       "      <td>NaN</td>\n",
       "      <td>NaN</td>\n",
       "      <td>NaN</td>\n",
       "      <td>NaN</td>\n",
       "      <td>NaN</td>\n",
       "    </tr>\n",
       "    <tr>\n",
       "      <th>8</th>\n",
       "      <td>Ignacio Corsini</td>\n",
       "      <td></td>\n",
       "      <td></td>\n",
       "      <td></td>\n",
       "      <td></td>\n",
       "      <td>['tango', 'vintage tango']</td>\n",
       "      <td>Ignacio Corsini</td>\n",
       "      <td>NaN</td>\n",
       "      <td>NaN</td>\n",
       "      <td>NaN</td>\n",
       "      <td>NaN</td>\n",
       "      <td>NaN</td>\n",
       "      <td>NaN</td>\n",
       "      <td>NaN</td>\n",
       "      <td>NaN</td>\n",
       "    </tr>\n",
       "    <tr>\n",
       "      <th>9</th>\n",
       "      <td>Fortugé</td>\n",
       "      <td></td>\n",
       "      <td></td>\n",
       "      <td></td>\n",
       "      <td></td>\n",
       "      <td>['vintage chanson']</td>\n",
       "      <td>Fortugé</td>\n",
       "      <td>NaN</td>\n",
       "      <td>NaN</td>\n",
       "      <td>NaN</td>\n",
       "      <td>NaN</td>\n",
       "      <td>NaN</td>\n",
       "      <td>NaN</td>\n",
       "      <td>NaN</td>\n",
       "      <td>NaN</td>\n",
       "    </tr>\n",
       "  </tbody>\n",
       "</table>\n",
       "</div>"
      ],
      "text/plain": [
       "                                            artist_1      artist_2  \\\n",
       "0                                Sergei Rachmaninoff  James Levine   \n",
       "1                                         Dennis Day                 \n",
       "2  KHP Kridhamardawa Karaton Ngayogyakarta Hadini...                 \n",
       "3                                       Frank Parker                 \n",
       "4                                         Phil Regan                 \n",
       "5  KHP Kridhamardawa Karaton Ngayogyakarta Hadini...                 \n",
       "6                                     John McCormack                 \n",
       "7                                Sergei Rachmaninoff                 \n",
       "8                                    Ignacio Corsini                 \n",
       "9                                            Fortugé                 \n",
       "\n",
       "                  artist_3 artist_4 artist_5  \\\n",
       "0  Berliner Philharmoniker                     \n",
       "1                                              \n",
       "2                                              \n",
       "3                                              \n",
       "4                                              \n",
       "5                                              \n",
       "6                                              \n",
       "7                                              \n",
       "8                                              \n",
       "9                                              \n",
       "\n",
       "                                             genre_1  \\\n",
       "0  ['classical', 'post-romantic era', 'russian ro...   \n",
       "1                                                 []   \n",
       "2                                                 []   \n",
       "3                                                 []   \n",
       "4                                                 []   \n",
       "5                                                 []   \n",
       "6      ['irish ballad', 'vintage classical singing']   \n",
       "7  ['classical', 'post-romantic era', 'russian ro...   \n",
       "8                         ['tango', 'vintage tango']   \n",
       "9                                ['vintage chanson']   \n",
       "\n",
       "                                          artist_1_y  \\\n",
       "0                                Sergei Rachmaninoff   \n",
       "1                                         Dennis Day   \n",
       "2  KHP Kridhamardawa Karaton Ngayogyakarta Hadini...   \n",
       "3                                       Frank Parker   \n",
       "4                                         Phil Regan   \n",
       "5  KHP Kridhamardawa Karaton Ngayogyakarta Hadini...   \n",
       "6                                     John McCormack   \n",
       "7                                Sergei Rachmaninoff   \n",
       "8                                    Ignacio Corsini   \n",
       "9                                            Fortugé   \n",
       "\n",
       "                                             genre_2    artist_2_y  \\\n",
       "0  ['classical performance', 'opera', 'orchestral...  James Levine   \n",
       "1                                                NaN           NaN   \n",
       "2                                                NaN           NaN   \n",
       "3                                                NaN           NaN   \n",
       "4                                                NaN           NaN   \n",
       "5                                                NaN           NaN   \n",
       "6                                                NaN           NaN   \n",
       "7                                                NaN           NaN   \n",
       "8                                                NaN           NaN   \n",
       "9                                                NaN           NaN   \n",
       "\n",
       "                                             genre_3               artist_3_y  \\\n",
       "0  ['classical', 'classical performance', 'german...  Berliner Philharmoniker   \n",
       "1                                                NaN                      NaN   \n",
       "2                                                NaN                      NaN   \n",
       "3                                                NaN                      NaN   \n",
       "4                                                NaN                      NaN   \n",
       "5                                                NaN                      NaN   \n",
       "6                                                NaN                      NaN   \n",
       "7                                                NaN                      NaN   \n",
       "8                                                NaN                      NaN   \n",
       "9                                                NaN                      NaN   \n",
       "\n",
       "  genre_4 artist_4_y genre_5 artist_5_y  \n",
       "0     NaN        NaN     NaN        NaN  \n",
       "1     NaN        NaN     NaN        NaN  \n",
       "2     NaN        NaN     NaN        NaN  \n",
       "3     NaN        NaN     NaN        NaN  \n",
       "4     NaN        NaN     NaN        NaN  \n",
       "5     NaN        NaN     NaN        NaN  \n",
       "6     NaN        NaN     NaN        NaN  \n",
       "7     NaN        NaN     NaN        NaN  \n",
       "8     NaN        NaN     NaN        NaN  \n",
       "9     NaN        NaN     NaN        NaN  "
      ]
     },
     "execution_count": 28,
     "metadata": {},
     "output_type": "execute_result"
    }
   ],
   "source": [
    "df_expanded.iloc[:, 18:35].head(n=10)"
   ]
  },
  {
   "cell_type": "markdown",
   "metadata": {},
   "source": [
    "Let's quickly rename our new even more expanded dataframe for easier reference:"
   ]
  },
  {
   "cell_type": "code",
   "execution_count": 29,
   "metadata": {},
   "outputs": [
    {
     "data": {
      "text/plain": [
       "Index(['valence', 'year', 'acousticness', 'danceability', 'duration_ms',\n",
       "       'energy', 'explicit', 'id', 'instrumentalness', 'key', 'liveness',\n",
       "       'loudness', 'mode', 'name', 'popularity', 'release_date', 'speechiness',\n",
       "       'tempo', 'artist_1', 'artist_2', 'artist_3', 'artist_4', 'artist_5',\n",
       "       'genre_1', 'artist_1_y', 'genre_2', 'artist_2_y', 'genre_3',\n",
       "       'artist_3_y', 'genre_4', 'artist_4_y', 'genre_5', 'artist_5_y'],\n",
       "      dtype='object')"
      ]
     },
     "execution_count": 29,
     "metadata": {},
     "output_type": "execute_result"
    }
   ],
   "source": [
    "df_tracks_with_genres = df_expanded\n",
    "df_tracks_with_genres.columns"
   ]
  },
  {
   "cell_type": "markdown",
   "metadata": {},
   "source": [
    "Currently, the genres in each 'genre_n' column are stored in lists, making it hard to get a picture of how each one is represented within the track data. Let's find out how each genre is represented in the 'genre_1' column, by breaking these lists up (shoutout to https://github.com/softhints/python/blob/master/notebooks/pandas/Pandas_count_values_in_a_column_of_type_list.ipynb)"
   ]
  },
  {
   "cell_type": "code",
   "execution_count": 30,
   "metadata": {
    "scrolled": true
   },
   "outputs": [
    {
     "data": {
      "text/plain": [
       "[]                                                                                                                                                     17586\n",
       "['tango', 'vintage tango']                                                                                                                              2861\n",
       "['adult standards', 'easy listening', 'lounge']                                                                                                         1173\n",
       "['classical', 'classical era']                                                                                                                          1099\n",
       "['classical', 'early romantic era', 'polish classical']                                                                                                 1017\n",
       "                                                                                                                                                       ...  \n",
       "['chicago house', 'deep house', 'disco house', 'diva house', 'house', 'tribal house', 'vocal house']                                                       1\n",
       "['dark wave', 'new romantic']                                                                                                                              1\n",
       "['atl hip hop', 'pop rap']                                                                                                                                 1\n",
       "['instrumental stoner rock', 'orebro indie', 'psychedelic doom', 'retro metal', 'space rock', 'stoner metal', 'stoner rock', 'swedish stoner rock']        1\n",
       "['bebop', 'hard bop', 'jazz drums']                                                                                                                        1\n",
       "Name: genre_1, Length: 9678, dtype: int64"
      ]
     },
     "execution_count": 30,
     "metadata": {},
     "output_type": "execute_result"
    }
   ],
   "source": [
    "df_tracks_with_genres.genre_1.value_counts().sort_values(ascending=False)"
   ]
  },
  {
   "cell_type": "markdown",
   "metadata": {},
   "source": [
    "First I need to remove the 'NaN' values from the genre_1 column, which were causing my column to have multiple data types and breaking the code further down. I can simply replace them with '[]':"
   ]
  },
  {
   "cell_type": "code",
   "execution_count": 31,
   "metadata": {},
   "outputs": [],
   "source": [
    "df_tracks_with_genres['genre_1'] = df_tracks_with_genres.genre_1.fillna('[]')"
   ]
  },
  {
   "cell_type": "code",
   "execution_count": 32,
   "metadata": {},
   "outputs": [
    {
     "data": {
      "text/html": [
       "<div>\n",
       "<style scoped>\n",
       "    .dataframe tbody tr th:only-of-type {\n",
       "        vertical-align: middle;\n",
       "    }\n",
       "\n",
       "    .dataframe tbody tr th {\n",
       "        vertical-align: top;\n",
       "    }\n",
       "\n",
       "    .dataframe thead th {\n",
       "        text-align: right;\n",
       "    }\n",
       "</style>\n",
       "<table border=\"1\" class=\"dataframe\">\n",
       "  <thead>\n",
       "    <tr style=\"text-align: right;\">\n",
       "      <th></th>\n",
       "      <th>valence</th>\n",
       "      <th>year</th>\n",
       "      <th>acousticness</th>\n",
       "      <th>danceability</th>\n",
       "      <th>duration_ms</th>\n",
       "      <th>energy</th>\n",
       "      <th>explicit</th>\n",
       "      <th>id</th>\n",
       "      <th>instrumentalness</th>\n",
       "      <th>key</th>\n",
       "      <th>...</th>\n",
       "      <th>genre_1</th>\n",
       "      <th>artist_1_y</th>\n",
       "      <th>genre_2</th>\n",
       "      <th>artist_2_y</th>\n",
       "      <th>genre_3</th>\n",
       "      <th>artist_3_y</th>\n",
       "      <th>genre_4</th>\n",
       "      <th>artist_4_y</th>\n",
       "      <th>genre_5</th>\n",
       "      <th>artist_5_y</th>\n",
       "    </tr>\n",
       "  </thead>\n",
       "  <tbody>\n",
       "  </tbody>\n",
       "</table>\n",
       "<p>0 rows × 33 columns</p>\n",
       "</div>"
      ],
      "text/plain": [
       "Empty DataFrame\n",
       "Columns: [valence, year, acousticness, danceability, duration_ms, energy, explicit, id, instrumentalness, key, liveness, loudness, mode, name, popularity, release_date, speechiness, tempo, artist_1, artist_2, artist_3, artist_4, artist_5, genre_1, artist_1_y, genre_2, artist_2_y, genre_3, artist_3_y, genre_4, artist_4_y, genre_5, artist_5_y]\n",
       "Index: []\n",
       "\n",
       "[0 rows x 33 columns]"
      ]
     },
     "execution_count": 32,
     "metadata": {},
     "output_type": "execute_result"
    }
   ],
   "source": [
    "# Below, we check whether we have managed to remove\n",
    "# all the float type values\n",
    "\n",
    "df_tracks_with_genres[df_tracks_with_genres['genre_1']\n",
    "                      .apply(lambda x: isinstance(x, float))]"
   ]
  },
  {
   "cell_type": "code",
   "execution_count": 33,
   "metadata": {},
   "outputs": [
    {
     "data": {
      "text/plain": [
       "(170653, 23)"
      ]
     },
     "execution_count": 33,
     "metadata": {},
     "output_type": "execute_result"
    }
   ],
   "source": [
    "df_all_genres = df_tracks_with_genres.genre_1.map(\n",
    "    lambda x: x.lstrip('[').rstrip(']')).str.split(',', expand=True)\n",
    "df_all_genres.shape"
   ]
  },
  {
   "cell_type": "markdown",
   "metadata": {},
   "source": [
    "Note: from the shape of the df_all_genres dataframe, we can tell that a given artist can have up to 23 different genres within this dataset!"
   ]
  },
  {
   "cell_type": "code",
   "execution_count": 34,
   "metadata": {},
   "outputs": [],
   "source": [
    "df_comb = pd.DataFrame()\n",
    "genre_index = []\n",
    "df_all_genres.fillna(0, inplace=True)"
   ]
  },
  {
   "cell_type": "code",
   "execution_count": 35,
   "metadata": {},
   "outputs": [
    {
     "data": {
      "text/html": [
       "<div>\n",
       "<style scoped>\n",
       "    .dataframe tbody tr th:only-of-type {\n",
       "        vertical-align: middle;\n",
       "    }\n",
       "\n",
       "    .dataframe tbody tr th {\n",
       "        vertical-align: top;\n",
       "    }\n",
       "\n",
       "    .dataframe thead th {\n",
       "        text-align: right;\n",
       "    }\n",
       "</style>\n",
       "<table border=\"1\" class=\"dataframe\">\n",
       "  <thead>\n",
       "    <tr style=\"text-align: right;\">\n",
       "      <th></th>\n",
       "      <th>0</th>\n",
       "      <th>1</th>\n",
       "      <th>2</th>\n",
       "      <th>3</th>\n",
       "      <th>4</th>\n",
       "      <th>5</th>\n",
       "      <th>6</th>\n",
       "      <th>7</th>\n",
       "      <th>8</th>\n",
       "      <th>9</th>\n",
       "      <th>...</th>\n",
       "      <th>13</th>\n",
       "      <th>14</th>\n",
       "      <th>15</th>\n",
       "      <th>16</th>\n",
       "      <th>17</th>\n",
       "      <th>18</th>\n",
       "      <th>19</th>\n",
       "      <th>20</th>\n",
       "      <th>21</th>\n",
       "      <th>22</th>\n",
       "    </tr>\n",
       "  </thead>\n",
       "  <tbody>\n",
       "    <tr>\n",
       "      <th>0</th>\n",
       "      <td>'classical'</td>\n",
       "      <td>'post-romantic era'</td>\n",
       "      <td>'russian romanticism'</td>\n",
       "      <td>'ukrainian classical'</td>\n",
       "      <td>0</td>\n",
       "      <td>0</td>\n",
       "      <td>0</td>\n",
       "      <td>0</td>\n",
       "      <td>0</td>\n",
       "      <td>0</td>\n",
       "      <td>...</td>\n",
       "      <td>0</td>\n",
       "      <td>0</td>\n",
       "      <td>0</td>\n",
       "      <td>0</td>\n",
       "      <td>0</td>\n",
       "      <td>0</td>\n",
       "      <td>0</td>\n",
       "      <td>0</td>\n",
       "      <td>0</td>\n",
       "      <td>0</td>\n",
       "    </tr>\n",
       "    <tr>\n",
       "      <th>1</th>\n",
       "      <td></td>\n",
       "      <td>0</td>\n",
       "      <td>0</td>\n",
       "      <td>0</td>\n",
       "      <td>0</td>\n",
       "      <td>0</td>\n",
       "      <td>0</td>\n",
       "      <td>0</td>\n",
       "      <td>0</td>\n",
       "      <td>0</td>\n",
       "      <td>...</td>\n",
       "      <td>0</td>\n",
       "      <td>0</td>\n",
       "      <td>0</td>\n",
       "      <td>0</td>\n",
       "      <td>0</td>\n",
       "      <td>0</td>\n",
       "      <td>0</td>\n",
       "      <td>0</td>\n",
       "      <td>0</td>\n",
       "      <td>0</td>\n",
       "    </tr>\n",
       "    <tr>\n",
       "      <th>2</th>\n",
       "      <td></td>\n",
       "      <td>0</td>\n",
       "      <td>0</td>\n",
       "      <td>0</td>\n",
       "      <td>0</td>\n",
       "      <td>0</td>\n",
       "      <td>0</td>\n",
       "      <td>0</td>\n",
       "      <td>0</td>\n",
       "      <td>0</td>\n",
       "      <td>...</td>\n",
       "      <td>0</td>\n",
       "      <td>0</td>\n",
       "      <td>0</td>\n",
       "      <td>0</td>\n",
       "      <td>0</td>\n",
       "      <td>0</td>\n",
       "      <td>0</td>\n",
       "      <td>0</td>\n",
       "      <td>0</td>\n",
       "      <td>0</td>\n",
       "    </tr>\n",
       "    <tr>\n",
       "      <th>3</th>\n",
       "      <td></td>\n",
       "      <td>0</td>\n",
       "      <td>0</td>\n",
       "      <td>0</td>\n",
       "      <td>0</td>\n",
       "      <td>0</td>\n",
       "      <td>0</td>\n",
       "      <td>0</td>\n",
       "      <td>0</td>\n",
       "      <td>0</td>\n",
       "      <td>...</td>\n",
       "      <td>0</td>\n",
       "      <td>0</td>\n",
       "      <td>0</td>\n",
       "      <td>0</td>\n",
       "      <td>0</td>\n",
       "      <td>0</td>\n",
       "      <td>0</td>\n",
       "      <td>0</td>\n",
       "      <td>0</td>\n",
       "      <td>0</td>\n",
       "    </tr>\n",
       "    <tr>\n",
       "      <th>4</th>\n",
       "      <td></td>\n",
       "      <td>0</td>\n",
       "      <td>0</td>\n",
       "      <td>0</td>\n",
       "      <td>0</td>\n",
       "      <td>0</td>\n",
       "      <td>0</td>\n",
       "      <td>0</td>\n",
       "      <td>0</td>\n",
       "      <td>0</td>\n",
       "      <td>...</td>\n",
       "      <td>0</td>\n",
       "      <td>0</td>\n",
       "      <td>0</td>\n",
       "      <td>0</td>\n",
       "      <td>0</td>\n",
       "      <td>0</td>\n",
       "      <td>0</td>\n",
       "      <td>0</td>\n",
       "      <td>0</td>\n",
       "      <td>0</td>\n",
       "    </tr>\n",
       "  </tbody>\n",
       "</table>\n",
       "<p>5 rows × 23 columns</p>\n",
       "</div>"
      ],
      "text/plain": [
       "            0                     1                       2   \\\n",
       "0  'classical'   'post-romantic era'   'russian romanticism'   \n",
       "1                                  0                       0   \n",
       "2                                  0                       0   \n",
       "3                                  0                       0   \n",
       "4                                  0                       0   \n",
       "\n",
       "                       3  4  5  6  7  8  9   ... 13 14 15 16 17 18 19 20 21 22  \n",
       "0   'ukrainian classical'  0  0  0  0  0  0  ...  0  0  0  0  0  0  0  0  0  0  \n",
       "1                       0  0  0  0  0  0  0  ...  0  0  0  0  0  0  0  0  0  0  \n",
       "2                       0  0  0  0  0  0  0  ...  0  0  0  0  0  0  0  0  0  0  \n",
       "3                       0  0  0  0  0  0  0  ...  0  0  0  0  0  0  0  0  0  0  \n",
       "4                       0  0  0  0  0  0  0  ...  0  0  0  0  0  0  0  0  0  0  \n",
       "\n",
       "[5 rows x 23 columns]"
      ]
     },
     "execution_count": 35,
     "metadata": {},
     "output_type": "execute_result"
    }
   ],
   "source": [
    "df_all_genres.head()"
   ]
  },
  {
   "cell_type": "code",
   "execution_count": 36,
   "metadata": {},
   "outputs": [
    {
     "data": {
      "text/html": [
       "<div>\n",
       "<style scoped>\n",
       "    .dataframe tbody tr th:only-of-type {\n",
       "        vertical-align: middle;\n",
       "    }\n",
       "\n",
       "    .dataframe tbody tr th {\n",
       "        vertical-align: top;\n",
       "    }\n",
       "\n",
       "    .dataframe thead th {\n",
       "        text-align: right;\n",
       "    }\n",
       "</style>\n",
       "<table border=\"1\" class=\"dataframe\">\n",
       "  <thead>\n",
       "    <tr style=\"text-align: right;\">\n",
       "      <th></th>\n",
       "      <th>total</th>\n",
       "    </tr>\n",
       "  </thead>\n",
       "  <tbody>\n",
       "    <tr>\n",
       "      <th>'adult standards'</th>\n",
       "      <td>14763</td>\n",
       "    </tr>\n",
       "    <tr>\n",
       "      <th>'album rock'</th>\n",
       "      <td>12181</td>\n",
       "    </tr>\n",
       "    <tr>\n",
       "      <th>'classical'</th>\n",
       "      <td>8686</td>\n",
       "    </tr>\n",
       "    <tr>\n",
       "      <th>'dance pop'</th>\n",
       "      <td>4652</td>\n",
       "    </tr>\n",
       "    <tr>\n",
       "      <th>'alternative metal'</th>\n",
       "      <td>4286</td>\n",
       "    </tr>\n",
       "    <tr>\n",
       "      <th>'bebop'</th>\n",
       "      <td>3901</td>\n",
       "    </tr>\n",
       "    <tr>\n",
       "      <th>'alternative rock'</th>\n",
       "      <td>3517</td>\n",
       "    </tr>\n",
       "    <tr>\n",
       "      <th>'tango'</th>\n",
       "      <td>2881</td>\n",
       "    </tr>\n",
       "    <tr>\n",
       "      <th>'contemporary country'</th>\n",
       "      <td>2585</td>\n",
       "    </tr>\n",
       "    <tr>\n",
       "      <th>'classic bollywood'</th>\n",
       "      <td>2261</td>\n",
       "    </tr>\n",
       "  </tbody>\n",
       "</table>\n",
       "</div>"
      ],
      "text/plain": [
       "                        total\n",
       "'adult standards'       14763\n",
       "'album rock'            12181\n",
       "'classical'              8686\n",
       "'dance pop'              4652\n",
       "'alternative metal'      4286\n",
       "'bebop'                  3901\n",
       "'alternative rock'       3517\n",
       "'tango'                  2881\n",
       "'contemporary country'   2585\n",
       "'classic bollywood'      2261"
      ]
     },
     "execution_count": 36,
     "metadata": {},
     "output_type": "execute_result"
    }
   ],
   "source": [
    "# Again, the block below is taken from softhint's solution on Github\n",
    "# but essentially, it iterates through the columns of the df_all_genres df\n",
    "# counting the values for each genre in each column,\n",
    "# and adding it to the df_comb dataframe\n",
    "# and also reindexing it:\n",
    "\n",
    "for col in df_all_genres.columns:\n",
    "    if col == 0:\n",
    "        df_comb['total'] = df_all_genres[col].fillna(0).value_counts()\n",
    "        genre_index = df_all_genres[col].value_counts().index\n",
    "    else:\n",
    "        col_ser = df_all_genres[col].fillna(0).value_counts()\n",
    "        col_ser = col_ser.reindex(genre_index, fill_value=0)\n",
    "        df_comb['total'] = df_comb['total'] + col_ser\n",
    "df_comb.iloc[1:].sort_values('total', ascending=False).head(10)"
   ]
  },
  {
   "cell_type": "markdown",
   "metadata": {},
   "source": [
    "Finally, we plot the count of the top 10 genres to get an idea of the distribution of genres in the track dataset, for the genre_1 column:"
   ]
  },
  {
   "cell_type": "code",
   "execution_count": 37,
   "metadata": {},
   "outputs": [
    {
     "data": {
      "text/plain": [
       "Text(0, 0.5, 'count of distinct tracks')"
      ]
     },
     "execution_count": 37,
     "metadata": {},
     "output_type": "execute_result"
    },
    {
     "data": {
      "image/png": "[encoded data removed]",
      "text/plain": [
       "<Figure size 432x288 with 1 Axes>"
      ]
     },
     "metadata": {
      "needs_background": "light"
     },
     "output_type": "display_data"
    }
   ],
   "source": [
    "df_comb_top_10 = df_comb.iloc[1:].nlargest(10, 'total')\n",
    "ax = df_comb_top_10.plot.bar()\n",
    "ax.set_xlabel('track genre')\n",
    "ax.set_ylabel('count of distinct tracks')"
   ]
  },
  {
   "cell_type": "markdown",
   "metadata": {},
   "source": [
    "We notice that the top genres in this column are 'album rock', 'classical', and 'dance pop'. Later, we'll come back to tracks of specific genres to see how our correlations change."
   ]
  },
  {
   "cell_type": "markdown",
   "metadata": {},
   "source": [
    "Let's first of all look at the coefficients between the different numerical columns, with a particular focus on the track popularity as that's what we will be looking to predict:"
   ]
  },
  {
   "cell_type": "code",
   "execution_count": 38,
   "metadata": {},
   "outputs": [
    {
     "data": {
      "text/plain": [
       "popularity          1.000000\n",
       "year                0.862442\n",
       "energy              0.485005\n",
       "loudness            0.457051\n",
       "danceability        0.199606\n",
       "explicit            0.191543\n",
       "tempo               0.133310\n",
       "duration_ms         0.059597\n",
       "valence             0.014200\n",
       "key                 0.007826\n",
       "mode               -0.028897\n",
       "liveness           -0.076464\n",
       "speechiness        -0.171979\n",
       "instrumentalness   -0.296750\n",
       "acousticness       -0.573162\n",
       "Name: popularity, dtype: float64"
      ]
     },
     "execution_count": 38,
     "metadata": {},
     "output_type": "execute_result"
    }
   ],
   "source": [
    "df_tracks_with_genres.corr()['popularity'].sort_values(ascending=False)"
   ]
  },
  {
   "cell_type": "code",
   "execution_count": 39,
   "metadata": {},
   "outputs": [
    {
     "data": {
      "text/plain": [
       "<matplotlib.axes._subplots.AxesSubplot at 0x1b5c5a3a160>"
      ]
     },
     "execution_count": 39,
     "metadata": {},
     "output_type": "execute_result"
    },
    {
     "data": {
      "image/png": "[encoded data removed]",
      "text/plain": [
       "<Figure size 432x288 with 2 Axes>"
      ]
     },
     "metadata": {
      "needs_background": "light"
     },
     "output_type": "display_data"
    }
   ],
   "source": [
    "sns.heatmap(df_tracks_with_genres.corr())"
   ]
  },
  {
   "cell_type": "markdown",
   "metadata": {},
   "source": [
    "We appear to have a strong correlation between the year the track was released and its popularity. We also have a strong correlation between the track \"energy\" and its popularity.\n",
    "Conversely, we have a strong negative correlation between a track's acousticness and its popularity, as well as between a track's instrumentalness and it's popularity."
   ]
  },
  {
   "cell_type": "code",
   "execution_count": 40,
   "metadata": {},
   "outputs": [
    {
     "data": {
      "text/html": [
       "<div>\n",
       "<style scoped>\n",
       "    .dataframe tbody tr th:only-of-type {\n",
       "        vertical-align: middle;\n",
       "    }\n",
       "\n",
       "    .dataframe tbody tr th {\n",
       "        vertical-align: top;\n",
       "    }\n",
       "\n",
       "    .dataframe thead th {\n",
       "        text-align: right;\n",
       "    }\n",
       "</style>\n",
       "<table border=\"1\" class=\"dataframe\">\n",
       "  <thead>\n",
       "    <tr style=\"text-align: right;\">\n",
       "      <th></th>\n",
       "      <th>popularity</th>\n",
       "    </tr>\n",
       "    <tr>\n",
       "      <th>genre_1</th>\n",
       "      <th></th>\n",
       "    </tr>\n",
       "  </thead>\n",
       "  <tbody>\n",
       "    <tr>\n",
       "      <th>['latin pop', 'viral pop']</th>\n",
       "      <td>92.000000</td>\n",
       "    </tr>\n",
       "    <tr>\n",
       "      <th>['cubaton', 'latin', 'pop venezolano', 'reggaeton', 'trap latino']</th>\n",
       "      <td>89.000000</td>\n",
       "    </tr>\n",
       "    <tr>\n",
       "      <th>['tropical house']</th>\n",
       "      <td>88.000000</td>\n",
       "    </tr>\n",
       "    <tr>\n",
       "      <th>['south african house']</th>\n",
       "      <td>86.000000</td>\n",
       "    </tr>\n",
       "    <tr>\n",
       "      <th>['dance pop', 'house', 'pop', 'pop dance', 'tropical house', 'uk dance']</th>\n",
       "      <td>85.500000</td>\n",
       "    </tr>\n",
       "    <tr>\n",
       "      <th>['afroswing', 'london rap', 'rap']</th>\n",
       "      <td>85.000000</td>\n",
       "    </tr>\n",
       "    <tr>\n",
       "      <th>['basshall', 'francoton']</th>\n",
       "      <td>85.000000</td>\n",
       "    </tr>\n",
       "    <tr>\n",
       "      <th>['edm', 'german dance', 'pop dance', 'pop edm', 'tropical house']</th>\n",
       "      <td>84.500000</td>\n",
       "    </tr>\n",
       "    <tr>\n",
       "      <th>['australian pop', 'pop', 'uk pop']</th>\n",
       "      <td>84.000000</td>\n",
       "    </tr>\n",
       "    <tr>\n",
       "      <th>['scandipop', 'swedish pop', 'tropical house']</th>\n",
       "      <td>84.000000</td>\n",
       "    </tr>\n",
       "    <tr>\n",
       "      <th>['colombian pop', 'latin', 'latin pop', 'reggaeton', 'reggaeton colombiano', 'trap latino', 'tropical']</th>\n",
       "      <td>83.333333</td>\n",
       "    </tr>\n",
       "    <tr>\n",
       "      <th>['edm', 'electro house', 'pop dance', 'tropical house']</th>\n",
       "      <td>82.000000</td>\n",
       "    </tr>\n",
       "    <tr>\n",
       "      <th>['indie rockism']</th>\n",
       "      <td>82.000000</td>\n",
       "    </tr>\n",
       "    <tr>\n",
       "      <th>['colombian pop', 'latin', 'reggaeton colombiano']</th>\n",
       "      <td>81.333333</td>\n",
       "    </tr>\n",
       "    <tr>\n",
       "      <th>['colombian pop', 'latin', 'pop reggaeton', 'reggaeton', 'reggaeton colombiano', 'trap latino']</th>\n",
       "      <td>81.000000</td>\n",
       "    </tr>\n",
       "    <tr>\n",
       "      <th>['dutch pop']</th>\n",
       "      <td>81.000000</td>\n",
       "    </tr>\n",
       "    <tr>\n",
       "      <th>['pop r&amp;b', 'sad rap']</th>\n",
       "      <td>81.000000</td>\n",
       "    </tr>\n",
       "    <tr>\n",
       "      <th>['latin', 'panamanian pop', 'reggaeton', 'trap latino']</th>\n",
       "      <td>81.000000</td>\n",
       "    </tr>\n",
       "    <tr>\n",
       "      <th>['edm', 'pop dance', 'pop edm', 'tropical house']</th>\n",
       "      <td>80.666667</td>\n",
       "    </tr>\n",
       "    <tr>\n",
       "      <th>['r&amp;b en espanol']</th>\n",
       "      <td>80.333333</td>\n",
       "    </tr>\n",
       "  </tbody>\n",
       "</table>\n",
       "</div>"
      ],
      "text/plain": [
       "                                                    popularity\n",
       "genre_1                                                       \n",
       "['latin pop', 'viral pop']                           92.000000\n",
       "['cubaton', 'latin', 'pop venezolano', 'reggaet...   89.000000\n",
       "['tropical house']                                   88.000000\n",
       "['south african house']                              86.000000\n",
       "['dance pop', 'house', 'pop', 'pop dance', 'tro...   85.500000\n",
       "['afroswing', 'london rap', 'rap']                   85.000000\n",
       "['basshall', 'francoton']                            85.000000\n",
       "['edm', 'german dance', 'pop dance', 'pop edm',...   84.500000\n",
       "['australian pop', 'pop', 'uk pop']                  84.000000\n",
       "['scandipop', 'swedish pop', 'tropical house']       84.000000\n",
       "['colombian pop', 'latin', 'latin pop', 'reggae...   83.333333\n",
       "['edm', 'electro house', 'pop dance', 'tropical...   82.000000\n",
       "['indie rockism']                                    82.000000\n",
       "['colombian pop', 'latin', 'reggaeton colombiano']   81.333333\n",
       "['colombian pop', 'latin', 'pop reggaeton', 're...   81.000000\n",
       "['dutch pop']                                        81.000000\n",
       "['pop r&b', 'sad rap']                               81.000000\n",
       "['latin', 'panamanian pop', 'reggaeton', 'trap ...   81.000000\n",
       "['edm', 'pop dance', 'pop edm', 'tropical house']    80.666667\n",
       "['r&b en espanol']                                   80.333333"
      ]
     },
     "execution_count": 40,
     "metadata": {},
     "output_type": "execute_result"
    }
   ],
   "source": [
    "df_popularity_with_genres = df_tracks_with_genres[['genre_1', 'popularity']]\n",
    "df_popularity_with_genres.groupby('genre_1').mean().sort_values(\n",
    "    by='popularity', ascending=False).head(n=20)"
   ]
  },
  {
   "cell_type": "markdown",
   "metadata": {},
   "source": [
    "Above, we see this confirmed by taking a quick look at the top 20 genres in terms of track popularity within this dataset. They do in fact tend to be mostly \"dancy\" genres like \"reggaeton\" and \"latin pop\", which are less likely to be 'acoustic' or 'instrumental'"
   ]
  },
  {
   "cell_type": "code",
   "execution_count": 41,
   "metadata": {},
   "outputs": [
    {
     "data": {
      "text/html": [
       "<div>\n",
       "<style scoped>\n",
       "    .dataframe tbody tr th:only-of-type {\n",
       "        vertical-align: middle;\n",
       "    }\n",
       "\n",
       "    .dataframe tbody tr th {\n",
       "        vertical-align: top;\n",
       "    }\n",
       "\n",
       "    .dataframe thead th {\n",
       "        text-align: right;\n",
       "    }\n",
       "</style>\n",
       "<table border=\"1\" class=\"dataframe\">\n",
       "  <thead>\n",
       "    <tr style=\"text-align: right;\">\n",
       "      <th></th>\n",
       "      <th>popularity</th>\n",
       "    </tr>\n",
       "    <tr>\n",
       "      <th>genre_1</th>\n",
       "      <th></th>\n",
       "    </tr>\n",
       "  </thead>\n",
       "  <tbody>\n",
       "    <tr>\n",
       "      <th>['big band', 'dixieland', 'new orleans jazz', 'stride', 'swing', 'vintage jazz']</th>\n",
       "      <td>0.0</td>\n",
       "    </tr>\n",
       "    <tr>\n",
       "      <th>['russian modern classical', 'russian romanticism']</th>\n",
       "      <td>0.0</td>\n",
       "    </tr>\n",
       "    <tr>\n",
       "      <th>['russian shoegaze']</th>\n",
       "      <td>0.0</td>\n",
       "    </tr>\n",
       "    <tr>\n",
       "      <th>['rwandan traditional']</th>\n",
       "      <td>0.0</td>\n",
       "    </tr>\n",
       "    <tr>\n",
       "      <th>['ryukyu ongaku']</th>\n",
       "      <td>0.0</td>\n",
       "    </tr>\n",
       "    <tr>\n",
       "      <th>['danish classical', 'neoclassicism']</th>\n",
       "      <td>0.0</td>\n",
       "    </tr>\n",
       "    <tr>\n",
       "      <th>['danish classical']</th>\n",
       "      <td>0.0</td>\n",
       "    </tr>\n",
       "    <tr>\n",
       "      <th>['danish jazz']</th>\n",
       "      <td>0.0</td>\n",
       "    </tr>\n",
       "    <tr>\n",
       "      <th>['jazz trombone']</th>\n",
       "      <td>0.0</td>\n",
       "    </tr>\n",
       "    <tr>\n",
       "      <th>['jazz tuba']</th>\n",
       "      <td>0.0</td>\n",
       "    </tr>\n",
       "    <tr>\n",
       "      <th>['dark hardcore', 'gabba', 'hardcore techno', 'rawstyle', 'uptempo hardcore']</th>\n",
       "      <td>0.0</td>\n",
       "    </tr>\n",
       "    <tr>\n",
       "      <th>['progressive trance']</th>\n",
       "      <td>0.0</td>\n",
       "    </tr>\n",
       "    <tr>\n",
       "      <th>['neoclassicism']</th>\n",
       "      <td>0.0</td>\n",
       "    </tr>\n",
       "    <tr>\n",
       "      <th>['jazz violin']</th>\n",
       "      <td>0.0</td>\n",
       "    </tr>\n",
       "    <tr>\n",
       "      <th>['shabad']</th>\n",
       "      <td>0.0</td>\n",
       "    </tr>\n",
       "    <tr>\n",
       "      <th>['progressive trance', 'sky room']</th>\n",
       "      <td>0.0</td>\n",
       "    </tr>\n",
       "    <tr>\n",
       "      <th>['bengali folk']</th>\n",
       "      <td>0.0</td>\n",
       "    </tr>\n",
       "    <tr>\n",
       "      <th>['belgian hardcore']</th>\n",
       "      <td>0.0</td>\n",
       "    </tr>\n",
       "    <tr>\n",
       "      <th>['gabba', 'hardcore techno', 'uptempo hardcore']</th>\n",
       "      <td>0.0</td>\n",
       "    </tr>\n",
       "    <tr>\n",
       "      <th>['danish classical', 'late romantic era']</th>\n",
       "      <td>0.0</td>\n",
       "    </tr>\n",
       "  </tbody>\n",
       "</table>\n",
       "</div>"
      ],
      "text/plain": [
       "                                                    popularity\n",
       "genre_1                                                       \n",
       "['big band', 'dixieland', 'new orleans jazz', '...         0.0\n",
       "['russian modern classical', 'russian romantici...         0.0\n",
       "['russian shoegaze']                                       0.0\n",
       "['rwandan traditional']                                    0.0\n",
       "['ryukyu ongaku']                                          0.0\n",
       "['danish classical', 'neoclassicism']                      0.0\n",
       "['danish classical']                                       0.0\n",
       "['danish jazz']                                            0.0\n",
       "['jazz trombone']                                          0.0\n",
       "['jazz tuba']                                              0.0\n",
       "['dark hardcore', 'gabba', 'hardcore techno', '...         0.0\n",
       "['progressive trance']                                     0.0\n",
       "['neoclassicism']                                          0.0\n",
       "['jazz violin']                                            0.0\n",
       "['shabad']                                                 0.0\n",
       "['progressive trance', 'sky room']                         0.0\n",
       "['bengali folk']                                           0.0\n",
       "['belgian hardcore']                                       0.0\n",
       "['gabba', 'hardcore techno', 'uptempo hardcore']           0.0\n",
       "['danish classical', 'late romantic era']                  0.0"
      ]
     },
     "execution_count": 41,
     "metadata": {},
     "output_type": "execute_result"
    }
   ],
   "source": [
    "df_popularity_with_genres = df_tracks_with_genres[['genre_1', 'popularity']]\n",
    "df_popularity_with_genres.groupby('genre_1').mean().sort_values(\n",
    "    by='popularity', ascending=True).head(n=20)"
   ]
  },
  {
   "cell_type": "markdown",
   "metadata": {},
   "source": [
    "Whereas the cell above shows the bottom 20 tracks in terms of popularity, with more classical genres like \"romanticism\" and \"medieval folk\" - which would indeed tend to be more instrumental, for example. However due to the granularity of the genre column, conclusions here are a bit limited."
   ]
  },
  {
   "cell_type": "markdown",
   "metadata": {},
   "source": [
    "## Data modelling\n",
    "\n",
    "Now that we have our new expanded dataset, and a good understanding of how it is structured, as well as some insights into how the different data points - in particular the audio features and the popularity - are correlated, let's move on to building a simple model."
   ]
  },
  {
   "cell_type": "code",
   "execution_count": 42,
   "metadata": {},
   "outputs": [
    {
     "data": {
      "text/plain": [
       "Index(['valence', 'year', 'acousticness', 'danceability', 'duration_ms',\n",
       "       'energy', 'explicit', 'id', 'instrumentalness', 'key', 'liveness',\n",
       "       'loudness', 'mode', 'name', 'popularity', 'release_date', 'speechiness',\n",
       "       'tempo', 'artist_1', 'artist_2', 'artist_3', 'artist_4', 'artist_5',\n",
       "       'genre_1', 'artist_1_y', 'genre_2', 'artist_2_y', 'genre_3',\n",
       "       'artist_3_y', 'genre_4', 'artist_4_y', 'genre_5', 'artist_5_y'],\n",
       "      dtype='object')"
      ]
     },
     "execution_count": 42,
     "metadata": {},
     "output_type": "execute_result"
    }
   ],
   "source": [
    "# Remind me what the available columns are\n",
    "df_tracks_with_genres.columns"
   ]
  },
  {
   "cell_type": "markdown",
   "metadata": {},
   "source": [
    "Below I'm creating the input data, removing things like the track name and ID. I'm also removing the year for now, which I will come back to. Then I'll break this into test and training datasets:"
   ]
  },
  {
   "cell_type": "code",
   "execution_count": 43,
   "metadata": {},
   "outputs": [
    {
     "data": {
      "text/plain": [
       "0.4524871865229938"
      ]
     },
     "execution_count": 43,
     "metadata": {},
     "output_type": "execute_result"
    }
   ],
   "source": [
    "X = df_tracks_with_genres[['valence', 'acousticness', 'danceability',\n",
    "                           'duration_ms', 'energy', 'explicit',\n",
    "                           'instrumentalness', 'key',\n",
    "                           'liveness', 'loudness',\n",
    "                           'mode', 'speechiness', 'tempo']]\n",
    "y = df_tracks_with_genres[['popularity']]\n",
    "X_train, X_test, y_train, y_test = train_test_split(\n",
    "    X, y, test_size=0.33, random_state=42)\n",
    "reg_without_year = LinearRegression()\n",
    "reg_without_year.fit(X_train, y_train)\n",
    "y_pred = reg_without_year.predict(X_test)\n",
    "sc.metrics.r2_score(y_test, y_pred)"
   ]
  },
  {
   "cell_type": "markdown",
   "metadata": {},
   "source": [
    "We get an r_squared of 0.45, meaning that 45% of the popularity metric's variability can be explained by the list of audio features we've selected for our linear model. This is \"not bad\" for an extremely human metric like track popularity."
   ]
  },
  {
   "cell_type": "markdown",
   "metadata": {},
   "source": [
    "We also want to build a model which takes the track release year into account. We expect a very high coefficient, as the correlation between year and popularity was actually among the strongest, with a coefficient of 0.86. We'll add the year by creating dummy columns for all available years:"
   ]
  },
  {
   "cell_type": "code",
   "execution_count": 44,
   "metadata": {},
   "outputs": [],
   "source": [
    "df_dummy_years = pd.get_dummies(\n",
    "    df_tracks_with_genres['year'],\n",
    "    drop_first=True, prefix='year',\n",
    "    prefix_sep='_')"
   ]
  },
  {
   "cell_type": "code",
   "execution_count": 45,
   "metadata": {},
   "outputs": [
    {
     "data": {
      "text/plain": [
       "(170653, 99)"
      ]
     },
     "execution_count": 45,
     "metadata": {},
     "output_type": "execute_result"
    }
   ],
   "source": [
    "df_dummy_years.shape"
   ]
  },
  {
   "cell_type": "code",
   "execution_count": 46,
   "metadata": {},
   "outputs": [
    {
     "data": {
      "text/html": [
       "<div>\n",
       "<style scoped>\n",
       "    .dataframe tbody tr th:only-of-type {\n",
       "        vertical-align: middle;\n",
       "    }\n",
       "\n",
       "    .dataframe tbody tr th {\n",
       "        vertical-align: top;\n",
       "    }\n",
       "\n",
       "    .dataframe thead th {\n",
       "        text-align: right;\n",
       "    }\n",
       "</style>\n",
       "<table border=\"1\" class=\"dataframe\">\n",
       "  <thead>\n",
       "    <tr style=\"text-align: right;\">\n",
       "      <th></th>\n",
       "      <th>valence</th>\n",
       "      <th>year</th>\n",
       "      <th>acousticness</th>\n",
       "      <th>danceability</th>\n",
       "      <th>duration_ms</th>\n",
       "      <th>energy</th>\n",
       "      <th>explicit</th>\n",
       "      <th>id</th>\n",
       "      <th>instrumentalness</th>\n",
       "      <th>key</th>\n",
       "      <th>...</th>\n",
       "      <th>year_2011</th>\n",
       "      <th>year_2012</th>\n",
       "      <th>year_2013</th>\n",
       "      <th>year_2014</th>\n",
       "      <th>year_2015</th>\n",
       "      <th>year_2016</th>\n",
       "      <th>year_2017</th>\n",
       "      <th>year_2018</th>\n",
       "      <th>year_2019</th>\n",
       "      <th>year_2020</th>\n",
       "    </tr>\n",
       "  </thead>\n",
       "  <tbody>\n",
       "    <tr>\n",
       "      <th>0</th>\n",
       "      <td>0.0594</td>\n",
       "      <td>1921</td>\n",
       "      <td>0.982</td>\n",
       "      <td>0.279</td>\n",
       "      <td>831667</td>\n",
       "      <td>0.211</td>\n",
       "      <td>0</td>\n",
       "      <td>4BJqT0PrAfrxzMOxytFOIz</td>\n",
       "      <td>0.878000</td>\n",
       "      <td>10</td>\n",
       "      <td>...</td>\n",
       "      <td>0</td>\n",
       "      <td>0</td>\n",
       "      <td>0</td>\n",
       "      <td>0</td>\n",
       "      <td>0</td>\n",
       "      <td>0</td>\n",
       "      <td>0</td>\n",
       "      <td>0</td>\n",
       "      <td>0</td>\n",
       "      <td>0</td>\n",
       "    </tr>\n",
       "    <tr>\n",
       "      <th>1</th>\n",
       "      <td>0.9630</td>\n",
       "      <td>1921</td>\n",
       "      <td>0.732</td>\n",
       "      <td>0.819</td>\n",
       "      <td>180533</td>\n",
       "      <td>0.341</td>\n",
       "      <td>0</td>\n",
       "      <td>7xPhfUan2yNtyFG0cUWkt8</td>\n",
       "      <td>0.000000</td>\n",
       "      <td>7</td>\n",
       "      <td>...</td>\n",
       "      <td>0</td>\n",
       "      <td>0</td>\n",
       "      <td>0</td>\n",
       "      <td>0</td>\n",
       "      <td>0</td>\n",
       "      <td>0</td>\n",
       "      <td>0</td>\n",
       "      <td>0</td>\n",
       "      <td>0</td>\n",
       "      <td>0</td>\n",
       "    </tr>\n",
       "    <tr>\n",
       "      <th>2</th>\n",
       "      <td>0.0394</td>\n",
       "      <td>1921</td>\n",
       "      <td>0.961</td>\n",
       "      <td>0.328</td>\n",
       "      <td>500062</td>\n",
       "      <td>0.166</td>\n",
       "      <td>0</td>\n",
       "      <td>1o6I8BglA6ylDMrIELygv1</td>\n",
       "      <td>0.913000</td>\n",
       "      <td>3</td>\n",
       "      <td>...</td>\n",
       "      <td>0</td>\n",
       "      <td>0</td>\n",
       "      <td>0</td>\n",
       "      <td>0</td>\n",
       "      <td>0</td>\n",
       "      <td>0</td>\n",
       "      <td>0</td>\n",
       "      <td>0</td>\n",
       "      <td>0</td>\n",
       "      <td>0</td>\n",
       "    </tr>\n",
       "    <tr>\n",
       "      <th>3</th>\n",
       "      <td>0.1650</td>\n",
       "      <td>1921</td>\n",
       "      <td>0.967</td>\n",
       "      <td>0.275</td>\n",
       "      <td>210000</td>\n",
       "      <td>0.309</td>\n",
       "      <td>0</td>\n",
       "      <td>3ftBPsC5vPBKxYSee08FDH</td>\n",
       "      <td>0.000028</td>\n",
       "      <td>5</td>\n",
       "      <td>...</td>\n",
       "      <td>0</td>\n",
       "      <td>0</td>\n",
       "      <td>0</td>\n",
       "      <td>0</td>\n",
       "      <td>0</td>\n",
       "      <td>0</td>\n",
       "      <td>0</td>\n",
       "      <td>0</td>\n",
       "      <td>0</td>\n",
       "      <td>0</td>\n",
       "    </tr>\n",
       "    <tr>\n",
       "      <th>4</th>\n",
       "      <td>0.2530</td>\n",
       "      <td>1921</td>\n",
       "      <td>0.957</td>\n",
       "      <td>0.418</td>\n",
       "      <td>166693</td>\n",
       "      <td>0.193</td>\n",
       "      <td>0</td>\n",
       "      <td>4d6HGyGT8e121BsdKmw9v6</td>\n",
       "      <td>0.000002</td>\n",
       "      <td>3</td>\n",
       "      <td>...</td>\n",
       "      <td>0</td>\n",
       "      <td>0</td>\n",
       "      <td>0</td>\n",
       "      <td>0</td>\n",
       "      <td>0</td>\n",
       "      <td>0</td>\n",
       "      <td>0</td>\n",
       "      <td>0</td>\n",
       "      <td>0</td>\n",
       "      <td>0</td>\n",
       "    </tr>\n",
       "  </tbody>\n",
       "</table>\n",
       "<p>5 rows × 132 columns</p>\n",
       "</div>"
      ],
      "text/plain": [
       "   valence  year  acousticness  danceability  duration_ms  energy  explicit  \\\n",
       "0   0.0594  1921         0.982         0.279       831667   0.211         0   \n",
       "1   0.9630  1921         0.732         0.819       180533   0.341         0   \n",
       "2   0.0394  1921         0.961         0.328       500062   0.166         0   \n",
       "3   0.1650  1921         0.967         0.275       210000   0.309         0   \n",
       "4   0.2530  1921         0.957         0.418       166693   0.193         0   \n",
       "\n",
       "                       id  instrumentalness  key  ...  year_2011  year_2012  \\\n",
       "0  4BJqT0PrAfrxzMOxytFOIz          0.878000   10  ...          0          0   \n",
       "1  7xPhfUan2yNtyFG0cUWkt8          0.000000    7  ...          0          0   \n",
       "2  1o6I8BglA6ylDMrIELygv1          0.913000    3  ...          0          0   \n",
       "3  3ftBPsC5vPBKxYSee08FDH          0.000028    5  ...          0          0   \n",
       "4  4d6HGyGT8e121BsdKmw9v6          0.000002    3  ...          0          0   \n",
       "\n",
       "   year_2013 year_2014  year_2015 year_2016  year_2017  year_2018 year_2019  \\\n",
       "0          0         0          0         0          0          0         0   \n",
       "1          0         0          0         0          0          0         0   \n",
       "2          0         0          0         0          0          0         0   \n",
       "3          0         0          0         0          0          0         0   \n",
       "4          0         0          0         0          0          0         0   \n",
       "\n",
       "  year_2020  \n",
       "0         0  \n",
       "1         0  \n",
       "2         0  \n",
       "3         0  \n",
       "4         0  \n",
       "\n",
       "[5 rows x 132 columns]"
      ]
     },
     "execution_count": 46,
     "metadata": {},
     "output_type": "execute_result"
    }
   ],
   "source": [
    "df_with_dummies = pd.concat([df_tracks_with_genres, df_dummy_years], axis=1)\n",
    "df_with_dummies.head(n=5)"
   ]
  },
  {
   "cell_type": "code",
   "execution_count": 47,
   "metadata": {},
   "outputs": [
    {
     "data": {
      "text/plain": [
       "(170653, 132)"
      ]
     },
     "execution_count": 47,
     "metadata": {},
     "output_type": "execute_result"
    }
   ],
   "source": [
    "df_with_dummies.shape"
   ]
  },
  {
   "cell_type": "code",
   "execution_count": 48,
   "metadata": {},
   "outputs": [
    {
     "data": {
      "text/html": [
       "<div>\n",
       "<style scoped>\n",
       "    .dataframe tbody tr th:only-of-type {\n",
       "        vertical-align: middle;\n",
       "    }\n",
       "\n",
       "    .dataframe tbody tr th {\n",
       "        vertical-align: top;\n",
       "    }\n",
       "\n",
       "    .dataframe thead th {\n",
       "        text-align: right;\n",
       "    }\n",
       "</style>\n",
       "<table border=\"1\" class=\"dataframe\">\n",
       "  <thead>\n",
       "    <tr style=\"text-align: right;\">\n",
       "      <th></th>\n",
       "      <th>valence</th>\n",
       "      <th>year</th>\n",
       "      <th>acousticness</th>\n",
       "      <th>danceability</th>\n",
       "      <th>duration_ms</th>\n",
       "      <th>energy</th>\n",
       "      <th>explicit</th>\n",
       "      <th>id</th>\n",
       "      <th>instrumentalness</th>\n",
       "      <th>key</th>\n",
       "      <th>...</th>\n",
       "      <th>year_2011</th>\n",
       "      <th>year_2012</th>\n",
       "      <th>year_2013</th>\n",
       "      <th>year_2014</th>\n",
       "      <th>year_2015</th>\n",
       "      <th>year_2016</th>\n",
       "      <th>year_2017</th>\n",
       "      <th>year_2018</th>\n",
       "      <th>year_2019</th>\n",
       "      <th>year_2020</th>\n",
       "    </tr>\n",
       "  </thead>\n",
       "  <tbody>\n",
       "    <tr>\n",
       "      <th>0</th>\n",
       "      <td>0.0594</td>\n",
       "      <td>1921</td>\n",
       "      <td>0.982</td>\n",
       "      <td>0.279</td>\n",
       "      <td>831667</td>\n",
       "      <td>0.211</td>\n",
       "      <td>0</td>\n",
       "      <td>4BJqT0PrAfrxzMOxytFOIz</td>\n",
       "      <td>0.878000</td>\n",
       "      <td>10</td>\n",
       "      <td>...</td>\n",
       "      <td>0</td>\n",
       "      <td>0</td>\n",
       "      <td>0</td>\n",
       "      <td>0</td>\n",
       "      <td>0</td>\n",
       "      <td>0</td>\n",
       "      <td>0</td>\n",
       "      <td>0</td>\n",
       "      <td>0</td>\n",
       "      <td>0</td>\n",
       "    </tr>\n",
       "    <tr>\n",
       "      <th>1</th>\n",
       "      <td>0.9630</td>\n",
       "      <td>1921</td>\n",
       "      <td>0.732</td>\n",
       "      <td>0.819</td>\n",
       "      <td>180533</td>\n",
       "      <td>0.341</td>\n",
       "      <td>0</td>\n",
       "      <td>7xPhfUan2yNtyFG0cUWkt8</td>\n",
       "      <td>0.000000</td>\n",
       "      <td>7</td>\n",
       "      <td>...</td>\n",
       "      <td>0</td>\n",
       "      <td>0</td>\n",
       "      <td>0</td>\n",
       "      <td>0</td>\n",
       "      <td>0</td>\n",
       "      <td>0</td>\n",
       "      <td>0</td>\n",
       "      <td>0</td>\n",
       "      <td>0</td>\n",
       "      <td>0</td>\n",
       "    </tr>\n",
       "    <tr>\n",
       "      <th>2</th>\n",
       "      <td>0.0394</td>\n",
       "      <td>1921</td>\n",
       "      <td>0.961</td>\n",
       "      <td>0.328</td>\n",
       "      <td>500062</td>\n",
       "      <td>0.166</td>\n",
       "      <td>0</td>\n",
       "      <td>1o6I8BglA6ylDMrIELygv1</td>\n",
       "      <td>0.913000</td>\n",
       "      <td>3</td>\n",
       "      <td>...</td>\n",
       "      <td>0</td>\n",
       "      <td>0</td>\n",
       "      <td>0</td>\n",
       "      <td>0</td>\n",
       "      <td>0</td>\n",
       "      <td>0</td>\n",
       "      <td>0</td>\n",
       "      <td>0</td>\n",
       "      <td>0</td>\n",
       "      <td>0</td>\n",
       "    </tr>\n",
       "    <tr>\n",
       "      <th>3</th>\n",
       "      <td>0.1650</td>\n",
       "      <td>1921</td>\n",
       "      <td>0.967</td>\n",
       "      <td>0.275</td>\n",
       "      <td>210000</td>\n",
       "      <td>0.309</td>\n",
       "      <td>0</td>\n",
       "      <td>3ftBPsC5vPBKxYSee08FDH</td>\n",
       "      <td>0.000028</td>\n",
       "      <td>5</td>\n",
       "      <td>...</td>\n",
       "      <td>0</td>\n",
       "      <td>0</td>\n",
       "      <td>0</td>\n",
       "      <td>0</td>\n",
       "      <td>0</td>\n",
       "      <td>0</td>\n",
       "      <td>0</td>\n",
       "      <td>0</td>\n",
       "      <td>0</td>\n",
       "      <td>0</td>\n",
       "    </tr>\n",
       "    <tr>\n",
       "      <th>4</th>\n",
       "      <td>0.2530</td>\n",
       "      <td>1921</td>\n",
       "      <td>0.957</td>\n",
       "      <td>0.418</td>\n",
       "      <td>166693</td>\n",
       "      <td>0.193</td>\n",
       "      <td>0</td>\n",
       "      <td>4d6HGyGT8e121BsdKmw9v6</td>\n",
       "      <td>0.000002</td>\n",
       "      <td>3</td>\n",
       "      <td>...</td>\n",
       "      <td>0</td>\n",
       "      <td>0</td>\n",
       "      <td>0</td>\n",
       "      <td>0</td>\n",
       "      <td>0</td>\n",
       "      <td>0</td>\n",
       "      <td>0</td>\n",
       "      <td>0</td>\n",
       "      <td>0</td>\n",
       "      <td>0</td>\n",
       "    </tr>\n",
       "  </tbody>\n",
       "</table>\n",
       "<p>5 rows × 132 columns</p>\n",
       "</div>"
      ],
      "text/plain": [
       "   valence  year  acousticness  danceability  duration_ms  energy  explicit  \\\n",
       "0   0.0594  1921         0.982         0.279       831667   0.211         0   \n",
       "1   0.9630  1921         0.732         0.819       180533   0.341         0   \n",
       "2   0.0394  1921         0.961         0.328       500062   0.166         0   \n",
       "3   0.1650  1921         0.967         0.275       210000   0.309         0   \n",
       "4   0.2530  1921         0.957         0.418       166693   0.193         0   \n",
       "\n",
       "                       id  instrumentalness  key  ...  year_2011  year_2012  \\\n",
       "0  4BJqT0PrAfrxzMOxytFOIz          0.878000   10  ...          0          0   \n",
       "1  7xPhfUan2yNtyFG0cUWkt8          0.000000    7  ...          0          0   \n",
       "2  1o6I8BglA6ylDMrIELygv1          0.913000    3  ...          0          0   \n",
       "3  3ftBPsC5vPBKxYSee08FDH          0.000028    5  ...          0          0   \n",
       "4  4d6HGyGT8e121BsdKmw9v6          0.000002    3  ...          0          0   \n",
       "\n",
       "   year_2013 year_2014  year_2015 year_2016  year_2017  year_2018 year_2019  \\\n",
       "0          0         0          0         0          0          0         0   \n",
       "1          0         0          0         0          0          0         0   \n",
       "2          0         0          0         0          0          0         0   \n",
       "3          0         0          0         0          0          0         0   \n",
       "4          0         0          0         0          0          0         0   \n",
       "\n",
       "  year_2020  \n",
       "0         0  \n",
       "1         0  \n",
       "2         0  \n",
       "3         0  \n",
       "4         0  \n",
       "\n",
       "[5 rows x 132 columns]"
      ]
     },
     "execution_count": 48,
     "metadata": {},
     "output_type": "execute_result"
    }
   ],
   "source": [
    "df_with_dummies.head()"
   ]
  },
  {
   "cell_type": "markdown",
   "metadata": {},
   "source": [
    "We have a lot of redundant columns left over from our merge to get the track genre. Let's run through the DataFrame and delete those:"
   ]
  },
  {
   "cell_type": "code",
   "execution_count": 49,
   "metadata": {},
   "outputs": [],
   "source": [
    "for i in range(5):\n",
    "    column_name = 'artist_' + str(i + 1)\n",
    "    column_name_2 = 'artist_' + str(i + 1) + '_y'\n",
    "    column_name_3 = 'genre_' + str(i + 1)\n",
    "    df_with_dummies = df_with_dummies.drop(\n",
    "        [column_name, column_name_2, column_name_3], axis=1)"
   ]
  },
  {
   "cell_type": "code",
   "execution_count": 50,
   "metadata": {},
   "outputs": [
    {
     "data": {
      "text/plain": [
       "0.7898819162651358"
      ]
     },
     "execution_count": 50,
     "metadata": {},
     "output_type": "execute_result"
    }
   ],
   "source": [
    "X_with_year = df_with_dummies.drop(\n",
    "    ['name', 'year', 'id', 'name', 'release_date', 'popularity'], axis=1)\n",
    "y_with_year = df_with_dummies[['popularity']]\n",
    "X_train_year, X_test_year, y_train_year, y_test_year = train_test_split(\n",
    "    X_with_year, y_with_year, test_size=0.33, random_state=42)\n",
    "reg_with_year = LinearRegression()\n",
    "reg_with_year.fit(X_train_year, y_train_year)\n",
    "y_pred_year = reg_with_year.predict(X_test_year)\n",
    "sc.metrics.r2_score(y_test_year, y_pred_year)"
   ]
  },
  {
   "cell_type": "markdown",
   "metadata": {},
   "source": [
    "We see here that we have a much higher r squared when we add the year the track was released into the model"
   ]
  },
  {
   "cell_type": "markdown",
   "metadata": {},
   "source": [
    "## Evaluating the results\n",
    "\n",
    "With our two models complete and working as expected, we can start interpreting our results, starting by looking at the coefficients used in each model to get an idea of how impactful each \"audio feature\" is on the track popularity:"
   ]
  },
  {
   "cell_type": "code",
   "execution_count": 51,
   "metadata": {},
   "outputs": [
    {
     "data": {
      "text/html": [
       "<div>\n",
       "<style scoped>\n",
       "    .dataframe tbody tr th:only-of-type {\n",
       "        vertical-align: middle;\n",
       "    }\n",
       "\n",
       "    .dataframe tbody tr th {\n",
       "        vertical-align: top;\n",
       "    }\n",
       "\n",
       "    .dataframe thead th {\n",
       "        text-align: right;\n",
       "    }\n",
       "</style>\n",
       "<table border=\"1\" class=\"dataframe\">\n",
       "  <thead>\n",
       "    <tr style=\"text-align: right;\">\n",
       "      <th></th>\n",
       "      <th>est_int</th>\n",
       "      <th>coefs</th>\n",
       "      <th>abs_coefs</th>\n",
       "    </tr>\n",
       "  </thead>\n",
       "  <tbody>\n",
       "    <tr>\n",
       "      <th>11</th>\n",
       "      <td>speechiness</td>\n",
       "      <td>-3.421594e+01</td>\n",
       "      <td>3.421594e+01</td>\n",
       "    </tr>\n",
       "    <tr>\n",
       "      <th>2</th>\n",
       "      <td>danceability</td>\n",
       "      <td>2.188359e+01</td>\n",
       "      <td>2.188359e+01</td>\n",
       "    </tr>\n",
       "    <tr>\n",
       "      <th>1</th>\n",
       "      <td>acousticness</td>\n",
       "      <td>-2.145597e+01</td>\n",
       "      <td>2.145597e+01</td>\n",
       "    </tr>\n",
       "    <tr>\n",
       "      <th>0</th>\n",
       "      <td>valence</td>\n",
       "      <td>-1.948614e+01</td>\n",
       "      <td>1.948614e+01</td>\n",
       "    </tr>\n",
       "    <tr>\n",
       "      <th>4</th>\n",
       "      <td>energy</td>\n",
       "      <td>1.086990e+01</td>\n",
       "      <td>1.086990e+01</td>\n",
       "    </tr>\n",
       "    <tr>\n",
       "      <th>5</th>\n",
       "      <td>explicit</td>\n",
       "      <td>9.224895e+00</td>\n",
       "      <td>9.224895e+00</td>\n",
       "    </tr>\n",
       "    <tr>\n",
       "      <th>6</th>\n",
       "      <td>instrumentalness</td>\n",
       "      <td>-8.673283e+00</td>\n",
       "      <td>8.673283e+00</td>\n",
       "    </tr>\n",
       "    <tr>\n",
       "      <th>8</th>\n",
       "      <td>liveness</td>\n",
       "      <td>-7.880551e+00</td>\n",
       "      <td>7.880551e+00</td>\n",
       "    </tr>\n",
       "    <tr>\n",
       "      <th>9</th>\n",
       "      <td>loudness</td>\n",
       "      <td>2.396114e-01</td>\n",
       "      <td>2.396114e-01</td>\n",
       "    </tr>\n",
       "    <tr>\n",
       "      <th>10</th>\n",
       "      <td>mode</td>\n",
       "      <td>-1.000482e-01</td>\n",
       "      <td>1.000482e-01</td>\n",
       "    </tr>\n",
       "    <tr>\n",
       "      <th>12</th>\n",
       "      <td>tempo</td>\n",
       "      <td>2.379242e-02</td>\n",
       "      <td>2.379242e-02</td>\n",
       "    </tr>\n",
       "    <tr>\n",
       "      <th>7</th>\n",
       "      <td>key</td>\n",
       "      <td>-6.302141e-03</td>\n",
       "      <td>6.302141e-03</td>\n",
       "    </tr>\n",
       "    <tr>\n",
       "      <th>3</th>\n",
       "      <td>duration_ms</td>\n",
       "      <td>7.678611e-07</td>\n",
       "      <td>7.678611e-07</td>\n",
       "    </tr>\n",
       "  </tbody>\n",
       "</table>\n",
       "</div>"
      ],
      "text/plain": [
       "             est_int         coefs     abs_coefs\n",
       "11       speechiness -3.421594e+01  3.421594e+01\n",
       "2       danceability  2.188359e+01  2.188359e+01\n",
       "1       acousticness -2.145597e+01  2.145597e+01\n",
       "0            valence -1.948614e+01  1.948614e+01\n",
       "4             energy  1.086990e+01  1.086990e+01\n",
       "5           explicit  9.224895e+00  9.224895e+00\n",
       "6   instrumentalness -8.673283e+00  8.673283e+00\n",
       "8           liveness -7.880551e+00  7.880551e+00\n",
       "9           loudness  2.396114e-01  2.396114e-01\n",
       "10              mode -1.000482e-01  1.000482e-01\n",
       "12             tempo  2.379242e-02  2.379242e-02\n",
       "7                key -6.302141e-03  6.302141e-03\n",
       "3        duration_ms  7.678611e-07  7.678611e-07"
      ]
     },
     "execution_count": 51,
     "metadata": {},
     "output_type": "execute_result"
    }
   ],
   "source": [
    "# The below function is taken from the\n",
    "# Udacity Introduction to Data Science course\n",
    "\n",
    "def coef_weights(reg, coefficients, X_train):\n",
    "    '''\n",
    "    INPUT:\n",
    "    reg - a linear regression model\n",
    "    coefficients - the coefficients of the linear model\n",
    "    X_train - the training data, so the column names can be used\n",
    "    OUTPUT:\n",
    "    coefs_df - a dataframe holding the coefficient, estimate, and abs(estimate)\n",
    "\n",
    "    Provides a dataframe that can be used\n",
    "    to understand the most influential coefficients\n",
    "    in a linear model by providing the coefficient estimates\n",
    "    along with the name of the\n",
    "    variable attached to the coefficient.\n",
    "    '''\n",
    "    coefs_df = pd.DataFrame()\n",
    "    coefs_df['est_int'] = X_train.columns\n",
    "    coefs_df['coefs'] = reg.coef_[0]\n",
    "    coefs_df['abs_coefs'] = np.abs(reg.coef_[0])\n",
    "    coefs_df = coefs_df.sort_values('abs_coefs', ascending=False)\n",
    "    return coefs_df\n",
    "\n",
    "\n",
    "coeff_check = coef_weights(reg_without_year, reg_without_year.coef_, X_train)\n",
    "coeff_check"
   ]
  },
  {
   "cell_type": "markdown",
   "metadata": {},
   "source": [
    "Again, our linear regression model using all available Spotify audio features *except the track year* as inputs confirms the following: we have a strong negative correlation with \"speechiness\", \"acousticness\" and \"valence\", and a strong positive correlation with \"danceability\", \"acousticness\" and \"energy\". \n",
    "Additionally, whether or not a track is marked as \"explicit\" also appears to be correlated to its popularity.\n",
    "Our linear model has an r_squared of 0.45 - ie 45% of the variability of the \"popularity\" variable can be explained and predicted through a combination of the Spotify metrics."
   ]
  },
  {
   "cell_type": "markdown",
   "metadata": {},
   "source": [
    "Let's look at the coefficients for our linear model which included the track release year, to see how things change when we add that high influence data point into the mix:"
   ]
  },
  {
   "cell_type": "code",
   "execution_count": 52,
   "metadata": {},
   "outputs": [
    {
     "data": {
      "text/html": [
       "<div>\n",
       "<style scoped>\n",
       "    .dataframe tbody tr th:only-of-type {\n",
       "        vertical-align: middle;\n",
       "    }\n",
       "\n",
       "    .dataframe tbody tr th {\n",
       "        vertical-align: top;\n",
       "    }\n",
       "\n",
       "    .dataframe thead th {\n",
       "        text-align: right;\n",
       "    }\n",
       "</style>\n",
       "<table border=\"1\" class=\"dataframe\">\n",
       "  <thead>\n",
       "    <tr style=\"text-align: right;\">\n",
       "      <th></th>\n",
       "      <th>est_int</th>\n",
       "      <th>coefs</th>\n",
       "      <th>abs_coefs</th>\n",
       "    </tr>\n",
       "  </thead>\n",
       "  <tbody>\n",
       "    <tr>\n",
       "      <th>110</th>\n",
       "      <td>year_2019</td>\n",
       "      <td>6.286182e+01</td>\n",
       "      <td>6.286182e+01</td>\n",
       "    </tr>\n",
       "    <tr>\n",
       "      <th>111</th>\n",
       "      <td>year_2020</td>\n",
       "      <td>6.088081e+01</td>\n",
       "      <td>6.088081e+01</td>\n",
       "    </tr>\n",
       "    <tr>\n",
       "      <th>108</th>\n",
       "      <td>year_2017</td>\n",
       "      <td>6.066970e+01</td>\n",
       "      <td>6.066970e+01</td>\n",
       "    </tr>\n",
       "    <tr>\n",
       "      <th>109</th>\n",
       "      <td>year_2018</td>\n",
       "      <td>6.035531e+01</td>\n",
       "      <td>6.035531e+01</td>\n",
       "    </tr>\n",
       "    <tr>\n",
       "      <th>107</th>\n",
       "      <td>year_2016</td>\n",
       "      <td>5.690386e+01</td>\n",
       "      <td>5.690386e+01</td>\n",
       "    </tr>\n",
       "    <tr>\n",
       "      <th>106</th>\n",
       "      <td>year_2015</td>\n",
       "      <td>5.392875e+01</td>\n",
       "      <td>5.392875e+01</td>\n",
       "    </tr>\n",
       "    <tr>\n",
       "      <th>105</th>\n",
       "      <td>year_2014</td>\n",
       "      <td>5.267172e+01</td>\n",
       "      <td>5.267172e+01</td>\n",
       "    </tr>\n",
       "    <tr>\n",
       "      <th>104</th>\n",
       "      <td>year_2013</td>\n",
       "      <td>5.156279e+01</td>\n",
       "      <td>5.156279e+01</td>\n",
       "    </tr>\n",
       "    <tr>\n",
       "      <th>102</th>\n",
       "      <td>year_2011</td>\n",
       "      <td>5.083568e+01</td>\n",
       "      <td>5.083568e+01</td>\n",
       "    </tr>\n",
       "    <tr>\n",
       "      <th>101</th>\n",
       "      <td>year_2010</td>\n",
       "      <td>5.039044e+01</td>\n",
       "      <td>5.039044e+01</td>\n",
       "    </tr>\n",
       "    <tr>\n",
       "      <th>...</th>\n",
       "      <td>...</td>\n",
       "      <td>...</td>\n",
       "      <td>...</td>\n",
       "    </tr>\n",
       "    <tr>\n",
       "      <th>21</th>\n",
       "      <td>year_1930</td>\n",
       "      <td>3.261721e-01</td>\n",
       "      <td>3.261721e-01</td>\n",
       "    </tr>\n",
       "    <tr>\n",
       "      <th>22</th>\n",
       "      <td>year_1931</td>\n",
       "      <td>3.014568e-01</td>\n",
       "      <td>3.014568e-01</td>\n",
       "    </tr>\n",
       "    <tr>\n",
       "      <th>25</th>\n",
       "      <td>year_1934</td>\n",
       "      <td>2.212883e-01</td>\n",
       "      <td>2.212883e-01</td>\n",
       "    </tr>\n",
       "    <tr>\n",
       "      <th>20</th>\n",
       "      <td>year_1929</td>\n",
       "      <td>2.122619e-01</td>\n",
       "      <td>2.122619e-01</td>\n",
       "    </tr>\n",
       "    <tr>\n",
       "      <th>18</th>\n",
       "      <td>year_1927</td>\n",
       "      <td>-1.123085e-01</td>\n",
       "      <td>1.123085e-01</td>\n",
       "    </tr>\n",
       "    <tr>\n",
       "      <th>9</th>\n",
       "      <td>loudness</td>\n",
       "      <td>1.069873e-01</td>\n",
       "      <td>1.069873e-01</td>\n",
       "    </tr>\n",
       "    <tr>\n",
       "      <th>0</th>\n",
       "      <td>valence</td>\n",
       "      <td>2.581188e-02</td>\n",
       "      <td>2.581188e-02</td>\n",
       "    </tr>\n",
       "    <tr>\n",
       "      <th>7</th>\n",
       "      <td>key</td>\n",
       "      <td>-2.544555e-03</td>\n",
       "      <td>2.544555e-03</td>\n",
       "    </tr>\n",
       "    <tr>\n",
       "      <th>12</th>\n",
       "      <td>tempo</td>\n",
       "      <td>-1.277176e-03</td>\n",
       "      <td>1.277176e-03</td>\n",
       "    </tr>\n",
       "    <tr>\n",
       "      <th>3</th>\n",
       "      <td>duration_ms</td>\n",
       "      <td>-4.944073e-07</td>\n",
       "      <td>4.944073e-07</td>\n",
       "    </tr>\n",
       "  </tbody>\n",
       "</table>\n",
       "<p>112 rows × 3 columns</p>\n",
       "</div>"
      ],
      "text/plain": [
       "         est_int         coefs     abs_coefs\n",
       "110    year_2019  6.286182e+01  6.286182e+01\n",
       "111    year_2020  6.088081e+01  6.088081e+01\n",
       "108    year_2017  6.066970e+01  6.066970e+01\n",
       "109    year_2018  6.035531e+01  6.035531e+01\n",
       "107    year_2016  5.690386e+01  5.690386e+01\n",
       "..           ...           ...           ...\n",
       "9       loudness  1.069873e-01  1.069873e-01\n",
       "0        valence  2.581188e-02  2.581188e-02\n",
       "7            key -2.544555e-03  2.544555e-03\n",
       "12         tempo -1.277176e-03  1.277176e-03\n",
       "3    duration_ms -4.944073e-07  4.944073e-07\n",
       "\n",
       "[112 rows x 3 columns]"
      ]
     },
     "execution_count": 52,
     "metadata": {},
     "output_type": "execute_result"
    }
   ],
   "source": [
    "coeff_check = coef_weights(reg_with_year, reg_with_year.coef_, X_train_year)\n",
    "coeff_check"
   ]
  },
  {
   "cell_type": "markdown",
   "metadata": {},
   "source": [
    "We see that the more recently a track was released, the higher its popularity - this is not surprising considering how the popularity score is calculated: \"The popularity of a track is a value between 0 and 100, with 100 being the most popular. The popularity is calculated by algorithm and is based, in the most part, on the total number of plays the track has had and how recent those plays are.\""
   ]
  },
  {
   "cell_type": "markdown",
   "metadata": {},
   "source": [
    "Another question we might ask is, how do the different correlations evolve based on the track release year?\n",
    "Let's look at the most heavily correlated inputs: acousticness,danceability,energy,explicit,loudness"
   ]
  },
  {
   "cell_type": "code",
   "execution_count": 53,
   "metadata": {},
   "outputs": [
    {
     "data": {
      "text/plain": [
       "<matplotlib.axes._subplots.AxesSubplot at 0x1b5c4578160>"
      ]
     },
     "execution_count": 53,
     "metadata": {},
     "output_type": "execute_result"
    },
    {
     "data": {
      "image/png": "[encoded data removed]",
      "text/plain": [
       "<Figure size 432x288 with 2 Axes>"
      ]
     },
     "metadata": {
      "needs_background": "light"
     },
     "output_type": "display_data"
    }
   ],
   "source": [
    "sns.heatmap(df_tracks_with_genres.corr())"
   ]
  },
  {
   "cell_type": "code",
   "execution_count": 106,
   "metadata": {},
   "outputs": [],
   "source": [
    "# explicitness:\n",
    "df_explicit = pd.DataFrame()\n",
    "for year in range(1921, 2021):\n",
    "    df_truncated = df_tracks_with_genres[df_tracks_with_genres['year'] == year]\n",
    "    df_correlation = df_truncated[['popularity', 'explicit']].corr()\n",
    "    df_explicit[year] = df_correlation['popularity']\n",
    "\n",
    "df_explicit = df_explicit.transpose()"
   ]
  },
  {
   "cell_type": "code",
   "execution_count": 107,
   "metadata": {},
   "outputs": [],
   "source": [
    "# acousticness:\n",
    "df_acoustic = pd.DataFrame()\n",
    "for year in range(1921, 2021):\n",
    "    df_truncated = df_tracks_with_genres[df_tracks_with_genres['year'] == year]\n",
    "    df_correlation = df_truncated[['popularity', 'acousticness']].corr()\n",
    "    df_acoustic[year] = df_correlation['popularity']\n",
    "\n",
    "df_acoustic = df_acoustic.transpose()"
   ]
  },
  {
   "cell_type": "code",
   "execution_count": 108,
   "metadata": {},
   "outputs": [],
   "source": [
    "# danceability:\n",
    "df_danceable = pd.DataFrame()\n",
    "for year in range(1921, 2021):\n",
    "    df_truncated = df_tracks_with_genres[df_tracks_with_genres['year'] == year]\n",
    "    df_correlation = df_truncated[['popularity', 'danceability']].corr()\n",
    "    df_danceable[year] = df_correlation['popularity']\n",
    "\n",
    "df_danceable = df_danceable.transpose()"
   ]
  },
  {
   "cell_type": "code",
   "execution_count": 109,
   "metadata": {},
   "outputs": [],
   "source": [
    "# energy:\n",
    "df_energy = pd.DataFrame()\n",
    "for year in range(1921, 2021):\n",
    "    df_truncated = df_tracks_with_genres[df_tracks_with_genres['year'] == year]\n",
    "    df_correlation = df_truncated[['popularity', 'energy']].corr()\n",
    "    df_energy[year] = df_correlation['popularity']\n",
    "\n",
    "df_energy = df_energy.transpose()"
   ]
  },
  {
   "cell_type": "code",
   "execution_count": 110,
   "metadata": {},
   "outputs": [],
   "source": [
    "# loudness:\n",
    "df_loudness = pd.DataFrame()\n",
    "for year in range(1921, 2021):\n",
    "    df_truncated = df_tracks_with_genres[df_tracks_with_genres['year'] == year]\n",
    "    df_correlation = df_truncated[['popularity', 'loudness']].corr()\n",
    "    df_loudness[year] = df_correlation['popularity']\n",
    "\n",
    "df_loudness = df_loudness.transpose()"
   ]
  },
  {
   "cell_type": "code",
   "execution_count": 59,
   "metadata": {},
   "outputs": [
    {
     "data": {
      "text/plain": [
       "[<matplotlib.lines.Line2D at 0x1b5c2a37630>]"
      ]
     },
     "execution_count": 59,
     "metadata": {},
     "output_type": "execute_result"
    },
    {
     "data": {
      "image/png": "[encoded data removed]",
      "text/plain": [
       "<Figure size 432x288 with 1 Axes>"
      ]
     },
     "metadata": {
      "needs_background": "light"
     },
     "output_type": "display_data"
    }
   ],
   "source": [
    "fig, ax = plt.subplots()\n",
    "ax.set_xlabel('release year')\n",
    "ax.set_ylabel('correlation with popularity score')\n",
    "ax.plot(df_explicit['explicit'])"
   ]
  },
  {
   "cell_type": "markdown",
   "metadata": {},
   "source": [
    "We have a lot of null values in the past for the \"explicit\" audio feature, which is unsurprising as I can't think of many 1940s equivalent of the Wu Tang clan. We also see that the correlation increases over time, reaching > 0.2 for tracks released in 2020."
   ]
  },
  {
   "cell_type": "code",
   "execution_count": 60,
   "metadata": {},
   "outputs": [
    {
     "data": {
      "text/plain": [
       "[<matplotlib.lines.Line2D at 0x1b5bf41d898>]"
      ]
     },
     "execution_count": 60,
     "metadata": {},
     "output_type": "execute_result"
    },
    {
     "data": {
      "image/png": "[encoded data removed]",
      "text/plain": [
       "<Figure size 432x288 with 1 Axes>"
      ]
     },
     "metadata": {
      "needs_background": "light"
     },
     "output_type": "display_data"
    }
   ],
   "source": [
    "fig, ax = plt.subplots()\n",
    "ax.set_xlabel('release year')\n",
    "ax.set_ylabel('correlation with popularity score')\n",
    "ax.plot(df_acoustic['acousticness'])"
   ]
  },
  {
   "cell_type": "markdown",
   "metadata": {},
   "source": [
    "Here we actually see a spike in the acousticness correlation coefficient between 2010 and 2020"
   ]
  },
  {
   "cell_type": "code",
   "execution_count": 61,
   "metadata": {},
   "outputs": [
    {
     "data": {
      "text/plain": [
       "[<matplotlib.lines.Line2D at 0x1b5bb854f98>]"
      ]
     },
     "execution_count": 61,
     "metadata": {},
     "output_type": "execute_result"
    },
    {
     "data": {
      "image/png": "[encoded data removed]",
      "text/plain": [
       "<Figure size 432x288 with 1 Axes>"
      ]
     },
     "metadata": {
      "needs_background": "light"
     },
     "output_type": "display_data"
    }
   ],
   "source": [
    "fig, ax = plt.subplots()\n",
    "ax.set_xlabel('release year')\n",
    "ax.set_ylabel('correlation with popularity score')\n",
    "ax.plot(df_loudness['loudness'])"
   ]
  },
  {
   "cell_type": "code",
   "execution_count": 62,
   "metadata": {},
   "outputs": [
    {
     "data": {
      "text/plain": [
       "[<matplotlib.lines.Line2D at 0x1b5c588b128>]"
      ]
     },
     "execution_count": 62,
     "metadata": {},
     "output_type": "execute_result"
    },
    {
     "data": {
      "image/png": "[encoded data removed]",
      "text/plain": [
       "<Figure size 432x288 with 1 Axes>"
      ]
     },
     "metadata": {
      "needs_background": "light"
     },
     "output_type": "display_data"
    }
   ],
   "source": [
    "fig, ax = plt.subplots()\n",
    "ax.set_xlabel('release year')\n",
    "ax.set_ylabel('correlation with popularity score')\n",
    "ax.plot(df_energy['energy'])"
   ]
  },
  {
   "cell_type": "code",
   "execution_count": 63,
   "metadata": {},
   "outputs": [
    {
     "data": {
      "text/plain": [
       "[<matplotlib.lines.Line2D at 0x1b5c53e26a0>]"
      ]
     },
     "execution_count": 63,
     "metadata": {},
     "output_type": "execute_result"
    },
    {
     "data": {
      "image/png": "[encoded data removed]",
      "text/plain": [
       "<Figure size 432x288 with 1 Axes>"
      ]
     },
     "metadata": {
      "needs_background": "light"
     },
     "output_type": "display_data"
    }
   ],
   "source": [
    "fig, ax = plt.subplots()\n",
    "ax.set_xlabel('release year')\n",
    "ax.set_ylabel('correlation with popularity score')\n",
    "ax.plot(df_danceable['danceability'])"
   ]
  },
  {
   "cell_type": "markdown",
   "metadata": {},
   "source": [
    "Now, let's create another linear regression model, but limiting the dataset to just tracks that are in the classical genre for their first artist (I'm ignoring other artists here for the sake of simplicity). We'll also ingore the release year, as this will let us focus on the impact of the audio features of the track. First, we need to create that dataset:"
   ]
  },
  {
   "cell_type": "code",
   "execution_count": 64,
   "metadata": {},
   "outputs": [
    {
     "name": "stderr",
     "output_type": "stream",
     "text": [
      "1:80: E501 line too long (103 > 79 characters)\n"
     ]
    }
   ],
   "source": [
    "df_classical_tracks = df_tracks_with_genres[df_tracks_with_genres['genre_1'].str.contains('classical')]"
   ]
  },
  {
   "cell_type": "code",
   "execution_count": 65,
   "metadata": {},
   "outputs": [
    {
     "data": {
      "text/plain": [
       "0.07497084727487943"
      ]
     },
     "execution_count": 65,
     "metadata": {},
     "output_type": "execute_result"
    }
   ],
   "source": [
    "df_classical_tracks.shape[0]/df_tracks_with_genres.shape[0]"
   ]
  },
  {
   "cell_type": "markdown",
   "metadata": {},
   "source": [
    "Based on the above cell, we see that tracks with \"classical\" in their first genre account for about 7% of the total."
   ]
  },
  {
   "cell_type": "code",
   "execution_count": 66,
   "metadata": {},
   "outputs": [
    {
     "data": {
      "text/plain": [
       "0.1650507509316229"
      ]
     },
     "execution_count": 66,
     "metadata": {},
     "output_type": "execute_result"
    }
   ],
   "source": [
    "X = df_classical_tracks[\n",
    "    ['valence', 'acousticness', 'danceability', 'duration_ms', 'energy',\n",
    "     'explicit', 'instrumentalness', 'key',\n",
    "     'liveness', 'loudness', 'mode', 'speechiness', 'tempo']]\n",
    "y = df_classical_tracks[['popularity']]\n",
    "X_train, X_test, y_train, y_test = train_test_split(\n",
    "    X, y, test_size=0.33, random_state=42)\n",
    "reg = LinearRegression()\n",
    "reg.fit(X_train, y_train)\n",
    "y_pred = reg.predict(X_test)\n",
    "sc.metrics.r2_score(y_test, y_pred)"
   ]
  },
  {
   "cell_type": "markdown",
   "metadata": {},
   "source": [
    "We have a much lower r-squared than what we measured when considering the dataset as a whole, likely due to the smaller amount of data we're considering. Let's look at the correlation coefficients:"
   ]
  },
  {
   "cell_type": "code",
   "execution_count": 69,
   "metadata": {},
   "outputs": [
    {
     "data": {
      "text/html": [
       "<div>\n",
       "<style scoped>\n",
       "    .dataframe tbody tr th:only-of-type {\n",
       "        vertical-align: middle;\n",
       "    }\n",
       "\n",
       "    .dataframe tbody tr th {\n",
       "        vertical-align: top;\n",
       "    }\n",
       "\n",
       "    .dataframe thead th {\n",
       "        text-align: right;\n",
       "    }\n",
       "</style>\n",
       "<table border=\"1\" class=\"dataframe\">\n",
       "  <thead>\n",
       "    <tr style=\"text-align: right;\">\n",
       "      <th></th>\n",
       "      <th>est_int</th>\n",
       "      <th>coefs</th>\n",
       "      <th>abs_coefs</th>\n",
       "    </tr>\n",
       "  </thead>\n",
       "  <tbody>\n",
       "    <tr>\n",
       "      <th>1</th>\n",
       "      <td>acousticness</td>\n",
       "      <td>-3.146571e+01</td>\n",
       "      <td>3.146571e+01</td>\n",
       "    </tr>\n",
       "    <tr>\n",
       "      <th>5</th>\n",
       "      <td>explicit</td>\n",
       "      <td>3.114641e+01</td>\n",
       "      <td>3.114641e+01</td>\n",
       "    </tr>\n",
       "    <tr>\n",
       "      <th>4</th>\n",
       "      <td>energy</td>\n",
       "      <td>1.291151e+01</td>\n",
       "      <td>1.291151e+01</td>\n",
       "    </tr>\n",
       "    <tr>\n",
       "      <th>8</th>\n",
       "      <td>liveness</td>\n",
       "      <td>-1.136989e+01</td>\n",
       "      <td>1.136989e+01</td>\n",
       "    </tr>\n",
       "    <tr>\n",
       "      <th>11</th>\n",
       "      <td>speechiness</td>\n",
       "      <td>-8.671941e+00</td>\n",
       "      <td>8.671941e+00</td>\n",
       "    </tr>\n",
       "    <tr>\n",
       "      <th>2</th>\n",
       "      <td>danceability</td>\n",
       "      <td>-3.120098e+00</td>\n",
       "      <td>3.120098e+00</td>\n",
       "    </tr>\n",
       "    <tr>\n",
       "      <th>6</th>\n",
       "      <td>instrumentalness</td>\n",
       "      <td>1.738344e+00</td>\n",
       "      <td>1.738344e+00</td>\n",
       "    </tr>\n",
       "    <tr>\n",
       "      <th>10</th>\n",
       "      <td>mode</td>\n",
       "      <td>-1.090748e+00</td>\n",
       "      <td>1.090748e+00</td>\n",
       "    </tr>\n",
       "    <tr>\n",
       "      <th>9</th>\n",
       "      <td>loudness</td>\n",
       "      <td>-7.367451e-01</td>\n",
       "      <td>7.367451e-01</td>\n",
       "    </tr>\n",
       "    <tr>\n",
       "      <th>7</th>\n",
       "      <td>key</td>\n",
       "      <td>-1.122659e-01</td>\n",
       "      <td>1.122659e-01</td>\n",
       "    </tr>\n",
       "    <tr>\n",
       "      <th>0</th>\n",
       "      <td>valence</td>\n",
       "      <td>-5.607975e-02</td>\n",
       "      <td>5.607975e-02</td>\n",
       "    </tr>\n",
       "    <tr>\n",
       "      <th>12</th>\n",
       "      <td>tempo</td>\n",
       "      <td>2.255188e-02</td>\n",
       "      <td>2.255188e-02</td>\n",
       "    </tr>\n",
       "    <tr>\n",
       "      <th>3</th>\n",
       "      <td>duration_ms</td>\n",
       "      <td>5.641974e-07</td>\n",
       "      <td>5.641974e-07</td>\n",
       "    </tr>\n",
       "  </tbody>\n",
       "</table>\n",
       "</div>"
      ],
      "text/plain": [
       "             est_int         coefs     abs_coefs\n",
       "1       acousticness -3.146571e+01  3.146571e+01\n",
       "5           explicit  3.114641e+01  3.114641e+01\n",
       "4             energy  1.291151e+01  1.291151e+01\n",
       "8           liveness -1.136989e+01  1.136989e+01\n",
       "11       speechiness -8.671941e+00  8.671941e+00\n",
       "2       danceability -3.120098e+00  3.120098e+00\n",
       "6   instrumentalness  1.738344e+00  1.738344e+00\n",
       "10              mode -1.090748e+00  1.090748e+00\n",
       "9           loudness -7.367451e-01  7.367451e-01\n",
       "7                key -1.122659e-01  1.122659e-01\n",
       "0            valence -5.607975e-02  5.607975e-02\n",
       "12             tempo  2.255188e-02  2.255188e-02\n",
       "3        duration_ms  5.641974e-07  5.641974e-07"
      ]
     },
     "execution_count": 69,
     "metadata": {},
     "output_type": "execute_result"
    }
   ],
   "source": [
    "coeff_check = coef_weights(reg, reg.coef_, X_train)\n",
    "coeff_check"
   ]
  },
  {
   "cell_type": "markdown",
   "metadata": {},
   "source": [
    "Here we see that danceability is now negatively correlated. However we also see that explicitness is positively correlated, which points out the limitations of this analysis, as there are actually only 3 tracks in this dataset that are considered explicit:"
   ]
  },
  {
   "cell_type": "code",
   "execution_count": 70,
   "metadata": {},
   "outputs": [
    {
     "data": {
      "text/html": [
       "<div>\n",
       "<style scoped>\n",
       "    .dataframe tbody tr th:only-of-type {\n",
       "        vertical-align: middle;\n",
       "    }\n",
       "\n",
       "    .dataframe tbody tr th {\n",
       "        vertical-align: top;\n",
       "    }\n",
       "\n",
       "    .dataframe thead th {\n",
       "        text-align: right;\n",
       "    }\n",
       "</style>\n",
       "<table border=\"1\" class=\"dataframe\">\n",
       "  <thead>\n",
       "    <tr style=\"text-align: right;\">\n",
       "      <th></th>\n",
       "      <th>valence</th>\n",
       "      <th>year</th>\n",
       "      <th>acousticness</th>\n",
       "      <th>danceability</th>\n",
       "      <th>duration_ms</th>\n",
       "      <th>energy</th>\n",
       "      <th>explicit</th>\n",
       "      <th>id</th>\n",
       "      <th>instrumentalness</th>\n",
       "      <th>key</th>\n",
       "      <th>...</th>\n",
       "      <th>genre_1</th>\n",
       "      <th>artist_1_y</th>\n",
       "      <th>genre_2</th>\n",
       "      <th>artist_2_y</th>\n",
       "      <th>genre_3</th>\n",
       "      <th>artist_3_y</th>\n",
       "      <th>genre_4</th>\n",
       "      <th>artist_4_y</th>\n",
       "      <th>genre_5</th>\n",
       "      <th>artist_5_y</th>\n",
       "    </tr>\n",
       "  </thead>\n",
       "  <tbody>\n",
       "    <tr>\n",
       "      <th>16522</th>\n",
       "      <td>0.575</td>\n",
       "      <td>2004</td>\n",
       "      <td>0.214000</td>\n",
       "      <td>0.828</td>\n",
       "      <td>225107</td>\n",
       "      <td>0.653</td>\n",
       "      <td>1</td>\n",
       "      <td>1p5kC161fWMA2QlwV3Vi4W</td>\n",
       "      <td>0.000003</td>\n",
       "      <td>0</td>\n",
       "      <td>...</td>\n",
       "      <td>['background music', 'background piano', 'calm...</td>\n",
       "      <td>Eamon</td>\n",
       "      <td>NaN</td>\n",
       "      <td>NaN</td>\n",
       "      <td>NaN</td>\n",
       "      <td>NaN</td>\n",
       "      <td>NaN</td>\n",
       "      <td>NaN</td>\n",
       "      <td>NaN</td>\n",
       "      <td>NaN</td>\n",
       "    </tr>\n",
       "    <tr>\n",
       "      <th>72330</th>\n",
       "      <td>0.494</td>\n",
       "      <td>2006</td>\n",
       "      <td>0.869000</td>\n",
       "      <td>0.504</td>\n",
       "      <td>263160</td>\n",
       "      <td>0.434</td>\n",
       "      <td>1</td>\n",
       "      <td>7eL4Z9FlNY5u9vOsgpDUsw</td>\n",
       "      <td>0.003400</td>\n",
       "      <td>7</td>\n",
       "      <td>...</td>\n",
       "      <td>['bluegrass', 'classical mandolin', 'instrumen...</td>\n",
       "      <td>Chris Thile</td>\n",
       "      <td>NaN</td>\n",
       "      <td>NaN</td>\n",
       "      <td>NaN</td>\n",
       "      <td>NaN</td>\n",
       "      <td>NaN</td>\n",
       "      <td>NaN</td>\n",
       "      <td>NaN</td>\n",
       "      <td>NaN</td>\n",
       "    </tr>\n",
       "    <tr>\n",
       "      <th>121450</th>\n",
       "      <td>0.149</td>\n",
       "      <td>2003</td>\n",
       "      <td>0.000011</td>\n",
       "      <td>0.514</td>\n",
       "      <td>467827</td>\n",
       "      <td>0.950</td>\n",
       "      <td>1</td>\n",
       "      <td>6hz6lrQtLcxOOjflnYjF9o</td>\n",
       "      <td>0.013500</td>\n",
       "      <td>7</td>\n",
       "      <td>...</td>\n",
       "      <td>['metal', 'neo classical metal', 'power metal'...</td>\n",
       "      <td>Dream Theater</td>\n",
       "      <td>NaN</td>\n",
       "      <td>NaN</td>\n",
       "      <td>NaN</td>\n",
       "      <td>NaN</td>\n",
       "      <td>NaN</td>\n",
       "      <td>NaN</td>\n",
       "      <td>NaN</td>\n",
       "      <td>NaN</td>\n",
       "    </tr>\n",
       "  </tbody>\n",
       "</table>\n",
       "<p>3 rows × 33 columns</p>\n",
       "</div>"
      ],
      "text/plain": [
       "        valence  year  acousticness  danceability  duration_ms  energy  \\\n",
       "16522     0.575  2004      0.214000         0.828       225107   0.653   \n",
       "72330     0.494  2006      0.869000         0.504       263160   0.434   \n",
       "121450    0.149  2003      0.000011         0.514       467827   0.950   \n",
       "\n",
       "        explicit                      id  instrumentalness  key  ...  \\\n",
       "16522          1  1p5kC161fWMA2QlwV3Vi4W          0.000003    0  ...   \n",
       "72330          1  7eL4Z9FlNY5u9vOsgpDUsw          0.003400    7  ...   \n",
       "121450         1  6hz6lrQtLcxOOjflnYjF9o          0.013500    7  ...   \n",
       "\n",
       "                                                  genre_1     artist_1_y  \\\n",
       "16522   ['background music', 'background piano', 'calm...          Eamon   \n",
       "72330   ['bluegrass', 'classical mandolin', 'instrumen...    Chris Thile   \n",
       "121450  ['metal', 'neo classical metal', 'power metal'...  Dream Theater   \n",
       "\n",
       "        genre_2 artist_2_y  genre_3 artist_3_y  genre_4  artist_4_y genre_5  \\\n",
       "16522       NaN        NaN      NaN        NaN      NaN         NaN     NaN   \n",
       "72330       NaN        NaN      NaN        NaN      NaN         NaN     NaN   \n",
       "121450      NaN        NaN      NaN        NaN      NaN         NaN     NaN   \n",
       "\n",
       "       artist_5_y  \n",
       "16522         NaN  \n",
       "72330         NaN  \n",
       "121450        NaN  \n",
       "\n",
       "[3 rows x 33 columns]"
      ]
     },
     "execution_count": 70,
     "metadata": {},
     "output_type": "execute_result"
    }
   ],
   "source": [
    "df_classical_tracks[df_classical_tracks['explicit'] > 0]"
   ]
  },
  {
   "cell_type": "markdown",
   "metadata": {},
   "source": [
    "Let's have a go with just tracks that have 'adult standards' in the genre_1 column. First, we need to create that dataset:"
   ]
  },
  {
   "cell_type": "code",
   "execution_count": 74,
   "metadata": {},
   "outputs": [],
   "source": [
    "df_adult_standards = df_tracks_with_genres[\n",
    "    df_tracks_with_genres['genre_1'].str.contains('adult standards')]"
   ]
  },
  {
   "cell_type": "code",
   "execution_count": 72,
   "metadata": {},
   "outputs": [
    {
     "data": {
      "text/plain": [
       "(14800, 33)"
      ]
     },
     "execution_count": 72,
     "metadata": {},
     "output_type": "execute_result"
    }
   ],
   "source": [
    "df_adult_standards.shape"
   ]
  },
  {
   "cell_type": "code",
   "execution_count": 77,
   "metadata": {},
   "outputs": [
    {
     "data": {
      "text/plain": [
       "0.15151218885591"
      ]
     },
     "execution_count": 77,
     "metadata": {},
     "output_type": "execute_result"
    }
   ],
   "source": [
    "X = df_adult_standards[['valence', 'acousticness',\n",
    "                        'danceability', 'duration_ms',\n",
    "                        'energy', 'explicit',\n",
    "                        'instrumentalness', 'key',\n",
    "                        'liveness', 'loudness', 'mode',\n",
    "                        'speechiness', 'tempo']]\n",
    "y = df_adult_standards[['popularity']]\n",
    "X_train, X_test, y_train, y_test = train_test_split(\n",
    "    X, y, test_size=0.33, random_state=42)\n",
    "reg = LinearRegression()\n",
    "reg.fit(X_train, y_train)\n",
    "y_pred = reg.predict(X_test)\n",
    "sc.metrics.r2_score(y_test, y_pred)"
   ]
  },
  {
   "cell_type": "markdown",
   "metadata": {},
   "source": [
    "Again, a very low r-squared, so any conclusions here to be taken with a pinch of salt."
   ]
  },
  {
   "cell_type": "code",
   "execution_count": 79,
   "metadata": {
    "scrolled": true
   },
   "outputs": [
    {
     "data": {
      "text/html": [
       "<div>\n",
       "<style scoped>\n",
       "    .dataframe tbody tr th:only-of-type {\n",
       "        vertical-align: middle;\n",
       "    }\n",
       "\n",
       "    .dataframe tbody tr th {\n",
       "        vertical-align: top;\n",
       "    }\n",
       "\n",
       "    .dataframe thead th {\n",
       "        text-align: right;\n",
       "    }\n",
       "</style>\n",
       "<table border=\"1\" class=\"dataframe\">\n",
       "  <thead>\n",
       "    <tr style=\"text-align: right;\">\n",
       "      <th></th>\n",
       "      <th>est_int</th>\n",
       "      <th>coefs</th>\n",
       "      <th>abs_coefs</th>\n",
       "    </tr>\n",
       "  </thead>\n",
       "  <tbody>\n",
       "    <tr>\n",
       "      <th>11</th>\n",
       "      <td>speechiness</td>\n",
       "      <td>-21.410754</td>\n",
       "      <td>21.410754</td>\n",
       "    </tr>\n",
       "    <tr>\n",
       "      <th>1</th>\n",
       "      <td>acousticness</td>\n",
       "      <td>-14.128893</td>\n",
       "      <td>14.128893</td>\n",
       "    </tr>\n",
       "    <tr>\n",
       "      <th>4</th>\n",
       "      <td>energy</td>\n",
       "      <td>13.452653</td>\n",
       "      <td>13.452653</td>\n",
       "    </tr>\n",
       "    <tr>\n",
       "      <th>5</th>\n",
       "      <td>explicit</td>\n",
       "      <td>13.299901</td>\n",
       "      <td>13.299901</td>\n",
       "    </tr>\n",
       "    <tr>\n",
       "      <th>6</th>\n",
       "      <td>instrumentalness</td>\n",
       "      <td>-9.835791</td>\n",
       "      <td>9.835791</td>\n",
       "    </tr>\n",
       "    <tr>\n",
       "      <th>8</th>\n",
       "      <td>liveness</td>\n",
       "      <td>-9.290904</td>\n",
       "      <td>9.290904</td>\n",
       "    </tr>\n",
       "    <tr>\n",
       "      <th>0</th>\n",
       "      <td>valence</td>\n",
       "      <td>-8.017715</td>\n",
       "      <td>8.017715</td>\n",
       "    </tr>\n",
       "    <tr>\n",
       "      <th>2</th>\n",
       "      <td>danceability</td>\n",
       "      <td>6.217002</td>\n",
       "      <td>6.217002</td>\n",
       "    </tr>\n",
       "    <tr>\n",
       "      <th>10</th>\n",
       "      <td>mode</td>\n",
       "      <td>1.285695</td>\n",
       "      <td>1.285695</td>\n",
       "    </tr>\n",
       "    <tr>\n",
       "      <th>9</th>\n",
       "      <td>loudness</td>\n",
       "      <td>-0.247669</td>\n",
       "      <td>0.247669</td>\n",
       "    </tr>\n",
       "    <tr>\n",
       "      <th>7</th>\n",
       "      <td>key</td>\n",
       "      <td>0.015860</td>\n",
       "      <td>0.015860</td>\n",
       "    </tr>\n",
       "    <tr>\n",
       "      <th>12</th>\n",
       "      <td>tempo</td>\n",
       "      <td>0.001589</td>\n",
       "      <td>0.001589</td>\n",
       "    </tr>\n",
       "    <tr>\n",
       "      <th>3</th>\n",
       "      <td>duration_ms</td>\n",
       "      <td>0.000015</td>\n",
       "      <td>0.000015</td>\n",
       "    </tr>\n",
       "  </tbody>\n",
       "</table>\n",
       "</div>"
      ],
      "text/plain": [
       "             est_int      coefs  abs_coefs\n",
       "11       speechiness -21.410754  21.410754\n",
       "1       acousticness -14.128893  14.128893\n",
       "4             energy  13.452653  13.452653\n",
       "5           explicit  13.299901  13.299901\n",
       "6   instrumentalness  -9.835791   9.835791\n",
       "8           liveness  -9.290904   9.290904\n",
       "0            valence  -8.017715   8.017715\n",
       "2       danceability   6.217002   6.217002\n",
       "10              mode   1.285695   1.285695\n",
       "9           loudness  -0.247669   0.247669\n",
       "7                key   0.015860   0.015860\n",
       "12             tempo   0.001589   0.001589\n",
       "3        duration_ms   0.000015   0.000015"
      ]
     },
     "execution_count": 79,
     "metadata": {},
     "output_type": "execute_result"
    }
   ],
   "source": [
    "coeff_check = coef_weights(reg, reg.coef_, X_train)\n",
    "coeff_check"
   ]
  },
  {
   "cell_type": "markdown",
   "metadata": {},
   "source": [
    "We can call out speechiness and acousticness as tending to drive popularity down for adult standards tracks, while enery drives them up."
   ]
  },
  {
   "cell_type": "markdown",
   "metadata": {},
   "source": [
    "Let's have a go with just tracks that have 'pop' in the genre_1 column. First, we need to create that dataset:"
   ]
  },
  {
   "cell_type": "code",
   "execution_count": 81,
   "metadata": {},
   "outputs": [],
   "source": [
    "df_pop_tracks = df_tracks_with_genres[\n",
    "    df_tracks_with_genres['genre_1'].str.contains('pop')]"
   ]
  },
  {
   "cell_type": "code",
   "execution_count": 82,
   "metadata": {},
   "outputs": [
    {
     "data": {
      "text/plain": [
       "0.2639391044986024"
      ]
     },
     "execution_count": 82,
     "metadata": {},
     "output_type": "execute_result"
    }
   ],
   "source": [
    "df_pop_tracks.shape[0]/df_tracks_with_genres.shape[0]"
   ]
  },
  {
   "cell_type": "code",
   "execution_count": 85,
   "metadata": {},
   "outputs": [
    {
     "data": {
      "text/plain": [
       "0.36867946012556996"
      ]
     },
     "execution_count": 85,
     "metadata": {},
     "output_type": "execute_result"
    }
   ],
   "source": [
    "X = df_pop_tracks[['valence', 'acousticness', 'danceability',\n",
    "                   'duration_ms', 'energy', 'explicit',\n",
    "                   'instrumentalness', 'key', 'liveness',\n",
    "                   'loudness', 'mode', 'speechiness',\n",
    "                   'tempo']]\n",
    "y = df_pop_tracks[['popularity']]\n",
    "X_train, X_test, y_train, y_test = train_test_split(\n",
    "    X, y, test_size=0.33, random_state=42)\n",
    "reg = LinearRegression()\n",
    "reg.fit(X_train, y_train)\n",
    "y_pred = reg.predict(X_test)\n",
    "sc.metrics.r2_score(y_test, y_pred)"
   ]
  },
  {
   "cell_type": "markdown",
   "metadata": {},
   "source": [
    "Slightly higher r-squared than for the previous two examples, as the we're looking at about 26% of all tracks."
   ]
  },
  {
   "cell_type": "code",
   "execution_count": 87,
   "metadata": {},
   "outputs": [
    {
     "data": {
      "text/html": [
       "<div>\n",
       "<style scoped>\n",
       "    .dataframe tbody tr th:only-of-type {\n",
       "        vertical-align: middle;\n",
       "    }\n",
       "\n",
       "    .dataframe tbody tr th {\n",
       "        vertical-align: top;\n",
       "    }\n",
       "\n",
       "    .dataframe thead th {\n",
       "        text-align: right;\n",
       "    }\n",
       "</style>\n",
       "<table border=\"1\" class=\"dataframe\">\n",
       "  <thead>\n",
       "    <tr style=\"text-align: right;\">\n",
       "      <th></th>\n",
       "      <th>est_int</th>\n",
       "      <th>coefs</th>\n",
       "      <th>abs_coefs</th>\n",
       "    </tr>\n",
       "  </thead>\n",
       "  <tbody>\n",
       "    <tr>\n",
       "      <th>2</th>\n",
       "      <td>danceability</td>\n",
       "      <td>27.823029</td>\n",
       "      <td>27.823029</td>\n",
       "    </tr>\n",
       "    <tr>\n",
       "      <th>0</th>\n",
       "      <td>valence</td>\n",
       "      <td>-23.963726</td>\n",
       "      <td>23.963726</td>\n",
       "    </tr>\n",
       "    <tr>\n",
       "      <th>11</th>\n",
       "      <td>speechiness</td>\n",
       "      <td>-15.170827</td>\n",
       "      <td>15.170827</td>\n",
       "    </tr>\n",
       "    <tr>\n",
       "      <th>1</th>\n",
       "      <td>acousticness</td>\n",
       "      <td>-14.596796</td>\n",
       "      <td>14.596796</td>\n",
       "    </tr>\n",
       "    <tr>\n",
       "      <th>6</th>\n",
       "      <td>instrumentalness</td>\n",
       "      <td>-9.473604</td>\n",
       "      <td>9.473604</td>\n",
       "    </tr>\n",
       "    <tr>\n",
       "      <th>8</th>\n",
       "      <td>liveness</td>\n",
       "      <td>-7.292525</td>\n",
       "      <td>7.292525</td>\n",
       "    </tr>\n",
       "    <tr>\n",
       "      <th>5</th>\n",
       "      <td>explicit</td>\n",
       "      <td>5.536701</td>\n",
       "      <td>5.536701</td>\n",
       "    </tr>\n",
       "    <tr>\n",
       "      <th>4</th>\n",
       "      <td>energy</td>\n",
       "      <td>1.969830</td>\n",
       "      <td>1.969830</td>\n",
       "    </tr>\n",
       "    <tr>\n",
       "      <th>9</th>\n",
       "      <td>loudness</td>\n",
       "      <td>1.034690</td>\n",
       "      <td>1.034690</td>\n",
       "    </tr>\n",
       "    <tr>\n",
       "      <th>10</th>\n",
       "      <td>mode</td>\n",
       "      <td>-0.448868</td>\n",
       "      <td>0.448868</td>\n",
       "    </tr>\n",
       "    <tr>\n",
       "      <th>12</th>\n",
       "      <td>tempo</td>\n",
       "      <td>0.032220</td>\n",
       "      <td>0.032220</td>\n",
       "    </tr>\n",
       "    <tr>\n",
       "      <th>7</th>\n",
       "      <td>key</td>\n",
       "      <td>-0.011686</td>\n",
       "      <td>0.011686</td>\n",
       "    </tr>\n",
       "    <tr>\n",
       "      <th>3</th>\n",
       "      <td>duration_ms</td>\n",
       "      <td>-0.000001</td>\n",
       "      <td>0.000001</td>\n",
       "    </tr>\n",
       "  </tbody>\n",
       "</table>\n",
       "</div>"
      ],
      "text/plain": [
       "             est_int      coefs  abs_coefs\n",
       "2       danceability  27.823029  27.823029\n",
       "0            valence -23.963726  23.963726\n",
       "11       speechiness -15.170827  15.170827\n",
       "1       acousticness -14.596796  14.596796\n",
       "6   instrumentalness  -9.473604   9.473604\n",
       "8           liveness  -7.292525   7.292525\n",
       "5           explicit   5.536701   5.536701\n",
       "4             energy   1.969830   1.969830\n",
       "9           loudness   1.034690   1.034690\n",
       "10              mode  -0.448868   0.448868\n",
       "12             tempo   0.032220   0.032220\n",
       "7                key  -0.011686   0.011686\n",
       "3        duration_ms  -0.000001   0.000001"
      ]
     },
     "execution_count": 87,
     "metadata": {},
     "output_type": "execute_result"
    }
   ],
   "source": [
    "coeff_check = coef_weights(reg, reg.coef_, X_train)\n",
    "coeff_check"
   ]
  },
  {
   "cell_type": "markdown",
   "metadata": {},
   "source": [
    "Here we see that danceability is now positively correlated. It actually seems like the main thing to look for in a pop track."
   ]
  },
  {
   "cell_type": "markdown",
   "metadata": {},
   "source": [
    "Finally, playing around with some actual tracks to get a feel for how the model works, and to help me explain the logic in my Medium post. "
   ]
  },
  {
   "cell_type": "markdown",
   "metadata": {},
   "source": [
    "First we need to reset our model, to be based on our dataset as a whole and not just a specific genre:"
   ]
  },
  {
   "cell_type": "code",
   "execution_count": 88,
   "metadata": {},
   "outputs": [
    {
     "data": {
      "text/plain": [
       "0.7898819162651358"
      ]
     },
     "execution_count": 88,
     "metadata": {},
     "output_type": "execute_result"
    }
   ],
   "source": [
    "X = df_with_dummies.drop(\n",
    "    ['name', 'year', 'id', 'name', 'release_date', 'popularity'], axis=1)\n",
    "y = df_with_dummies['popularity']\n",
    "X_train, X_test, y_train, y_test = train_test_split(\n",
    "    X, y, test_size=0.33, random_state=42)\n",
    "reg = LinearRegression()\n",
    "reg.fit(X_train, y_train)\n",
    "y_pred = reg.predict(X_test)\n",
    "sc.metrics.r2_score(y_test, y_pred)"
   ]
  },
  {
   "cell_type": "markdown",
   "metadata": {},
   "source": [
    "And now, let's look at a few tracks (I selected these with a random sample of 3 tracks taken from the whole dataset):"
   ]
  },
  {
   "cell_type": "code",
   "execution_count": 94,
   "metadata": {},
   "outputs": [
    {
     "data": {
      "text/html": [
       "<div>\n",
       "<style scoped>\n",
       "    .dataframe tbody tr th:only-of-type {\n",
       "        vertical-align: middle;\n",
       "    }\n",
       "\n",
       "    .dataframe tbody tr th {\n",
       "        vertical-align: top;\n",
       "    }\n",
       "\n",
       "    .dataframe thead th {\n",
       "        text-align: right;\n",
       "    }\n",
       "</style>\n",
       "<table border=\"1\" class=\"dataframe\">\n",
       "  <thead>\n",
       "    <tr style=\"text-align: right;\">\n",
       "      <th></th>\n",
       "      <th>valence</th>\n",
       "      <th>acousticness</th>\n",
       "      <th>danceability</th>\n",
       "      <th>duration_ms</th>\n",
       "      <th>energy</th>\n",
       "      <th>explicit</th>\n",
       "      <th>instrumentalness</th>\n",
       "      <th>key</th>\n",
       "      <th>liveness</th>\n",
       "      <th>loudness</th>\n",
       "      <th>mode</th>\n",
       "      <th>speechiness</th>\n",
       "      <th>tempo</th>\n",
       "      <th>popularity</th>\n",
       "    </tr>\n",
       "  </thead>\n",
       "  <tbody>\n",
       "    <tr>\n",
       "      <th>19643</th>\n",
       "      <td>0.259</td>\n",
       "      <td>0.00115</td>\n",
       "      <td>0.705</td>\n",
       "      <td>223279</td>\n",
       "      <td>0.814</td>\n",
       "      <td>0</td>\n",
       "      <td>0.00312</td>\n",
       "      <td>4</td>\n",
       "      <td>0.203</td>\n",
       "      <td>-5.466</td>\n",
       "      <td>0</td>\n",
       "      <td>0.0346</td>\n",
       "      <td>110.0</td>\n",
       "      <td>91</td>\n",
       "    </tr>\n",
       "  </tbody>\n",
       "</table>\n",
       "</div>"
      ],
      "text/plain": [
       "       valence  acousticness  danceability  duration_ms  energy  explicit  \\\n",
       "19643    0.259       0.00115         0.705       223279   0.814         0   \n",
       "\n",
       "       instrumentalness  key  liveness  loudness  mode  speechiness  tempo  \\\n",
       "19643           0.00312    4     0.203    -5.466     0       0.0346  110.0   \n",
       "\n",
       "       popularity  \n",
       "19643          91  "
      ]
     },
     "execution_count": 94,
     "metadata": {},
     "output_type": "execute_result"
    },
    {
     "name": "stderr",
     "output_type": "stream",
     "text": [
      "1:80: E501 line too long (80 > 79 characters)\n"
     ]
    }
   ],
   "source": [
    "df_tracks_with_genres[df_tracks_with_genres['id'] == '27ycaQnQAxaPiyeg3nr2aB'][[\n",
    "    'valence', 'acousticness', 'danceability',\n",
    "    'duration_ms', 'energy', 'explicit',\n",
    "    'instrumentalness', 'key', 'liveness',\n",
    "    'loudness', 'mode', 'speechiness', 'tempo', 'popularity']]"
   ]
  },
  {
   "cell_type": "markdown",
   "metadata": {},
   "source": [
    "Listening to this Miley Cyrus pop track we hear it has low speechiness (very few 'spoken words'), seems pretty high on danceability, and is definitely not acoustic, so we'd expect it to have a pretty high popularity score. The model predicts 64 - but it's a Miley Cyrus track, so it actually gets 91!"
   ]
  },
  {
   "cell_type": "code",
   "execution_count": 95,
   "metadata": {},
   "outputs": [
    {
     "data": {
      "text/plain": [
       "array([64.22618144])"
      ]
     },
     "execution_count": 95,
     "metadata": {},
     "output_type": "execute_result"
    }
   ],
   "source": [
    "X_midnight_sky = df_with_dummies[\n",
    "    df_with_dummies['id'] == '27ycaQnQAxaPiyeg3nr2aB'].drop(\n",
    "    ['name', 'year', 'id', 'name', 'release_date', 'popularity'], axis=1)\n",
    "midnight_sky_prediction = reg.predict(X_midnight_sky)\n",
    "midnight_sky_prediction"
   ]
  },
  {
   "cell_type": "code",
   "execution_count": 99,
   "metadata": {},
   "outputs": [
    {
     "data": {
      "text/html": [
       "<div>\n",
       "<style scoped>\n",
       "    .dataframe tbody tr th:only-of-type {\n",
       "        vertical-align: middle;\n",
       "    }\n",
       "\n",
       "    .dataframe tbody tr th {\n",
       "        vertical-align: top;\n",
       "    }\n",
       "\n",
       "    .dataframe thead th {\n",
       "        text-align: right;\n",
       "    }\n",
       "</style>\n",
       "<table border=\"1\" class=\"dataframe\">\n",
       "  <thead>\n",
       "    <tr style=\"text-align: right;\">\n",
       "      <th></th>\n",
       "      <th>valence</th>\n",
       "      <th>acousticness</th>\n",
       "      <th>danceability</th>\n",
       "      <th>duration_ms</th>\n",
       "      <th>energy</th>\n",
       "      <th>explicit</th>\n",
       "      <th>instrumentalness</th>\n",
       "      <th>key</th>\n",
       "      <th>liveness</th>\n",
       "      <th>loudness</th>\n",
       "      <th>mode</th>\n",
       "      <th>speechiness</th>\n",
       "      <th>tempo</th>\n",
       "      <th>popularity</th>\n",
       "      <th>year</th>\n",
       "    </tr>\n",
       "  </thead>\n",
       "  <tbody>\n",
       "    <tr>\n",
       "      <th>140843</th>\n",
       "      <td>0.42</td>\n",
       "      <td>0.209</td>\n",
       "      <td>0.649</td>\n",
       "      <td>203322</td>\n",
       "      <td>0.64</td>\n",
       "      <td>0</td>\n",
       "      <td>0.000532</td>\n",
       "      <td>6</td>\n",
       "      <td>0.0965</td>\n",
       "      <td>-6.09</td>\n",
       "      <td>1</td>\n",
       "      <td>0.0352</td>\n",
       "      <td>94.957</td>\n",
       "      <td>66</td>\n",
       "      <td>2020</td>\n",
       "    </tr>\n",
       "  </tbody>\n",
       "</table>\n",
       "</div>"
      ],
      "text/plain": [
       "        valence  acousticness  danceability  duration_ms  energy  explicit  \\\n",
       "140843     0.42         0.209         0.649       203322    0.64         0   \n",
       "\n",
       "        instrumentalness  key  liveness  loudness  mode  speechiness   tempo  \\\n",
       "140843          0.000532    6    0.0965     -6.09     1       0.0352  94.957   \n",
       "\n",
       "        popularity  year  \n",
       "140843          66  2020  "
      ]
     },
     "execution_count": 99,
     "metadata": {},
     "output_type": "execute_result"
    },
    {
     "name": "stderr",
     "output_type": "stream",
     "text": [
      "1:80: E501 line too long (80 > 79 characters)\n"
     ]
    }
   ],
   "source": [
    "df_tracks_with_genres[df_tracks_with_genres['id'] == '0vK1vDEvEMvSpFEKW62Qub'][[\n",
    "    'valence', 'acousticness', 'danceability',\n",
    "    'duration_ms', 'energy', 'explicit',\n",
    "    'instrumentalness', 'key', 'liveness',\n",
    "    'loudness', 'mode', 'speechiness', 'tempo',\n",
    "    'popularity', 'year']]"
   ]
  },
  {
   "cell_type": "markdown",
   "metadata": {},
   "source": [
    "Listening to this really boring song by Jordan Davis, we hear low speechiness again, definitely not explicit, not very danceable, and quite a lot of acoustic sounds. However we see that Spotify measures danceability quite high, at 0.64. In general we'd expect a middling to low popularity score here, except for the very important fact that the track was released this year. Our model spits out a score of 64, which is extremely close to the reality of 66."
   ]
  },
  {
   "cell_type": "code",
   "execution_count": 100,
   "metadata": {},
   "outputs": [
    {
     "data": {
      "text/plain": [
       "array([64.22889043])"
      ]
     },
     "execution_count": 100,
     "metadata": {},
     "output_type": "execute_result"
    }
   ],
   "source": [
    "X_lose_you = df_with_dummies[\n",
    "    df_with_dummies['id'] == '0vK1vDEvEMvSpFEKW62Qub'].drop(\n",
    "    ['name', 'year', 'id', 'name', 'release_date', 'popularity'], axis=1)\n",
    "lose_you_prediction = reg.predict(X_lose_you)\n",
    "lose_you_prediction"
   ]
  },
  {
   "cell_type": "code",
   "execution_count": 103,
   "metadata": {},
   "outputs": [
    {
     "data": {
      "text/html": [
       "<div>\n",
       "<style scoped>\n",
       "    .dataframe tbody tr th:only-of-type {\n",
       "        vertical-align: middle;\n",
       "    }\n",
       "\n",
       "    .dataframe tbody tr th {\n",
       "        vertical-align: top;\n",
       "    }\n",
       "\n",
       "    .dataframe thead th {\n",
       "        text-align: right;\n",
       "    }\n",
       "</style>\n",
       "<table border=\"1\" class=\"dataframe\">\n",
       "  <thead>\n",
       "    <tr style=\"text-align: right;\">\n",
       "      <th></th>\n",
       "      <th>name</th>\n",
       "      <th>valence</th>\n",
       "      <th>acousticness</th>\n",
       "      <th>danceability</th>\n",
       "      <th>duration_ms</th>\n",
       "      <th>energy</th>\n",
       "      <th>explicit</th>\n",
       "      <th>instrumentalness</th>\n",
       "      <th>key</th>\n",
       "      <th>liveness</th>\n",
       "      <th>loudness</th>\n",
       "      <th>mode</th>\n",
       "      <th>speechiness</th>\n",
       "      <th>tempo</th>\n",
       "      <th>popularity</th>\n",
       "      <th>year</th>\n",
       "    </tr>\n",
       "  </thead>\n",
       "  <tbody>\n",
       "    <tr>\n",
       "      <th>3824</th>\n",
       "      <td>Somebody Else Is Taking My Place</td>\n",
       "      <td>0.727</td>\n",
       "      <td>0.929</td>\n",
       "      <td>0.737</td>\n",
       "      <td>188560</td>\n",
       "      <td>0.363</td>\n",
       "      <td>0</td>\n",
       "      <td>0.168</td>\n",
       "      <td>8</td>\n",
       "      <td>0.0977</td>\n",
       "      <td>-10.962</td>\n",
       "      <td>1</td>\n",
       "      <td>0.0711</td>\n",
       "      <td>131.274</td>\n",
       "      <td>14</td>\n",
       "      <td>1941</td>\n",
       "    </tr>\n",
       "  </tbody>\n",
       "</table>\n",
       "</div>"
      ],
      "text/plain": [
       "                                  name  valence  acousticness  danceability  \\\n",
       "3824  Somebody Else Is Taking My Place    0.727         0.929         0.737   \n",
       "\n",
       "      duration_ms  energy  explicit  instrumentalness  key  liveness  \\\n",
       "3824       188560   0.363         0             0.168    8    0.0977   \n",
       "\n",
       "      loudness  mode  speechiness    tempo  popularity  year  \n",
       "3824   -10.962     1       0.0711  131.274          14  1941  "
      ]
     },
     "execution_count": 103,
     "metadata": {},
     "output_type": "execute_result"
    },
    {
     "name": "stderr",
     "output_type": "stream",
     "text": [
      "1:80: E501 line too long (80 > 79 characters)\n"
     ]
    }
   ],
   "source": [
    "df_tracks_with_genres[df_tracks_with_genres['id'] == '1pOs0EmRYSB2qHkq3RqQ3F'][[\n",
    "    'name', 'valence', 'acousticness', 'danceability',\n",
    "    'duration_ms', 'energy', 'explicit',\n",
    "    'instrumentalness', 'key', 'liveness',\n",
    "    'loudness', 'mode', 'speechiness',\n",
    "    'tempo', 'popularity', 'year']]"
   ]
  },
  {
   "cell_type": "markdown",
   "metadata": {},
   "source": [
    "Listening to this track, I find it quite danceable, very likely entirely acoustic, with almost no speechiness. However, as it came out in 1940, we would expect that fact alone to drive popularity down significantly into the low 25s. In fact, our model gives it a score of 3.3, whereas in reality it has a score of 14."
   ]
  },
  {
   "cell_type": "code",
   "execution_count": 104,
   "metadata": {},
   "outputs": [
    {
     "data": {
      "text/plain": [
       "array([3.29623334])"
      ]
     },
     "execution_count": 104,
     "metadata": {},
     "output_type": "execute_result"
    }
   ],
   "source": [
    "X_peggy_lee = df_with_dummies[\n",
    "    df_with_dummies['id'] == '1pOs0EmRYSB2qHkq3RqQ3F'].drop(\n",
    "    ['name', 'year', 'id', 'name', 'release_date', 'popularity'], axis=1)\n",
    "peggy_lee_prediction = reg.predict(X_peggy_lee)\n",
    "peggy_lee_prediction"
   ]
  },
  {
   "cell_type": "markdown",
   "metadata": {},
   "source": [
    "Thanks for reading!"
   ]
  },
  {
   "cell_type": "markdown",
   "metadata": {},
   "source": [
    "## References and credit:\n",
    "    - Found this article later - he doesn't use a linear regression but gets a very similar result with his graphs! https://towardsdatascience.com/what-makes-a-song-likeable-dbfdb7abe404#:~:text=The%20Spotify%20Web%20API%20developer,beat%20strength%2C%20and%20overall%20regularity.&text=Tempo%3A%20The%20overall%20estimated%20tempo,beats%20per%20minute%20(BPM).\n",
    "    - Used this solution for some grouping problem: https://github.com/softhints/python/blob/master/notebooks/pandas/Pandas_count_values_in_a_column_of_type_list.ipynb\n",
    "    - I'm currently following the Udacity Data Science Nanodegree, so a lot of this analysis was inspired from the lessons in that course."
   ]
  }
 ],
 "metadata": {
  "kernelspec": {
   "display_name": "Python 3",
   "language": "python",
   "name": "python3"
  },
  "language_info": {
   "codemirror_mode": {
    "name": "ipython",
    "version": 3
   },
   "file_extension": ".py",
   "mimetype": "text/x-python",
   "name": "python",
   "nbconvert_exporter": "python",
   "pygments_lexer": "ipython3",
   "version": "3.7.3"
  }
 },
 "nbformat": 4,
 "nbformat_minor": 4
}
